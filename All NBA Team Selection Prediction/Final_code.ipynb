{
 "cells": [
  {
   "cell_type": "code",
   "execution_count": 2,
   "metadata": {},
   "outputs": [
    {
     "name": "stderr",
     "output_type": "stream",
     "text": [
      "C:\\Users\\Aravind KK\\Anaconda3\\lib\\site-packages\\statsmodels\\compat\\pandas.py:49: FutureWarning: The Panel class is removed from pandas. Accessing it from the top-level namespace will also be removed in the next version\n",
      "  data_klasses = (pandas.Series, pandas.DataFrame, pandas.Panel)\n",
      "Using TensorFlow backend.\n"
     ]
    }
   ],
   "source": [
    "### Importing all the Required Libraries\n",
    "import numpy as np\n",
    "import pandas as pd\n",
    "import seaborn as sns\n",
    "import matplotlib as plt\n",
    "from sklearn import datasets, linear_model\n",
    "from sklearn.model_selection import train_test_split\n",
    "from sklearn.linear_model import LinearRegression\n",
    "from sklearn import metrics\n",
    "import statsmodels.api as sm\n",
    "from sklearn.model_selection import train_test_split\n",
    "from sklearn.model_selection import cross_val_score\n",
    "from sklearn.model_selection import cross_val_predict\n",
    "from yellowbrick.regressor import ResidualsPlot\n",
    "from sklearn.ensemble import RandomForestRegressor\n",
    "from sklearn.svm import SVR\n",
    "from keras.models import Sequential\n",
    "from keras.layers import Dense\n",
    "from keras.wrappers.scikit_learn import KerasRegressor\n",
    "import matplotlib.pyplot as plt"
   ]
  },
  {
   "cell_type": "markdown",
   "metadata": {},
   "source": [
    "# Data Engineering "
   ]
  },
  {
   "cell_type": "markdown",
   "metadata": {},
   "source": [
    "We have taken 2 datasets.\n",
    "Dataset 1 : Season wise statistics for all the Players from year 1950, \n",
    "Dataset 2 : Season wise data of all the players who have been selected for All NBA Team from year 1984 to 2017"
   ]
  },
  {
   "cell_type": "code",
   "execution_count": 3,
   "metadata": {},
   "outputs": [],
   "source": [
    "## Importing Both the Datasets\n",
    "data= pd.read_csv(\"All.NBA.1984-2018.csv\",header=1) ## All NBA Team selection data\n",
    "stats= pd.read_csv(\"Seasons_Stats.csv\") ## Season wise stats from 1950"
   ]
  },
  {
   "cell_type": "code",
   "execution_count": 4,
   "metadata": {},
   "outputs": [
    {
     "data": {
      "text/html": [
       "<div>\n",
       "<style scoped>\n",
       "    .dataframe tbody tr th:only-of-type {\n",
       "        vertical-align: middle;\n",
       "    }\n",
       "\n",
       "    .dataframe tbody tr th {\n",
       "        vertical-align: top;\n",
       "    }\n",
       "\n",
       "    .dataframe thead th {\n",
       "        text-align: right;\n",
       "    }\n",
       "</style>\n",
       "<table border=\"1\" class=\"dataframe\">\n",
       "  <thead>\n",
       "    <tr style=\"text-align: right;\">\n",
       "      <th></th>\n",
       "      <th>Rk</th>\n",
       "      <th>Player</th>\n",
       "      <th>Season</th>\n",
       "      <th>Age</th>\n",
       "      <th>Tm</th>\n",
       "      <th>Lg</th>\n",
       "      <th>WS</th>\n",
       "      <th>G</th>\n",
       "      <th>GS</th>\n",
       "      <th>MP</th>\n",
       "      <th>...</th>\n",
       "      <th>BLK</th>\n",
       "      <th>TOV</th>\n",
       "      <th>PF</th>\n",
       "      <th>PTS</th>\n",
       "      <th>FG%</th>\n",
       "      <th>2P%</th>\n",
       "      <th>3P%</th>\n",
       "      <th>eFG%</th>\n",
       "      <th>FT%</th>\n",
       "      <th>TS%</th>\n",
       "    </tr>\n",
       "  </thead>\n",
       "  <tbody>\n",
       "    <tr>\n",
       "      <th>0</th>\n",
       "      <td>1</td>\n",
       "      <td>Michael Jordan</td>\n",
       "      <td>1987-88</td>\n",
       "      <td>24</td>\n",
       "      <td>CHI</td>\n",
       "      <td>NBA</td>\n",
       "      <td>21.2</td>\n",
       "      <td>82</td>\n",
       "      <td>82</td>\n",
       "      <td>3311</td>\n",
       "      <td>...</td>\n",
       "      <td>131</td>\n",
       "      <td>252</td>\n",
       "      <td>270</td>\n",
       "      <td>2868</td>\n",
       "      <td>0.535</td>\n",
       "      <td>0.546</td>\n",
       "      <td>0.132</td>\n",
       "      <td>0.537</td>\n",
       "      <td>0.841</td>\n",
       "      <td>0.603</td>\n",
       "    </tr>\n",
       "    <tr>\n",
       "      <th>1</th>\n",
       "      <td>2</td>\n",
       "      <td>Michael Jordan</td>\n",
       "      <td>1995-96</td>\n",
       "      <td>32</td>\n",
       "      <td>CHI</td>\n",
       "      <td>NBA</td>\n",
       "      <td>20.4</td>\n",
       "      <td>82</td>\n",
       "      <td>82</td>\n",
       "      <td>3090</td>\n",
       "      <td>...</td>\n",
       "      <td>42</td>\n",
       "      <td>197</td>\n",
       "      <td>195</td>\n",
       "      <td>2491</td>\n",
       "      <td>0.495</td>\n",
       "      <td>0.506</td>\n",
       "      <td>0.427</td>\n",
       "      <td>0.525</td>\n",
       "      <td>0.834</td>\n",
       "      <td>0.582</td>\n",
       "    </tr>\n",
       "  </tbody>\n",
       "</table>\n",
       "<p>2 rows × 33 columns</p>\n",
       "</div>"
      ],
      "text/plain": [
       "   Rk          Player   Season  Age   Tm   Lg    WS   G  GS    MP  ...  BLK  \\\n",
       "0   1  Michael Jordan  1987-88   24  CHI  NBA  21.2  82  82  3311  ...  131   \n",
       "1   2  Michael Jordan  1995-96   32  CHI  NBA  20.4  82  82  3090  ...   42   \n",
       "\n",
       "   TOV   PF   PTS    FG%    2P%    3P%   eFG%    FT%    TS%  \n",
       "0  252  270  2868  0.535  0.546  0.132  0.537  0.841  0.603  \n",
       "1  197  195  2491  0.495  0.506  0.427  0.525  0.834  0.582  \n",
       "\n",
       "[2 rows x 33 columns]"
      ]
     },
     "execution_count": 4,
     "metadata": {},
     "output_type": "execute_result"
    }
   ],
   "source": [
    "data.head(2)"
   ]
  },
  {
   "cell_type": "code",
   "execution_count": 5,
   "metadata": {},
   "outputs": [
    {
     "data": {
      "text/html": [
       "<div>\n",
       "<style scoped>\n",
       "    .dataframe tbody tr th:only-of-type {\n",
       "        vertical-align: middle;\n",
       "    }\n",
       "\n",
       "    .dataframe tbody tr th {\n",
       "        vertical-align: top;\n",
       "    }\n",
       "\n",
       "    .dataframe thead th {\n",
       "        text-align: right;\n",
       "    }\n",
       "</style>\n",
       "<table border=\"1\" class=\"dataframe\">\n",
       "  <thead>\n",
       "    <tr style=\"text-align: right;\">\n",
       "      <th></th>\n",
       "      <th>Unnamed: 0</th>\n",
       "      <th>Year</th>\n",
       "      <th>Player</th>\n",
       "      <th>Pos</th>\n",
       "      <th>Age</th>\n",
       "      <th>Tm</th>\n",
       "      <th>G</th>\n",
       "      <th>GS</th>\n",
       "      <th>MP</th>\n",
       "      <th>PER</th>\n",
       "      <th>...</th>\n",
       "      <th>FT%</th>\n",
       "      <th>ORB</th>\n",
       "      <th>DRB</th>\n",
       "      <th>TRB</th>\n",
       "      <th>AST</th>\n",
       "      <th>STL</th>\n",
       "      <th>BLK</th>\n",
       "      <th>TOV</th>\n",
       "      <th>PF</th>\n",
       "      <th>PTS</th>\n",
       "    </tr>\n",
       "  </thead>\n",
       "  <tbody>\n",
       "    <tr>\n",
       "      <th>0</th>\n",
       "      <td>0</td>\n",
       "      <td>1950.0</td>\n",
       "      <td>Curly Armstrong</td>\n",
       "      <td>G-F</td>\n",
       "      <td>31.0</td>\n",
       "      <td>FTW</td>\n",
       "      <td>63.0</td>\n",
       "      <td>NaN</td>\n",
       "      <td>NaN</td>\n",
       "      <td>NaN</td>\n",
       "      <td>...</td>\n",
       "      <td>0.705</td>\n",
       "      <td>NaN</td>\n",
       "      <td>NaN</td>\n",
       "      <td>NaN</td>\n",
       "      <td>176.0</td>\n",
       "      <td>NaN</td>\n",
       "      <td>NaN</td>\n",
       "      <td>NaN</td>\n",
       "      <td>217.0</td>\n",
       "      <td>458.0</td>\n",
       "    </tr>\n",
       "    <tr>\n",
       "      <th>1</th>\n",
       "      <td>1</td>\n",
       "      <td>1950.0</td>\n",
       "      <td>Cliff Barker</td>\n",
       "      <td>SG</td>\n",
       "      <td>29.0</td>\n",
       "      <td>INO</td>\n",
       "      <td>49.0</td>\n",
       "      <td>NaN</td>\n",
       "      <td>NaN</td>\n",
       "      <td>NaN</td>\n",
       "      <td>...</td>\n",
       "      <td>0.708</td>\n",
       "      <td>NaN</td>\n",
       "      <td>NaN</td>\n",
       "      <td>NaN</td>\n",
       "      <td>109.0</td>\n",
       "      <td>NaN</td>\n",
       "      <td>NaN</td>\n",
       "      <td>NaN</td>\n",
       "      <td>99.0</td>\n",
       "      <td>279.0</td>\n",
       "    </tr>\n",
       "  </tbody>\n",
       "</table>\n",
       "<p>2 rows × 53 columns</p>\n",
       "</div>"
      ],
      "text/plain": [
       "   Unnamed: 0    Year           Player  Pos   Age   Tm     G  GS  MP  PER  \\\n",
       "0           0  1950.0  Curly Armstrong  G-F  31.0  FTW  63.0 NaN NaN  NaN   \n",
       "1           1  1950.0     Cliff Barker   SG  29.0  INO  49.0 NaN NaN  NaN   \n",
       "\n",
       "   ...    FT%  ORB  DRB  TRB    AST  STL  BLK  TOV     PF    PTS  \n",
       "0  ...  0.705  NaN  NaN  NaN  176.0  NaN  NaN  NaN  217.0  458.0  \n",
       "1  ...  0.708  NaN  NaN  NaN  109.0  NaN  NaN  NaN   99.0  279.0  \n",
       "\n",
       "[2 rows x 53 columns]"
      ]
     },
     "execution_count": 5,
     "metadata": {},
     "output_type": "execute_result"
    }
   ],
   "source": [
    "stats.head(2)"
   ]
  },
  {
   "cell_type": "code",
   "execution_count": 6,
   "metadata": {},
   "outputs": [],
   "source": [
    "### As we have All NBA Team data only from Year 1985, We filter the data for the year from 1985 to 2018.  \n",
    "d=stats[(stats.Year >= 1985.0)]\n",
    "d=d.reset_index()\n",
    "d.Player = d.Player.apply(lambda x: x.strip('*')) ## Few players name end with '*' in the dataset hence it is removed "
   ]
  },
  {
   "cell_type": "markdown",
   "metadata": {},
   "source": [
    "We are creating 2 new columns for All NBA team Selection data. \n",
    "Column 1('Selected'): value 1 assigned to all the rows, so that the rows can be identified after merging happens with \n",
    "       stats dataset.\n",
    "    Column 2('Year') : Season column in the dataset is converted to Year, so that it can be merged with the stats dataset "
   ]
  },
  {
   "cell_type": "code",
   "execution_count": 7,
   "metadata": {},
   "outputs": [],
   "source": [
    "data[\"Selected\"]= 1\n",
    "data['Year']=data['Season'].str[:4]\n",
    "data.Year=data.Year.astype(float)\n",
    "data.Year=data.Year+1\n",
    "d2 = data[['Player','Year','Selected','Tm']]"
   ]
  },
  {
   "cell_type": "code",
   "execution_count": 8,
   "metadata": {},
   "outputs": [
    {
     "data": {
      "text/plain": [
       "1    475\n",
       "Name: Selected, dtype: int64"
      ]
     },
     "execution_count": 8,
     "metadata": {},
     "output_type": "execute_result"
    }
   ],
   "source": [
    "data.Selected.value_counts()"
   ]
  },
  {
   "cell_type": "code",
   "execution_count": 9,
   "metadata": {},
   "outputs": [],
   "source": [
    "## Required columns from Both the datasets got merged with Year, Player and Team name\n",
    "## Team name also got used for merging purpose as same player names appear at times in two different teams\n",
    "final_data=pd.merge(d,d2,how='left',on=['Year','Player','Tm'])"
   ]
  },
  {
   "cell_type": "code",
   "execution_count": 10,
   "metadata": {},
   "outputs": [
    {
     "data": {
      "text/plain": [
       "1.0    474\n",
       "Name: Selected, dtype: int64"
      ]
     },
     "execution_count": 10,
     "metadata": {},
     "output_type": "execute_result"
    }
   ],
   "source": [
    "final_data.Selected.value_counts()"
   ]
  },
  {
   "cell_type": "code",
   "execution_count": 11,
   "metadata": {},
   "outputs": [
    {
     "name": "stdout",
     "output_type": "stream",
     "text": [
      "Metta World Peace\n"
     ]
    }
   ],
   "source": [
    "#### from 475 rows with value '1' froms 'data' dataframe, we got only 474 rows with value '1' in final data\n",
    "### Below code to find the last missing row with value '1\n",
    "x=final_data[final_data.Selected==1].Player.unique()\n",
    "y=d2.Player.unique()\n",
    "## Assigning x, y  as Lists \n",
    "x=x.tolist()\n",
    "y=y.tolist()\n",
    "### Finding the last Missing Player\n",
    "for items in y:\n",
    "    if (items in x): \n",
    "        pass\n",
    "    else:\n",
    "        print(items)  "
   ]
  },
  {
   "cell_type": "markdown",
   "metadata": {},
   "source": [
    "Player Metta World Peace's final name 'Peace' was missiing in the All NBA team selection data hence the discrepancy "
   ]
  },
  {
   "cell_type": "code",
   "execution_count": 12,
   "metadata": {},
   "outputs": [
    {
     "data": {
      "text/html": [
       "<div>\n",
       "<style scoped>\n",
       "    .dataframe tbody tr th:only-of-type {\n",
       "        vertical-align: middle;\n",
       "    }\n",
       "\n",
       "    .dataframe tbody tr th {\n",
       "        vertical-align: top;\n",
       "    }\n",
       "\n",
       "    .dataframe thead th {\n",
       "        text-align: right;\n",
       "    }\n",
       "</style>\n",
       "<table border=\"1\" class=\"dataframe\">\n",
       "  <thead>\n",
       "    <tr style=\"text-align: right;\">\n",
       "      <th></th>\n",
       "      <th>Rk</th>\n",
       "      <th>Player</th>\n",
       "      <th>Season</th>\n",
       "      <th>Age</th>\n",
       "      <th>Tm</th>\n",
       "      <th>Lg</th>\n",
       "      <th>WS</th>\n",
       "      <th>G</th>\n",
       "      <th>GS</th>\n",
       "      <th>MP</th>\n",
       "      <th>...</th>\n",
       "      <th>PF</th>\n",
       "      <th>PTS</th>\n",
       "      <th>FG%</th>\n",
       "      <th>2P%</th>\n",
       "      <th>3P%</th>\n",
       "      <th>eFG%</th>\n",
       "      <th>FT%</th>\n",
       "      <th>TS%</th>\n",
       "      <th>Selected</th>\n",
       "      <th>Year</th>\n",
       "    </tr>\n",
       "  </thead>\n",
       "  <tbody>\n",
       "    <tr>\n",
       "      <th>421</th>\n",
       "      <td>422</td>\n",
       "      <td>Metta World Peace</td>\n",
       "      <td>2003-04</td>\n",
       "      <td>24</td>\n",
       "      <td>IND</td>\n",
       "      <td>NBA</td>\n",
       "      <td>8.0</td>\n",
       "      <td>73</td>\n",
       "      <td>71</td>\n",
       "      <td>2714</td>\n",
       "      <td>...</td>\n",
       "      <td>194</td>\n",
       "      <td>1333</td>\n",
       "      <td>0.421</td>\n",
       "      <td>0.452</td>\n",
       "      <td>0.31</td>\n",
       "      <td>0.455</td>\n",
       "      <td>0.733</td>\n",
       "      <td>0.511</td>\n",
       "      <td>1</td>\n",
       "      <td>2004.0</td>\n",
       "    </tr>\n",
       "  </tbody>\n",
       "</table>\n",
       "<p>1 rows × 35 columns</p>\n",
       "</div>"
      ],
      "text/plain": [
       "      Rk             Player   Season  Age   Tm   Lg   WS   G  GS    MP  ...  \\\n",
       "421  422  Metta World Peace  2003-04   24  IND  NBA  8.0  73  71  2714  ...   \n",
       "\n",
       "      PF   PTS    FG%    2P%   3P%   eFG%    FT%    TS%  Selected    Year  \n",
       "421  194  1333  0.421  0.452  0.31  0.455  0.733  0.511         1  2004.0  \n",
       "\n",
       "[1 rows x 35 columns]"
      ]
     },
     "execution_count": 12,
     "metadata": {},
     "output_type": "execute_result"
    }
   ],
   "source": [
    "data[data.Player==\"Metta World Peace\"]"
   ]
  },
  {
   "cell_type": "code",
   "execution_count": 13,
   "metadata": {},
   "outputs": [
    {
     "data": {
      "text/html": [
       "<div>\n",
       "<style scoped>\n",
       "    .dataframe tbody tr th:only-of-type {\n",
       "        vertical-align: middle;\n",
       "    }\n",
       "\n",
       "    .dataframe tbody tr th {\n",
       "        vertical-align: top;\n",
       "    }\n",
       "\n",
       "    .dataframe thead th {\n",
       "        text-align: right;\n",
       "    }\n",
       "</style>\n",
       "<table border=\"1\" class=\"dataframe\">\n",
       "  <thead>\n",
       "    <tr style=\"text-align: right;\">\n",
       "      <th></th>\n",
       "      <th>index</th>\n",
       "      <th>Unnamed: 0</th>\n",
       "      <th>Year</th>\n",
       "      <th>Player</th>\n",
       "      <th>Pos</th>\n",
       "      <th>Age</th>\n",
       "      <th>Tm</th>\n",
       "      <th>G</th>\n",
       "      <th>GS</th>\n",
       "      <th>MP</th>\n",
       "      <th>...</th>\n",
       "      <th>ORB</th>\n",
       "      <th>DRB</th>\n",
       "      <th>TRB</th>\n",
       "      <th>AST</th>\n",
       "      <th>STL</th>\n",
       "      <th>BLK</th>\n",
       "      <th>TOV</th>\n",
       "      <th>PF</th>\n",
       "      <th>PTS</th>\n",
       "      <th>Selected</th>\n",
       "    </tr>\n",
       "  </thead>\n",
       "  <tbody>\n",
       "    <tr>\n",
       "      <th>7389</th>\n",
       "      <td>14963</td>\n",
       "      <td>14963</td>\n",
       "      <td>2000.0</td>\n",
       "      <td>Metta World</td>\n",
       "      <td>SF</td>\n",
       "      <td>20.0</td>\n",
       "      <td>CHI</td>\n",
       "      <td>72.0</td>\n",
       "      <td>63.0</td>\n",
       "      <td>2238.0</td>\n",
       "      <td>...</td>\n",
       "      <td>62.0</td>\n",
       "      <td>246.0</td>\n",
       "      <td>308.0</td>\n",
       "      <td>202.0</td>\n",
       "      <td>119.0</td>\n",
       "      <td>39.0</td>\n",
       "      <td>166.0</td>\n",
       "      <td>159.0</td>\n",
       "      <td>866.0</td>\n",
       "      <td>NaN</td>\n",
       "    </tr>\n",
       "    <tr>\n",
       "      <th>7926</th>\n",
       "      <td>15501</td>\n",
       "      <td>15501</td>\n",
       "      <td>2001.0</td>\n",
       "      <td>Metta World</td>\n",
       "      <td>SF</td>\n",
       "      <td>21.0</td>\n",
       "      <td>CHI</td>\n",
       "      <td>76.0</td>\n",
       "      <td>74.0</td>\n",
       "      <td>2363.0</td>\n",
       "      <td>...</td>\n",
       "      <td>59.0</td>\n",
       "      <td>235.0</td>\n",
       "      <td>294.0</td>\n",
       "      <td>228.0</td>\n",
       "      <td>152.0</td>\n",
       "      <td>45.0</td>\n",
       "      <td>159.0</td>\n",
       "      <td>254.0</td>\n",
       "      <td>907.0</td>\n",
       "      <td>NaN</td>\n",
       "    </tr>\n",
       "  </tbody>\n",
       "</table>\n",
       "<p>2 rows × 55 columns</p>\n",
       "</div>"
      ],
      "text/plain": [
       "      index  Unnamed: 0    Year       Player Pos   Age   Tm     G    GS  \\\n",
       "7389  14963       14963  2000.0  Metta World  SF  20.0  CHI  72.0  63.0   \n",
       "7926  15501       15501  2001.0  Metta World  SF  21.0  CHI  76.0  74.0   \n",
       "\n",
       "          MP  ...   ORB    DRB    TRB    AST    STL   BLK    TOV     PF  \\\n",
       "7389  2238.0  ...  62.0  246.0  308.0  202.0  119.0  39.0  166.0  159.0   \n",
       "7926  2363.0  ...  59.0  235.0  294.0  228.0  152.0  45.0  159.0  254.0   \n",
       "\n",
       "        PTS  Selected  \n",
       "7389  866.0       NaN  \n",
       "7926  907.0       NaN  \n",
       "\n",
       "[2 rows x 55 columns]"
      ]
     },
     "execution_count": 13,
     "metadata": {},
     "output_type": "execute_result"
    }
   ],
   "source": [
    "final_data[final_data.Player=='Metta World'].head(2)"
   ]
  },
  {
   "cell_type": "code",
   "execution_count": 14,
   "metadata": {},
   "outputs": [
    {
     "name": "stderr",
     "output_type": "stream",
     "text": [
      "C:\\Users\\Aravind KK\\Anaconda3\\lib\\site-packages\\ipykernel_launcher.py:2: FutureWarning: \n",
      ".ix is deprecated. Please use\n",
      ".loc for label based indexing or\n",
      ".iloc for positional indexing\n",
      "\n",
      "See the documentation here:\n",
      "http://pandas.pydata.org/pandas-docs/stable/user_guide/indexing.html#ix-indexer-is-deprecated\n",
      "  \n"
     ]
    }
   ],
   "source": [
    "## For the Year 2004,Player Metta World's Selection got converted to 1 manually\n",
    "final_data.ix[9492,'Selected']=1"
   ]
  },
  {
   "cell_type": "code",
   "execution_count": 15,
   "metadata": {},
   "outputs": [
    {
     "data": {
      "text/plain": [
       "1.0    475\n",
       "Name: Selected, dtype: int64"
      ]
     },
     "execution_count": 15,
     "metadata": {},
     "output_type": "execute_result"
    }
   ],
   "source": [
    "### Our Data is perfectly alligned \n",
    "final_data.Selected.value_counts()"
   ]
  },
  {
   "cell_type": "code",
   "execution_count": 16,
   "metadata": {},
   "outputs": [],
   "source": [
    "### We will fill the Selected column with value '0' for players who have not been selected to the ALL NBA Team \n",
    "final_data['Selected'] = final_data['Selected'].fillna(0)"
   ]
  },
  {
   "cell_type": "code",
   "execution_count": 17,
   "metadata": {},
   "outputs": [
    {
     "data": {
      "text/plain": [
       "0.0    16626\n",
       "1.0      475\n",
       "Name: Selected, dtype: int64"
      ]
     },
     "execution_count": 17,
     "metadata": {},
     "output_type": "execute_result"
    }
   ],
   "source": [
    "final_data.Selected.value_counts()        "
   ]
  },
  {
   "cell_type": "markdown",
   "metadata": {},
   "source": [
    "We have the required data in a single Dataframe. We will remove the unncessary columns and the columns with high amount of correlations. Highly correlated columns will create Collinearity problem hence we will remove them to avoid it.  "
   ]
  },
  {
   "cell_type": "code",
   "execution_count": 18,
   "metadata": {},
   "outputs": [
    {
     "data": {
      "text/plain": [
       "index             0\n",
       "Unnamed: 0        0\n",
       "Year              0\n",
       "Player            0\n",
       "Pos               0\n",
       "Age               0\n",
       "Tm                0\n",
       "G                 0\n",
       "GS                0\n",
       "MP                0\n",
       "PER               5\n",
       "TS%              75\n",
       "3PAr             86\n",
       "FTr              86\n",
       "ORB%              5\n",
       "DRB%              5\n",
       "TRB%              5\n",
       "AST%              5\n",
       "STL%              5\n",
       "BLK%              5\n",
       "TOV%             60\n",
       "USG%              5\n",
       "blanl         17101\n",
       "OWS               0\n",
       "DWS               0\n",
       "WS                0\n",
       "WS/48             5\n",
       "blank2        17101\n",
       "OBPM              0\n",
       "DBPM              0\n",
       "BPM               0\n",
       "VORP              0\n",
       "FG                0\n",
       "FGA               0\n",
       "FG%              86\n",
       "3P                0\n",
       "3PA               0\n",
       "3P%            3096\n",
       "2P                0\n",
       "2PA               0\n",
       "2P%             115\n",
       "eFG%             86\n",
       "FT                0\n",
       "FTA               0\n",
       "FT%             705\n",
       "ORB               0\n",
       "DRB               0\n",
       "TRB               0\n",
       "AST               0\n",
       "STL               0\n",
       "BLK               0\n",
       "TOV               0\n",
       "PF                0\n",
       "PTS               0\n",
       "Selected          0\n",
       "dtype: int64"
      ]
     },
     "execution_count": 18,
     "metadata": {},
     "output_type": "execute_result"
    }
   ],
   "source": [
    "final_data.isnull().sum()"
   ]
  },
  {
   "cell_type": "code",
   "execution_count": 19,
   "metadata": {},
   "outputs": [],
   "source": [
    "#### Removing the Blank Columns and unnecessary columns\n",
    "final_data=final_data.drop(['blank2','blanl','index','Unnamed: 0'],axis=1)"
   ]
  },
  {
   "cell_type": "code",
   "execution_count": 20,
   "metadata": {},
   "outputs": [
    {
     "data": {
      "text/plain": [
       "<matplotlib.axes._subplots.AxesSubplot at 0x164ae0190f0>"
      ]
     },
     "execution_count": 20,
     "metadata": {},
     "output_type": "execute_result"
    },
    {
     "data": {
      "image/png": "[encoded data removed]",
      "text/plain": [
       "<Figure size 1080x1080 with 2 Axes>"
      ]
     },
     "metadata": {
      "needs_background": "light"
     },
     "output_type": "display_data"
    }
   ],
   "source": [
    "#### Finding Correlation among the variables \n",
    "corr=final_data.corr(method='pearson')\n",
    "# plot the heatmap\n",
    "\n",
    "fig, ax = plt.subplots(figsize=(15,15))         # Sample figsize in inches\n",
    "\n",
    "sns.heatmap(corr, \n",
    "        xticklabels=corr.columns,\n",
    "        yticklabels=corr.columns)"
   ]
  },
  {
   "cell_type": "markdown",
   "metadata": {},
   "source": [
    "Columns with correlation more than 0.95 is removed"
   ]
  },
  {
   "cell_type": "code",
   "execution_count": 21,
   "metadata": {},
   "outputs": [],
   "source": [
    "## correlation matrix\n",
    "corr_matrix = final_data.corr().abs()\n",
    "upper = corr_matrix.where(np.triu(np.ones(corr_matrix.shape), k=1).astype(np.bool))\n",
    "\n",
    "## Index of feature columns with correlation greater than 0.95\n",
    "to_drop = [column for column in upper.columns if any(upper[column] > 0.95)]\n",
    "\n",
    "## Dropping the columns with correlation greater than 0.95 \n",
    "df=final_data.drop(final_data[to_drop], axis=1)"
   ]
  },
  {
   "cell_type": "code",
   "execution_count": 22,
   "metadata": {},
   "outputs": [
    {
     "data": {
      "text/html": [
       "<div>\n",
       "<style scoped>\n",
       "    .dataframe tbody tr th:only-of-type {\n",
       "        vertical-align: middle;\n",
       "    }\n",
       "\n",
       "    .dataframe tbody tr th {\n",
       "        vertical-align: top;\n",
       "    }\n",
       "\n",
       "    .dataframe thead th {\n",
       "        text-align: right;\n",
       "    }\n",
       "</style>\n",
       "<table border=\"1\" class=\"dataframe\">\n",
       "  <thead>\n",
       "    <tr style=\"text-align: right;\">\n",
       "      <th></th>\n",
       "      <th>Year</th>\n",
       "      <th>Age</th>\n",
       "      <th>G</th>\n",
       "      <th>GS</th>\n",
       "      <th>MP</th>\n",
       "      <th>PER</th>\n",
       "      <th>TS%</th>\n",
       "      <th>3PAr</th>\n",
       "      <th>FTr</th>\n",
       "      <th>ORB%</th>\n",
       "      <th>...</th>\n",
       "      <th>FT</th>\n",
       "      <th>FT%</th>\n",
       "      <th>ORB</th>\n",
       "      <th>DRB</th>\n",
       "      <th>AST</th>\n",
       "      <th>STL</th>\n",
       "      <th>BLK</th>\n",
       "      <th>TOV</th>\n",
       "      <th>PF</th>\n",
       "      <th>Selected</th>\n",
       "    </tr>\n",
       "  </thead>\n",
       "  <tbody>\n",
       "    <tr>\n",
       "      <th>count</th>\n",
       "      <td>17101.000000</td>\n",
       "      <td>17101.000000</td>\n",
       "      <td>17101.000000</td>\n",
       "      <td>17101.000000</td>\n",
       "      <td>17101.000000</td>\n",
       "      <td>17096.000000</td>\n",
       "      <td>17026.000000</td>\n",
       "      <td>17015.000000</td>\n",
       "      <td>17015.000000</td>\n",
       "      <td>17096.000000</td>\n",
       "      <td>...</td>\n",
       "      <td>17101.000000</td>\n",
       "      <td>16396.000000</td>\n",
       "      <td>17101.000000</td>\n",
       "      <td>17101.000000</td>\n",
       "      <td>17101.000000</td>\n",
       "      <td>17101.000000</td>\n",
       "      <td>17101.000000</td>\n",
       "      <td>17101.000000</td>\n",
       "      <td>17101.000000</td>\n",
       "      <td>17101.000000</td>\n",
       "    </tr>\n",
       "    <tr>\n",
       "      <th>mean</th>\n",
       "      <td>2002.225659</td>\n",
       "      <td>26.919829</td>\n",
       "      <td>48.949944</td>\n",
       "      <td>23.377288</td>\n",
       "      <td>1144.462546</td>\n",
       "      <td>12.369771</td>\n",
       "      <td>0.503502</td>\n",
       "      <td>0.172665</td>\n",
       "      <td>0.318334</td>\n",
       "      <td>6.093244</td>\n",
       "      <td>...</td>\n",
       "      <td>91.021227</td>\n",
       "      <td>0.721709</td>\n",
       "      <td>57.998012</td>\n",
       "      <td>142.032922</td>\n",
       "      <td>107.456815</td>\n",
       "      <td>37.735922</td>\n",
       "      <td>23.622537</td>\n",
       "      <td>69.641834</td>\n",
       "      <td>104.837904</td>\n",
       "      <td>0.027776</td>\n",
       "    </tr>\n",
       "    <tr>\n",
       "      <th>std</th>\n",
       "      <td>9.319357</td>\n",
       "      <td>4.061293</td>\n",
       "      <td>26.614778</td>\n",
       "      <td>28.494257</td>\n",
       "      <td>921.553601</td>\n",
       "      <td>6.304928</td>\n",
       "      <td>0.096096</td>\n",
       "      <td>0.191354</td>\n",
       "      <td>0.233968</td>\n",
       "      <td>5.049557</td>\n",
       "      <td>...</td>\n",
       "      <td>106.135142</td>\n",
       "      <td>0.148591</td>\n",
       "      <td>64.530333</td>\n",
       "      <td>140.769340</td>\n",
       "      <td>136.383563</td>\n",
       "      <td>37.144486</td>\n",
       "      <td>35.830767</td>\n",
       "      <td>64.757108</td>\n",
       "      <td>78.856026</td>\n",
       "      <td>0.164336</td>\n",
       "    </tr>\n",
       "    <tr>\n",
       "      <th>min</th>\n",
       "      <td>1985.000000</td>\n",
       "      <td>18.000000</td>\n",
       "      <td>1.000000</td>\n",
       "      <td>0.000000</td>\n",
       "      <td>0.000000</td>\n",
       "      <td>-90.600000</td>\n",
       "      <td>0.000000</td>\n",
       "      <td>0.000000</td>\n",
       "      <td>0.000000</td>\n",
       "      <td>0.000000</td>\n",
       "      <td>...</td>\n",
       "      <td>0.000000</td>\n",
       "      <td>0.000000</td>\n",
       "      <td>0.000000</td>\n",
       "      <td>0.000000</td>\n",
       "      <td>0.000000</td>\n",
       "      <td>0.000000</td>\n",
       "      <td>0.000000</td>\n",
       "      <td>0.000000</td>\n",
       "      <td>0.000000</td>\n",
       "      <td>0.000000</td>\n",
       "    </tr>\n",
       "    <tr>\n",
       "      <th>25%</th>\n",
       "      <td>1995.000000</td>\n",
       "      <td>24.000000</td>\n",
       "      <td>25.000000</td>\n",
       "      <td>0.000000</td>\n",
       "      <td>299.000000</td>\n",
       "      <td>9.600000</td>\n",
       "      <td>0.472000</td>\n",
       "      <td>0.006000</td>\n",
       "      <td>0.194000</td>\n",
       "      <td>2.400000</td>\n",
       "      <td>...</td>\n",
       "      <td>14.000000</td>\n",
       "      <td>0.658000</td>\n",
       "      <td>11.000000</td>\n",
       "      <td>31.000000</td>\n",
       "      <td>16.000000</td>\n",
       "      <td>8.000000</td>\n",
       "      <td>3.000000</td>\n",
       "      <td>17.000000</td>\n",
       "      <td>33.000000</td>\n",
       "      <td>0.000000</td>\n",
       "    </tr>\n",
       "    <tr>\n",
       "      <th>50%</th>\n",
       "      <td>2003.000000</td>\n",
       "      <td>26.000000</td>\n",
       "      <td>53.000000</td>\n",
       "      <td>8.000000</td>\n",
       "      <td>958.000000</td>\n",
       "      <td>12.600000</td>\n",
       "      <td>0.516000</td>\n",
       "      <td>0.092000</td>\n",
       "      <td>0.285000</td>\n",
       "      <td>5.100000</td>\n",
       "      <td>...</td>\n",
       "      <td>53.000000</td>\n",
       "      <td>0.750000</td>\n",
       "      <td>34.000000</td>\n",
       "      <td>103.000000</td>\n",
       "      <td>58.000000</td>\n",
       "      <td>27.000000</td>\n",
       "      <td>11.000000</td>\n",
       "      <td>52.000000</td>\n",
       "      <td>95.000000</td>\n",
       "      <td>0.000000</td>\n",
       "    </tr>\n",
       "    <tr>\n",
       "      <th>75%</th>\n",
       "      <td>2010.000000</td>\n",
       "      <td>30.000000</td>\n",
       "      <td>74.000000</td>\n",
       "      <td>45.000000</td>\n",
       "      <td>1863.000000</td>\n",
       "      <td>15.600000</td>\n",
       "      <td>0.552000</td>\n",
       "      <td>0.309000</td>\n",
       "      <td>0.394000</td>\n",
       "      <td>8.900000</td>\n",
       "      <td>...</td>\n",
       "      <td>130.000000</td>\n",
       "      <td>0.815000</td>\n",
       "      <td>84.000000</td>\n",
       "      <td>207.000000</td>\n",
       "      <td>145.000000</td>\n",
       "      <td>56.000000</td>\n",
       "      <td>29.000000</td>\n",
       "      <td>106.000000</td>\n",
       "      <td>164.000000</td>\n",
       "      <td>0.000000</td>\n",
       "    </tr>\n",
       "    <tr>\n",
       "      <th>max</th>\n",
       "      <td>2019.000000</td>\n",
       "      <td>44.000000</td>\n",
       "      <td>85.000000</td>\n",
       "      <td>83.000000</td>\n",
       "      <td>3533.000000</td>\n",
       "      <td>129.100000</td>\n",
       "      <td>1.136000</td>\n",
       "      <td>1.000000</td>\n",
       "      <td>6.000000</td>\n",
       "      <td>100.000000</td>\n",
       "      <td>...</td>\n",
       "      <td>833.000000</td>\n",
       "      <td>1.000000</td>\n",
       "      <td>523.000000</td>\n",
       "      <td>1007.000000</td>\n",
       "      <td>1164.000000</td>\n",
       "      <td>301.000000</td>\n",
       "      <td>456.000000</td>\n",
       "      <td>464.000000</td>\n",
       "      <td>371.000000</td>\n",
       "      <td>1.000000</td>\n",
       "    </tr>\n",
       "  </tbody>\n",
       "</table>\n",
       "<p>8 rows × 41 columns</p>\n",
       "</div>"
      ],
      "text/plain": [
       "               Year           Age             G            GS            MP  \\\n",
       "count  17101.000000  17101.000000  17101.000000  17101.000000  17101.000000   \n",
       "mean    2002.225659     26.919829     48.949944     23.377288   1144.462546   \n",
       "std        9.319357      4.061293     26.614778     28.494257    921.553601   \n",
       "min     1985.000000     18.000000      1.000000      0.000000      0.000000   \n",
       "25%     1995.000000     24.000000     25.000000      0.000000    299.000000   \n",
       "50%     2003.000000     26.000000     53.000000      8.000000    958.000000   \n",
       "75%     2010.000000     30.000000     74.000000     45.000000   1863.000000   \n",
       "max     2019.000000     44.000000     85.000000     83.000000   3533.000000   \n",
       "\n",
       "                PER           TS%          3PAr           FTr          ORB%  \\\n",
       "count  17096.000000  17026.000000  17015.000000  17015.000000  17096.000000   \n",
       "mean      12.369771      0.503502      0.172665      0.318334      6.093244   \n",
       "std        6.304928      0.096096      0.191354      0.233968      5.049557   \n",
       "min      -90.600000      0.000000      0.000000      0.000000      0.000000   \n",
       "25%        9.600000      0.472000      0.006000      0.194000      2.400000   \n",
       "50%       12.600000      0.516000      0.092000      0.285000      5.100000   \n",
       "75%       15.600000      0.552000      0.309000      0.394000      8.900000   \n",
       "max      129.100000      1.136000      1.000000      6.000000    100.000000   \n",
       "\n",
       "       ...            FT           FT%           ORB           DRB  \\\n",
       "count  ...  17101.000000  16396.000000  17101.000000  17101.000000   \n",
       "mean   ...     91.021227      0.721709     57.998012    142.032922   \n",
       "std    ...    106.135142      0.148591     64.530333    140.769340   \n",
       "min    ...      0.000000      0.000000      0.000000      0.000000   \n",
       "25%    ...     14.000000      0.658000     11.000000     31.000000   \n",
       "50%    ...     53.000000      0.750000     34.000000    103.000000   \n",
       "75%    ...    130.000000      0.815000     84.000000    207.000000   \n",
       "max    ...    833.000000      1.000000    523.000000   1007.000000   \n",
       "\n",
       "                AST           STL           BLK           TOV            PF  \\\n",
       "count  17101.000000  17101.000000  17101.000000  17101.000000  17101.000000   \n",
       "mean     107.456815     37.735922     23.622537     69.641834    104.837904   \n",
       "std      136.383563     37.144486     35.830767     64.757108     78.856026   \n",
       "min        0.000000      0.000000      0.000000      0.000000      0.000000   \n",
       "25%       16.000000      8.000000      3.000000     17.000000     33.000000   \n",
       "50%       58.000000     27.000000     11.000000     52.000000     95.000000   \n",
       "75%      145.000000     56.000000     29.000000    106.000000    164.000000   \n",
       "max     1164.000000    301.000000    456.000000    464.000000    371.000000   \n",
       "\n",
       "           Selected  \n",
       "count  17101.000000  \n",
       "mean       0.027776  \n",
       "std        0.164336  \n",
       "min        0.000000  \n",
       "25%        0.000000  \n",
       "50%        0.000000  \n",
       "75%        0.000000  \n",
       "max        1.000000  \n",
       "\n",
       "[8 rows x 41 columns]"
      ]
     },
     "execution_count": 22,
     "metadata": {},
     "output_type": "execute_result"
    }
   ],
   "source": [
    "### Stastistics of the Dataset\n",
    "df.describe()"
   ]
  },
  {
   "cell_type": "code",
   "execution_count": 23,
   "metadata": {},
   "outputs": [
    {
     "data": {
      "text/plain": [
       "Index(['Year', 'Player', 'Pos', 'Age', 'Tm', 'G', 'GS', 'MP', 'PER', 'TS%',\n",
       "       '3PAr', 'FTr', 'ORB%', 'DRB%', 'TRB%', 'AST%', 'STL%', 'BLK%', 'TOV%',\n",
       "       'USG%', 'OWS', 'DWS', 'WS', 'WS/48', 'OBPM', 'DBPM', 'BPM', 'VORP',\n",
       "       'FG', 'FG%', '3P', '3P%', '2P%', 'eFG%', 'FT', 'FT%', 'ORB', 'DRB',\n",
       "       'AST', 'STL', 'BLK', 'TOV', 'PF', 'Selected'],\n",
       "      dtype='object')"
      ]
     },
     "execution_count": 23,
     "metadata": {},
     "output_type": "execute_result"
    }
   ],
   "source": [
    "df.columns"
   ]
  },
  {
   "cell_type": "markdown",
   "metadata": {},
   "source": [
    "We will see a Box Plot which shows the various Statistical Difference between players who have won the awards and players who have not won the awards. "
   ]
  },
  {
   "cell_type": "code",
   "execution_count": 24,
   "metadata": {},
   "outputs": [
    {
     "data": {
      "text/plain": [
       "<matplotlib.axes._subplots.AxesSubplot at 0x164ae287f98>"
      ]
     },
     "execution_count": 24,
     "metadata": {},
     "output_type": "execute_result"
    },
    {
     "data": {
      "image/png": "[encoded data removed]",
      "text/plain": [
       "<Figure size 1440x576 with 8 Axes>"
      ]
     },
     "metadata": {},
     "output_type": "display_data"
    }
   ],
   "source": [
    "### Visualizing the Important Statistics for a player with Box Plot \n",
    "sns.set(style=\"white\", palette=\"muted\", color_codes=True)\n",
    "rs = np.random.RandomState(10)\n",
    "f, axes = plt.subplots(2, 4, figsize=(20, 8))\n",
    "sns.despine(left=True)\n",
    "sns.boxplot(data = df, y = 'GS', x = 'Selected',ax=axes[0, 0])\n",
    "sns.boxplot(data = df, y = 'AST%', x = 'Selected', ax=axes[0, 1])\n",
    "sns.boxplot(data = df, y = 'AST', x = 'Selected', ax=axes[0, 2])\n",
    "sns.boxplot(data = df, y = 'FG', x = 'Selected', ax=axes[0, 3])\n",
    "sns.boxplot(data = df, y = 'FT', x = 'Selected', ax=axes[1, 0])\n",
    "sns.boxplot(data = df, y = 'BLK', x = 'Selected', ax=axes[1, 1])\n",
    "sns.boxplot(data = df, y = '3P', x = 'Selected', ax=axes[1, 2])\n",
    "sns.boxplot(data = df, y = 'eFG%', x = 'Selected', ax=axes[1, 3])"
   ]
  },
  {
   "cell_type": "markdown",
   "metadata": {},
   "source": [
    "We can see the clear distinction between the players who have not won the award and player who have won the award\n",
    "in most of the statistics"
   ]
  },
  {
   "cell_type": "markdown",
   "metadata": {},
   "source": [
    "Exceptional Players tend to be the outliers from a normal group. Hence we kept the outliers for the current analysis \n",
    "as we are trying to predict the awards for the Exceptional Players."
   ]
  },
  {
   "cell_type": "code",
   "execution_count": 25,
   "metadata": {},
   "outputs": [],
   "source": [
    "#### Function to remove the Outliers\n",
    "def removing_outliers(data):\n",
    "    columns = data.columns\n",
    "    for i in columns:\n",
    "        q1 = numeric_stats.loc['25%'][i]\n",
    "        q3 = numeric_stats.loc['75%'][i]\n",
    "        IQR = q3-q1\n",
    "        LL = q1-(1.5*IQR)\n",
    "        UL = q3+(1.5*IQR)\n",
    "        data.drop(data.loc[(data[i]<=LL)|(data[i]>=UL),[i]].index, inplace=True)\n",
    "        return(data)\n",
    "    \n",
    "### The Players who receive the awards will perform exceptionally and their stats will be well above the ordinary players \n",
    "### For further analysis we will keep the outliers in the dataset and will verify the accuracies of our model. "
   ]
  },
  {
   "cell_type": "markdown",
   "metadata": {},
   "source": [
    "Imputing the Null Values of all the columns in the dataset with the Mean"
   ]
  },
  {
   "cell_type": "code",
   "execution_count": 26,
   "metadata": {},
   "outputs": [],
   "source": [
    "null_columns = df.columns[df.isnull().any()]\n",
    "for k in null_columns:\n",
    "        df[k].fillna(round(df[k].mean(),2), inplace = True)"
   ]
  },
  {
   "cell_type": "code",
   "execution_count": 27,
   "metadata": {},
   "outputs": [
    {
     "data": {
      "text/plain": [
       "Year        0\n",
       "Player      0\n",
       "Pos         0\n",
       "Age         0\n",
       "Tm          0\n",
       "G           0\n",
       "GS          0\n",
       "MP          0\n",
       "PER         0\n",
       "TS%         0\n",
       "3PAr        0\n",
       "FTr         0\n",
       "ORB%        0\n",
       "DRB%        0\n",
       "TRB%        0\n",
       "AST%        0\n",
       "STL%        0\n",
       "BLK%        0\n",
       "TOV%        0\n",
       "USG%        0\n",
       "OWS         0\n",
       "DWS         0\n",
       "WS          0\n",
       "WS/48       0\n",
       "OBPM        0\n",
       "DBPM        0\n",
       "BPM         0\n",
       "VORP        0\n",
       "FG          0\n",
       "FG%         0\n",
       "3P          0\n",
       "3P%         0\n",
       "2P%         0\n",
       "eFG%        0\n",
       "FT          0\n",
       "FT%         0\n",
       "ORB         0\n",
       "DRB         0\n",
       "AST         0\n",
       "STL         0\n",
       "BLK         0\n",
       "TOV         0\n",
       "PF          0\n",
       "Selected    0\n",
       "dtype: int64"
      ]
     },
     "execution_count": 27,
     "metadata": {},
     "output_type": "execute_result"
    }
   ],
   "source": [
    "df.isnull().sum()"
   ]
  },
  {
   "cell_type": "markdown",
   "metadata": {},
   "source": [
    "## We will remove the players statitics in seasons where they have played very less amount of time.\n",
    "#As there statistics will vary from other players who have played the season on normal conditions. \n",
    "#Example: Players who are injured mid season, Players who are kept as substitute for most of the season. \n",
    "#These data will bias the model "
   ]
  },
  {
   "cell_type": "code",
   "execution_count": 28,
   "metadata": {},
   "outputs": [],
   "source": [
    "df= df[(df.MP >= (data['MP'].min()*0.7))]\n",
    "## we have taken lowest time taken by a player to win the award and reduced the time by 30% more and kept that as the cut \n",
    "## off time for players entering the model for analysis"
   ]
  },
  {
   "cell_type": "code",
   "execution_count": 29,
   "metadata": {},
   "outputs": [
    {
     "data": {
      "text/plain": [
       "0.0    7911\n",
       "1.0     475\n",
       "Name: Selected, dtype: int64"
      ]
     },
     "execution_count": 29,
     "metadata": {},
     "output_type": "execute_result"
    }
   ],
   "source": [
    "df.Selected.value_counts()"
   ]
  },
  {
   "cell_type": "markdown",
   "metadata": {},
   "source": [
    "# We are creating 3 new columns \n",
    "## Column 1: Total Number of Years Played till Date (\"TYT\") (This column will help us to reduce the dependency on the Year Column)\n",
    "## Column 2: Total Number of Awards won till Data(\"TAT\") ( As the year progresses, the number of awards won will increase)\n",
    "## Column 3: Total Number of Awards won at the End of Carrer (\"TAW\") (Our Dependent Variable  \"Y\" that we are gonna predict)"
   ]
  },
  {
   "cell_type": "code",
   "execution_count": 30,
   "metadata": {},
   "outputs": [
    {
     "name": "stderr",
     "output_type": "stream",
     "text": [
      "C:\\Users\\Aravind KK\\Anaconda3\\lib\\site-packages\\ipykernel_launcher.py:6: SettingWithCopyWarning: \n",
      "A value is trying to be set on a copy of a slice from a DataFrame.\n",
      "Try using .loc[row_indexer,col_indexer] = value instead\n",
      "\n",
      "See the caveats in the documentation: http://pandas.pydata.org/pandas-docs/stable/user_guide/indexing.html#returning-a-view-versus-a-copy\n",
      "  \n",
      "C:\\Users\\Aravind KK\\Anaconda3\\lib\\site-packages\\ipykernel_launcher.py:7: SettingWithCopyWarning: \n",
      "A value is trying to be set on a copy of a slice from a DataFrame.\n",
      "Try using .loc[row_indexer,col_indexer] = value instead\n",
      "\n",
      "See the caveats in the documentation: http://pandas.pydata.org/pandas-docs/stable/user_guide/indexing.html#returning-a-view-versus-a-copy\n",
      "  import sys\n",
      "C:\\Users\\Aravind KK\\Anaconda3\\lib\\site-packages\\ipykernel_launcher.py:8: SettingWithCopyWarning: \n",
      "A value is trying to be set on a copy of a slice from a DataFrame.\n",
      "Try using .loc[row_indexer,col_indexer] = value instead\n",
      "\n",
      "See the caveats in the documentation: http://pandas.pydata.org/pandas-docs/stable/user_guide/indexing.html#returning-a-view-versus-a-copy\n",
      "  \n",
      "C:\\Users\\Aravind KK\\Anaconda3\\lib\\site-packages\\ipykernel_launcher.py:13: SettingWithCopyWarning: \n",
      "A value is trying to be set on a copy of a slice from a DataFrame\n",
      "\n",
      "See the caveats in the documentation: http://pandas.pydata.org/pandas-docs/stable/user_guide/indexing.html#returning-a-view-versus-a-copy\n",
      "  del sys.path[0]\n",
      "C:\\Users\\Aravind KK\\Anaconda3\\lib\\site-packages\\IPython\\core\\interactiveshell.py:3267: SettingWithCopyWarning: \n",
      "A value is trying to be set on a copy of a slice from a DataFrame\n",
      "\n",
      "See the caveats in the documentation: http://pandas.pydata.org/pandas-docs/stable/user_guide/indexing.html#returning-a-view-versus-a-copy\n",
      "  exec(code_obj, self.user_global_ns, self.user_ns)\n",
      "C:\\Users\\Aravind KK\\Anaconda3\\lib\\site-packages\\ipykernel_launcher.py:16: SettingWithCopyWarning: \n",
      "A value is trying to be set on a copy of a slice from a DataFrame\n",
      "\n",
      "See the caveats in the documentation: http://pandas.pydata.org/pandas-docs/stable/user_guide/indexing.html#returning-a-view-versus-a-copy\n",
      "  app.launch_new_instance()\n",
      "C:\\Users\\Aravind KK\\Anaconda3\\lib\\site-packages\\ipykernel_launcher.py:20: SettingWithCopyWarning: \n",
      "A value is trying to be set on a copy of a slice from a DataFrame\n",
      "\n",
      "See the caveats in the documentation: http://pandas.pydata.org/pandas-docs/stable/user_guide/indexing.html#returning-a-view-versus-a-copy\n"
     ]
    }
   ],
   "source": [
    "#### Creating the required columns \n",
    "Players= df.Player.unique()\n",
    "x_df = pd.DataFrame()\n",
    "for players in Players:\n",
    "    x=df[df['Player']==players]\n",
    "    x['TAW']=x.Selected.sum()\n",
    "    x['TYP']=0\n",
    "    x['TAT']=0\n",
    "    j=1\n",
    "    k=1\n",
    "    m=0\n",
    "    for i in x.index:\n",
    "        x['TYP'][i]=j\n",
    "        j=j+1\n",
    "        if x['Selected'][i]==1:\n",
    "            x['TAT'][i]=k\n",
    "            k=k+1\n",
    "            m=m+1\n",
    "        else :\n",
    "            x['TAT'][i]=m\n",
    "    x_df=x_df.append(x)\n",
    "    "
   ]
  },
  {
   "cell_type": "code",
   "execution_count": 31,
   "metadata": {},
   "outputs": [
    {
     "data": {
      "text/html": [
       "<div>\n",
       "<style scoped>\n",
       "    .dataframe tbody tr th:only-of-type {\n",
       "        vertical-align: middle;\n",
       "    }\n",
       "\n",
       "    .dataframe tbody tr th {\n",
       "        vertical-align: top;\n",
       "    }\n",
       "\n",
       "    .dataframe thead th {\n",
       "        text-align: right;\n",
       "    }\n",
       "</style>\n",
       "<table border=\"1\" class=\"dataframe\">\n",
       "  <thead>\n",
       "    <tr style=\"text-align: right;\">\n",
       "      <th></th>\n",
       "      <th>Year</th>\n",
       "      <th>Player</th>\n",
       "      <th>Pos</th>\n",
       "      <th>Age</th>\n",
       "      <th>Tm</th>\n",
       "      <th>G</th>\n",
       "      <th>GS</th>\n",
       "      <th>MP</th>\n",
       "      <th>PER</th>\n",
       "      <th>TS%</th>\n",
       "      <th>...</th>\n",
       "      <th>DRB</th>\n",
       "      <th>AST</th>\n",
       "      <th>STL</th>\n",
       "      <th>BLK</th>\n",
       "      <th>TOV</th>\n",
       "      <th>PF</th>\n",
       "      <th>Selected</th>\n",
       "      <th>TAW</th>\n",
       "      <th>TYP</th>\n",
       "      <th>TAT</th>\n",
       "    </tr>\n",
       "  </thead>\n",
       "  <tbody>\n",
       "    <tr>\n",
       "      <th>0</th>\n",
       "      <td>1985.0</td>\n",
       "      <td>Kareem Abdul-Jabbar</td>\n",
       "      <td>C</td>\n",
       "      <td>37.0</td>\n",
       "      <td>LAL</td>\n",
       "      <td>79.0</td>\n",
       "      <td>79.0</td>\n",
       "      <td>2630.0</td>\n",
       "      <td>22.9</td>\n",
       "      <td>0.628</td>\n",
       "      <td>...</td>\n",
       "      <td>460.0</td>\n",
       "      <td>249.0</td>\n",
       "      <td>63.0</td>\n",
       "      <td>162.0</td>\n",
       "      <td>197.0</td>\n",
       "      <td>238.0</td>\n",
       "      <td>1.0</td>\n",
       "      <td>2.0</td>\n",
       "      <td>1</td>\n",
       "      <td>1</td>\n",
       "    </tr>\n",
       "    <tr>\n",
       "      <th>362</th>\n",
       "      <td>1986.0</td>\n",
       "      <td>Kareem Abdul-Jabbar</td>\n",
       "      <td>C</td>\n",
       "      <td>38.0</td>\n",
       "      <td>LAL</td>\n",
       "      <td>79.0</td>\n",
       "      <td>79.0</td>\n",
       "      <td>2629.0</td>\n",
       "      <td>22.7</td>\n",
       "      <td>0.603</td>\n",
       "      <td>...</td>\n",
       "      <td>345.0</td>\n",
       "      <td>280.0</td>\n",
       "      <td>67.0</td>\n",
       "      <td>130.0</td>\n",
       "      <td>203.0</td>\n",
       "      <td>248.0</td>\n",
       "      <td>1.0</td>\n",
       "      <td>2.0</td>\n",
       "      <td>2</td>\n",
       "      <td>2</td>\n",
       "    </tr>\n",
       "    <tr>\n",
       "      <th>741</th>\n",
       "      <td>1987.0</td>\n",
       "      <td>Kareem Abdul-Jabbar</td>\n",
       "      <td>C</td>\n",
       "      <td>39.0</td>\n",
       "      <td>LAL</td>\n",
       "      <td>78.0</td>\n",
       "      <td>78.0</td>\n",
       "      <td>2441.0</td>\n",
       "      <td>17.9</td>\n",
       "      <td>0.597</td>\n",
       "      <td>...</td>\n",
       "      <td>371.0</td>\n",
       "      <td>203.0</td>\n",
       "      <td>49.0</td>\n",
       "      <td>97.0</td>\n",
       "      <td>186.0</td>\n",
       "      <td>245.0</td>\n",
       "      <td>0.0</td>\n",
       "      <td>2.0</td>\n",
       "      <td>3</td>\n",
       "      <td>2</td>\n",
       "    </tr>\n",
       "  </tbody>\n",
       "</table>\n",
       "<p>3 rows × 47 columns</p>\n",
       "</div>"
      ],
      "text/plain": [
       "       Year               Player Pos   Age   Tm     G    GS      MP   PER  \\\n",
       "0    1985.0  Kareem Abdul-Jabbar   C  37.0  LAL  79.0  79.0  2630.0  22.9   \n",
       "362  1986.0  Kareem Abdul-Jabbar   C  38.0  LAL  79.0  79.0  2629.0  22.7   \n",
       "741  1987.0  Kareem Abdul-Jabbar   C  39.0  LAL  78.0  78.0  2441.0  17.9   \n",
       "\n",
       "       TS%  ...    DRB    AST   STL    BLK    TOV     PF  Selected  TAW  TYP  \\\n",
       "0    0.628  ...  460.0  249.0  63.0  162.0  197.0  238.0       1.0  2.0    1   \n",
       "362  0.603  ...  345.0  280.0  67.0  130.0  203.0  248.0       1.0  2.0    2   \n",
       "741  0.597  ...  371.0  203.0  49.0   97.0  186.0  245.0       0.0  2.0    3   \n",
       "\n",
       "     TAT  \n",
       "0      1  \n",
       "362    2  \n",
       "741    2  \n",
       "\n",
       "[3 rows x 47 columns]"
      ]
     },
     "execution_count": 31,
     "metadata": {},
     "output_type": "execute_result"
    }
   ],
   "source": [
    "x_df.head(3)"
   ]
  },
  {
   "cell_type": "markdown",
   "metadata": {},
   "source": [
    "### Before we normalize and train the data, We will remove the Players whose data we are gonna predict at the end. Having their data at the time of training the algorithm will bias the end predictions strongly."
   ]
  },
  {
   "cell_type": "code",
   "execution_count": 32,
   "metadata": {},
   "outputs": [],
   "source": [
    "Players_Removed = ['Luka Doncic', 'Karl-Anthony Towns','Kyrie Irving','Stephen Curry']\n",
    "Players_Analysis = x_df[x_df.Player.isin(Players_Removed)].copy()"
   ]
  },
  {
   "cell_type": "code",
   "execution_count": 33,
   "metadata": {},
   "outputs": [],
   "source": [
    "xdf = x_df[~x_df.Player.isin(Players_Removed)].copy()"
   ]
  },
  {
   "cell_type": "code",
   "execution_count": 34,
   "metadata": {},
   "outputs": [
    {
     "data": {
      "text/plain": [
       "(8370, 47)"
      ]
     },
     "execution_count": 34,
     "metadata": {},
     "output_type": "execute_result"
    }
   ],
   "source": [
    "xdf.shape"
   ]
  },
  {
   "cell_type": "markdown",
   "metadata": {},
   "source": [
    "### As the basket Ball game rules have changed over the course of years, We will normalize the data by taking \n",
    "### means for each year seperately and normalize the data accordingly. In this way, the normalization will account \n",
    "### for the various rule changes happened over the course of years. "
   ]
  },
  {
   "cell_type": "code",
   "execution_count": 35,
   "metadata": {},
   "outputs": [],
   "source": [
    "#### Standardising the numeric data \n",
    "stand_data=xdf.groupby('Year').transform(lambda x: (x - x.mean()) / x.std())\n",
    "stand_data=stand_data.drop(['Selected','TAW'],axis=1)\n",
    "merge_data = xdf[['Year','Player','Pos','TAW']]"
   ]
  },
  {
   "cell_type": "code",
   "execution_count": 36,
   "metadata": {},
   "outputs": [],
   "source": [
    "result = pd.concat([merge_data, stand_data],axis=1)"
   ]
  },
  {
   "cell_type": "code",
   "execution_count": 37,
   "metadata": {},
   "outputs": [
    {
     "data": {
      "text/html": [
       "<div>\n",
       "<style scoped>\n",
       "    .dataframe tbody tr th:only-of-type {\n",
       "        vertical-align: middle;\n",
       "    }\n",
       "\n",
       "    .dataframe tbody tr th {\n",
       "        vertical-align: top;\n",
       "    }\n",
       "\n",
       "    .dataframe thead th {\n",
       "        text-align: right;\n",
       "    }\n",
       "</style>\n",
       "<table border=\"1\" class=\"dataframe\">\n",
       "  <thead>\n",
       "    <tr style=\"text-align: right;\">\n",
       "      <th></th>\n",
       "      <th>Year</th>\n",
       "      <th>Player</th>\n",
       "      <th>Pos</th>\n",
       "      <th>TAW</th>\n",
       "      <th>Age</th>\n",
       "      <th>G</th>\n",
       "      <th>GS</th>\n",
       "      <th>MP</th>\n",
       "      <th>PER</th>\n",
       "      <th>TS%</th>\n",
       "      <th>...</th>\n",
       "      <th>FT%</th>\n",
       "      <th>ORB</th>\n",
       "      <th>DRB</th>\n",
       "      <th>AST</th>\n",
       "      <th>STL</th>\n",
       "      <th>BLK</th>\n",
       "      <th>TOV</th>\n",
       "      <th>PF</th>\n",
       "      <th>TYP</th>\n",
       "      <th>TAT</th>\n",
       "    </tr>\n",
       "  </thead>\n",
       "  <tbody>\n",
       "    <tr>\n",
       "      <th>0</th>\n",
       "      <td>1985.0</td>\n",
       "      <td>Kareem Abdul-Jabbar</td>\n",
       "      <td>C</td>\n",
       "      <td>2.0</td>\n",
       "      <td>3.334472</td>\n",
       "      <td>0.461148</td>\n",
       "      <td>1.194113</td>\n",
       "      <td>0.996990</td>\n",
       "      <td>2.162057</td>\n",
       "      <td>2.102922</td>\n",
       "      <td>...</td>\n",
       "      <td>-0.417520</td>\n",
       "      <td>0.584619</td>\n",
       "      <td>1.453182</td>\n",
       "      <td>0.129866</td>\n",
       "      <td>-0.206008</td>\n",
       "      <td>2.228828</td>\n",
       "      <td>0.806177</td>\n",
       "      <td>0.658432</td>\n",
       "      <td>-0.100001</td>\n",
       "      <td>4.359470</td>\n",
       "    </tr>\n",
       "    <tr>\n",
       "      <th>362</th>\n",
       "      <td>1986.0</td>\n",
       "      <td>Kareem Abdul-Jabbar</td>\n",
       "      <td>C</td>\n",
       "      <td>2.0</td>\n",
       "      <td>3.461722</td>\n",
       "      <td>0.456418</td>\n",
       "      <td>1.204711</td>\n",
       "      <td>1.129897</td>\n",
       "      <td>2.275894</td>\n",
       "      <td>1.403943</td>\n",
       "      <td>...</td>\n",
       "      <td>0.136353</td>\n",
       "      <td>0.242307</td>\n",
       "      <td>0.704877</td>\n",
       "      <td>0.389995</td>\n",
       "      <td>-0.097412</td>\n",
       "      <td>1.567434</td>\n",
       "      <td>0.998581</td>\n",
       "      <td>0.887581</td>\n",
       "      <td>0.415619</td>\n",
       "      <td>5.419993</td>\n",
       "    </tr>\n",
       "    <tr>\n",
       "      <th>741</th>\n",
       "      <td>1987.0</td>\n",
       "      <td>Kareem Abdul-Jabbar</td>\n",
       "      <td>C</td>\n",
       "      <td>2.0</td>\n",
       "      <td>3.673769</td>\n",
       "      <td>0.396951</td>\n",
       "      <td>1.051089</td>\n",
       "      <td>0.627819</td>\n",
       "      <td>0.836254</td>\n",
       "      <td>1.332168</td>\n",
       "      <td>...</td>\n",
       "      <td>-0.576968</td>\n",
       "      <td>0.356739</td>\n",
       "      <td>0.780224</td>\n",
       "      <td>-0.134363</td>\n",
       "      <td>-0.562862</td>\n",
       "      <td>0.967207</td>\n",
       "      <td>0.718616</td>\n",
       "      <td>0.794971</td>\n",
       "      <td>0.609002</td>\n",
       "      <td>3.453356</td>\n",
       "    </tr>\n",
       "  </tbody>\n",
       "</table>\n",
       "<p>3 rows × 45 columns</p>\n",
       "</div>"
      ],
      "text/plain": [
       "       Year               Player Pos  TAW       Age         G        GS  \\\n",
       "0    1985.0  Kareem Abdul-Jabbar   C  2.0  3.334472  0.461148  1.194113   \n",
       "362  1986.0  Kareem Abdul-Jabbar   C  2.0  3.461722  0.456418  1.204711   \n",
       "741  1987.0  Kareem Abdul-Jabbar   C  2.0  3.673769  0.396951  1.051089   \n",
       "\n",
       "           MP       PER       TS%  ...       FT%       ORB       DRB  \\\n",
       "0    0.996990  2.162057  2.102922  ... -0.417520  0.584619  1.453182   \n",
       "362  1.129897  2.275894  1.403943  ...  0.136353  0.242307  0.704877   \n",
       "741  0.627819  0.836254  1.332168  ... -0.576968  0.356739  0.780224   \n",
       "\n",
       "          AST       STL       BLK       TOV        PF       TYP       TAT  \n",
       "0    0.129866 -0.206008  2.228828  0.806177  0.658432 -0.100001  4.359470  \n",
       "362  0.389995 -0.097412  1.567434  0.998581  0.887581  0.415619  5.419993  \n",
       "741 -0.134363 -0.562862  0.967207  0.718616  0.794971  0.609002  3.453356  \n",
       "\n",
       "[3 rows x 45 columns]"
      ]
     },
     "execution_count": 37,
     "metadata": {},
     "output_type": "execute_result"
    }
   ],
   "source": [
    "result.head(3)"
   ]
  },
  {
   "cell_type": "code",
   "execution_count": 38,
   "metadata": {},
   "outputs": [],
   "source": [
    "### Resetting the Index for Analysis purposes\n",
    "result=result.reset_index()"
   ]
  },
  {
   "cell_type": "code",
   "execution_count": 39,
   "metadata": {},
   "outputs": [
    {
     "data": {
      "text/html": [
       "<div>\n",
       "<style scoped>\n",
       "    .dataframe tbody tr th:only-of-type {\n",
       "        vertical-align: middle;\n",
       "    }\n",
       "\n",
       "    .dataframe tbody tr th {\n",
       "        vertical-align: top;\n",
       "    }\n",
       "\n",
       "    .dataframe thead th {\n",
       "        text-align: right;\n",
       "    }\n",
       "</style>\n",
       "<table border=\"1\" class=\"dataframe\">\n",
       "  <thead>\n",
       "    <tr style=\"text-align: right;\">\n",
       "      <th></th>\n",
       "      <th>index</th>\n",
       "      <th>Year</th>\n",
       "      <th>Player</th>\n",
       "      <th>Pos</th>\n",
       "      <th>TAW</th>\n",
       "      <th>Age</th>\n",
       "      <th>G</th>\n",
       "      <th>GS</th>\n",
       "      <th>MP</th>\n",
       "      <th>PER</th>\n",
       "      <th>...</th>\n",
       "      <th>FT%</th>\n",
       "      <th>ORB</th>\n",
       "      <th>DRB</th>\n",
       "      <th>AST</th>\n",
       "      <th>STL</th>\n",
       "      <th>BLK</th>\n",
       "      <th>TOV</th>\n",
       "      <th>PF</th>\n",
       "      <th>TYP</th>\n",
       "      <th>TAT</th>\n",
       "    </tr>\n",
       "  </thead>\n",
       "  <tbody>\n",
       "    <tr>\n",
       "      <th>0</th>\n",
       "      <td>0</td>\n",
       "      <td>1985.0</td>\n",
       "      <td>Kareem Abdul-Jabbar</td>\n",
       "      <td>C</td>\n",
       "      <td>2.0</td>\n",
       "      <td>3.334472</td>\n",
       "      <td>0.461148</td>\n",
       "      <td>1.194113</td>\n",
       "      <td>0.996990</td>\n",
       "      <td>2.162057</td>\n",
       "      <td>...</td>\n",
       "      <td>-0.417520</td>\n",
       "      <td>0.584619</td>\n",
       "      <td>1.453182</td>\n",
       "      <td>0.129866</td>\n",
       "      <td>-0.206008</td>\n",
       "      <td>2.228828</td>\n",
       "      <td>0.806177</td>\n",
       "      <td>0.658432</td>\n",
       "      <td>-0.100001</td>\n",
       "      <td>4.359470</td>\n",
       "    </tr>\n",
       "    <tr>\n",
       "      <th>1</th>\n",
       "      <td>362</td>\n",
       "      <td>1986.0</td>\n",
       "      <td>Kareem Abdul-Jabbar</td>\n",
       "      <td>C</td>\n",
       "      <td>2.0</td>\n",
       "      <td>3.461722</td>\n",
       "      <td>0.456418</td>\n",
       "      <td>1.204711</td>\n",
       "      <td>1.129897</td>\n",
       "      <td>2.275894</td>\n",
       "      <td>...</td>\n",
       "      <td>0.136353</td>\n",
       "      <td>0.242307</td>\n",
       "      <td>0.704877</td>\n",
       "      <td>0.389995</td>\n",
       "      <td>-0.097412</td>\n",
       "      <td>1.567434</td>\n",
       "      <td>0.998581</td>\n",
       "      <td>0.887581</td>\n",
       "      <td>0.415619</td>\n",
       "      <td>5.419993</td>\n",
       "    </tr>\n",
       "    <tr>\n",
       "      <th>2</th>\n",
       "      <td>741</td>\n",
       "      <td>1987.0</td>\n",
       "      <td>Kareem Abdul-Jabbar</td>\n",
       "      <td>C</td>\n",
       "      <td>2.0</td>\n",
       "      <td>3.673769</td>\n",
       "      <td>0.396951</td>\n",
       "      <td>1.051089</td>\n",
       "      <td>0.627819</td>\n",
       "      <td>0.836254</td>\n",
       "      <td>...</td>\n",
       "      <td>-0.576968</td>\n",
       "      <td>0.356739</td>\n",
       "      <td>0.780224</td>\n",
       "      <td>-0.134363</td>\n",
       "      <td>-0.562862</td>\n",
       "      <td>0.967207</td>\n",
       "      <td>0.718616</td>\n",
       "      <td>0.794971</td>\n",
       "      <td>0.609002</td>\n",
       "      <td>3.453356</td>\n",
       "    </tr>\n",
       "  </tbody>\n",
       "</table>\n",
       "<p>3 rows × 46 columns</p>\n",
       "</div>"
      ],
      "text/plain": [
       "   index    Year               Player Pos  TAW       Age         G        GS  \\\n",
       "0      0  1985.0  Kareem Abdul-Jabbar   C  2.0  3.334472  0.461148  1.194113   \n",
       "1    362  1986.0  Kareem Abdul-Jabbar   C  2.0  3.461722  0.456418  1.204711   \n",
       "2    741  1987.0  Kareem Abdul-Jabbar   C  2.0  3.673769  0.396951  1.051089   \n",
       "\n",
       "         MP       PER  ...       FT%       ORB       DRB       AST       STL  \\\n",
       "0  0.996990  2.162057  ... -0.417520  0.584619  1.453182  0.129866 -0.206008   \n",
       "1  1.129897  2.275894  ...  0.136353  0.242307  0.704877  0.389995 -0.097412   \n",
       "2  0.627819  0.836254  ... -0.576968  0.356739  0.780224 -0.134363 -0.562862   \n",
       "\n",
       "        BLK       TOV        PF       TYP       TAT  \n",
       "0  2.228828  0.806177  0.658432 -0.100001  4.359470  \n",
       "1  1.567434  0.998581  0.887581  0.415619  5.419993  \n",
       "2  0.967207  0.718616  0.794971  0.609002  3.453356  \n",
       "\n",
       "[3 rows x 46 columns]"
      ]
     },
     "execution_count": 39,
     "metadata": {},
     "output_type": "execute_result"
    }
   ],
   "source": [
    "result.head(3)"
   ]
  },
  {
   "cell_type": "markdown",
   "metadata": {},
   "source": [
    "### Categorical Variable\n",
    "Position is our categorical variable. We will convert it 5 boolean variables for each position. Few players\n",
    "occupy dual positions in the team. This is accomodated by assigning value '1' to both position variables in same row.\n",
    "Hence we will create the dummy variables manually to accodomate all the possible combinations players take in the field. "
   ]
  },
  {
   "cell_type": "code",
   "execution_count": 40,
   "metadata": {},
   "outputs": [
    {
     "data": {
      "text/plain": [
       "array(['C', 'PF', 'SF', 'SG', 'PG', 'SF-SG', 'C-PF', 'SF-PF', 'PF-SF',\n",
       "       'SG-SF', 'PG-SG', 'PG-SF', 'PF-C', 'SG-PG', 'SG-PF'], dtype=object)"
      ]
     },
     "execution_count": 40,
     "metadata": {},
     "output_type": "execute_result"
    }
   ],
   "source": [
    "result.Pos.unique()"
   ]
  },
  {
   "cell_type": "code",
   "execution_count": 41,
   "metadata": {},
   "outputs": [
    {
     "name": "stderr",
     "output_type": "stream",
     "text": [
      "C:\\Users\\Aravind KK\\Anaconda3\\lib\\site-packages\\ipykernel_launcher.py:11: SettingWithCopyWarning: \n",
      "A value is trying to be set on a copy of a slice from a DataFrame\n",
      "\n",
      "See the caveats in the documentation: http://pandas.pydata.org/pandas-docs/stable/user_guide/indexing.html#returning-a-view-versus-a-copy\n",
      "  # This is added back by InteractiveShellApp.init_path()\n",
      "C:\\Users\\Aravind KK\\Anaconda3\\lib\\site-packages\\ipykernel_launcher.py:13: SettingWithCopyWarning: \n",
      "A value is trying to be set on a copy of a slice from a DataFrame\n",
      "\n",
      "See the caveats in the documentation: http://pandas.pydata.org/pandas-docs/stable/user_guide/indexing.html#returning-a-view-versus-a-copy\n",
      "  del sys.path[0]\n",
      "C:\\Users\\Aravind KK\\Anaconda3\\lib\\site-packages\\ipykernel_launcher.py:15: SettingWithCopyWarning: \n",
      "A value is trying to be set on a copy of a slice from a DataFrame\n",
      "\n",
      "See the caveats in the documentation: http://pandas.pydata.org/pandas-docs/stable/user_guide/indexing.html#returning-a-view-versus-a-copy\n",
      "  from ipykernel import kernelapp as app\n",
      "C:\\Users\\Aravind KK\\Anaconda3\\lib\\site-packages\\ipykernel_launcher.py:17: SettingWithCopyWarning: \n",
      "A value is trying to be set on a copy of a slice from a DataFrame\n",
      "\n",
      "See the caveats in the documentation: http://pandas.pydata.org/pandas-docs/stable/user_guide/indexing.html#returning-a-view-versus-a-copy\n",
      "C:\\Users\\Aravind KK\\Anaconda3\\lib\\site-packages\\ipykernel_launcher.py:19: SettingWithCopyWarning: \n",
      "A value is trying to be set on a copy of a slice from a DataFrame\n",
      "\n",
      "See the caveats in the documentation: http://pandas.pydata.org/pandas-docs/stable/user_guide/indexing.html#returning-a-view-versus-a-copy\n"
     ]
    }
   ],
   "source": [
    "#### Manually doing one hot Encoding \n",
    "result['C'] = 0 \n",
    "result['PF']= 0\n",
    "result['SF']= 0\n",
    "result['SG']= 0\n",
    "result['PG']= 0\n",
    "for i in range( len(result) ):\n",
    "    a = result['Pos'][i].split('-')\n",
    "    for j in a:\n",
    "        if j == 'C':\n",
    "            result['C'][i] = 1 \n",
    "        if j == 'PF':\n",
    "            result['PF'][i] = 1\n",
    "        if j ==  'SF':\n",
    "            result['SF'][i]= 1\n",
    "        if j == 'SG':\n",
    "            result['SG'][i]= 1\n",
    "        if j == 'PG':\n",
    "            result['PG'][i]=  1"
   ]
  },
  {
   "cell_type": "code",
   "execution_count": 42,
   "metadata": {},
   "outputs": [
    {
     "data": {
      "text/html": [
       "<div>\n",
       "<style scoped>\n",
       "    .dataframe tbody tr th:only-of-type {\n",
       "        vertical-align: middle;\n",
       "    }\n",
       "\n",
       "    .dataframe tbody tr th {\n",
       "        vertical-align: top;\n",
       "    }\n",
       "\n",
       "    .dataframe thead th {\n",
       "        text-align: right;\n",
       "    }\n",
       "</style>\n",
       "<table border=\"1\" class=\"dataframe\">\n",
       "  <thead>\n",
       "    <tr style=\"text-align: right;\">\n",
       "      <th></th>\n",
       "      <th>index</th>\n",
       "      <th>Year</th>\n",
       "      <th>Player</th>\n",
       "      <th>Pos</th>\n",
       "      <th>TAW</th>\n",
       "      <th>Age</th>\n",
       "      <th>G</th>\n",
       "      <th>GS</th>\n",
       "      <th>MP</th>\n",
       "      <th>PER</th>\n",
       "      <th>...</th>\n",
       "      <th>STL</th>\n",
       "      <th>BLK</th>\n",
       "      <th>TOV</th>\n",
       "      <th>PF</th>\n",
       "      <th>TYP</th>\n",
       "      <th>TAT</th>\n",
       "      <th>C</th>\n",
       "      <th>SF</th>\n",
       "      <th>SG</th>\n",
       "      <th>PG</th>\n",
       "    </tr>\n",
       "  </thead>\n",
       "  <tbody>\n",
       "    <tr>\n",
       "      <th>0</th>\n",
       "      <td>0</td>\n",
       "      <td>1985.0</td>\n",
       "      <td>Kareem Abdul-Jabbar</td>\n",
       "      <td>C</td>\n",
       "      <td>2.0</td>\n",
       "      <td>3.334472</td>\n",
       "      <td>0.461148</td>\n",
       "      <td>1.194113</td>\n",
       "      <td>0.996990</td>\n",
       "      <td>2.162057</td>\n",
       "      <td>...</td>\n",
       "      <td>-0.206008</td>\n",
       "      <td>2.228828</td>\n",
       "      <td>0.806177</td>\n",
       "      <td>0</td>\n",
       "      <td>-0.100001</td>\n",
       "      <td>4.359470</td>\n",
       "      <td>1</td>\n",
       "      <td>0</td>\n",
       "      <td>0</td>\n",
       "      <td>0</td>\n",
       "    </tr>\n",
       "    <tr>\n",
       "      <th>1</th>\n",
       "      <td>362</td>\n",
       "      <td>1986.0</td>\n",
       "      <td>Kareem Abdul-Jabbar</td>\n",
       "      <td>C</td>\n",
       "      <td>2.0</td>\n",
       "      <td>3.461722</td>\n",
       "      <td>0.456418</td>\n",
       "      <td>1.204711</td>\n",
       "      <td>1.129897</td>\n",
       "      <td>2.275894</td>\n",
       "      <td>...</td>\n",
       "      <td>-0.097412</td>\n",
       "      <td>1.567434</td>\n",
       "      <td>0.998581</td>\n",
       "      <td>0</td>\n",
       "      <td>0.415619</td>\n",
       "      <td>5.419993</td>\n",
       "      <td>1</td>\n",
       "      <td>0</td>\n",
       "      <td>0</td>\n",
       "      <td>0</td>\n",
       "    </tr>\n",
       "    <tr>\n",
       "      <th>2</th>\n",
       "      <td>741</td>\n",
       "      <td>1987.0</td>\n",
       "      <td>Kareem Abdul-Jabbar</td>\n",
       "      <td>C</td>\n",
       "      <td>2.0</td>\n",
       "      <td>3.673769</td>\n",
       "      <td>0.396951</td>\n",
       "      <td>1.051089</td>\n",
       "      <td>0.627819</td>\n",
       "      <td>0.836254</td>\n",
       "      <td>...</td>\n",
       "      <td>-0.562862</td>\n",
       "      <td>0.967207</td>\n",
       "      <td>0.718616</td>\n",
       "      <td>0</td>\n",
       "      <td>0.609002</td>\n",
       "      <td>3.453356</td>\n",
       "      <td>1</td>\n",
       "      <td>0</td>\n",
       "      <td>0</td>\n",
       "      <td>0</td>\n",
       "    </tr>\n",
       "    <tr>\n",
       "      <th>3</th>\n",
       "      <td>1119</td>\n",
       "      <td>1988.0</td>\n",
       "      <td>Kareem Abdul-Jabbar</td>\n",
       "      <td>C</td>\n",
       "      <td>2.0</td>\n",
       "      <td>3.950887</td>\n",
       "      <td>0.684521</td>\n",
       "      <td>1.269172</td>\n",
       "      <td>0.560624</td>\n",
       "      <td>0.276444</td>\n",
       "      <td>...</td>\n",
       "      <td>-0.506775</td>\n",
       "      <td>1.021302</td>\n",
       "      <td>0.454153</td>\n",
       "      <td>0</td>\n",
       "      <td>0.715513</td>\n",
       "      <td>2.787027</td>\n",
       "      <td>1</td>\n",
       "      <td>0</td>\n",
       "      <td>0</td>\n",
       "      <td>0</td>\n",
       "    </tr>\n",
       "    <tr>\n",
       "      <th>4</th>\n",
       "      <td>1545</td>\n",
       "      <td>1989.0</td>\n",
       "      <td>Kareem Abdul-Jabbar</td>\n",
       "      <td>C</td>\n",
       "      <td>2.0</td>\n",
       "      <td>4.090778</td>\n",
       "      <td>0.078989</td>\n",
       "      <td>0.953745</td>\n",
       "      <td>-0.529395</td>\n",
       "      <td>-0.543087</td>\n",
       "      <td>...</td>\n",
       "      <td>-0.830358</td>\n",
       "      <td>0.752276</td>\n",
       "      <td>-0.733651</td>\n",
       "      <td>0</td>\n",
       "      <td>0.766740</td>\n",
       "      <td>2.344931</td>\n",
       "      <td>1</td>\n",
       "      <td>0</td>\n",
       "      <td>0</td>\n",
       "      <td>0</td>\n",
       "    </tr>\n",
       "    <tr>\n",
       "      <th>5</th>\n",
       "      <td>1</td>\n",
       "      <td>1985.0</td>\n",
       "      <td>Alvan Adams</td>\n",
       "      <td>PF</td>\n",
       "      <td>0.0</td>\n",
       "      <td>1.099311</td>\n",
       "      <td>0.814031</td>\n",
       "      <td>0.842182</td>\n",
       "      <td>0.190230</td>\n",
       "      <td>1.334705</td>\n",
       "      <td>...</td>\n",
       "      <td>1.023689</td>\n",
       "      <td>0.071551</td>\n",
       "      <td>0.806177</td>\n",
       "      <td>1</td>\n",
       "      <td>-0.100001</td>\n",
       "      <td>-0.228244</td>\n",
       "      <td>0</td>\n",
       "      <td>0</td>\n",
       "      <td>0</td>\n",
       "      <td>0</td>\n",
       "    </tr>\n",
       "    <tr>\n",
       "      <th>6</th>\n",
       "      <td>363</td>\n",
       "      <td>1986.0</td>\n",
       "      <td>Alvan Adams</td>\n",
       "      <td>C</td>\n",
       "      <td>0.0</td>\n",
       "      <td>1.286658</td>\n",
       "      <td>0.346940</td>\n",
       "      <td>0.048993</td>\n",
       "      <td>0.066043</td>\n",
       "      <td>0.132836</td>\n",
       "      <td>...</td>\n",
       "      <td>0.795006</td>\n",
       "      <td>0.035281</td>\n",
       "      <td>1.047605</td>\n",
       "      <td>0</td>\n",
       "      <td>0.415619</td>\n",
       "      <td>-0.239117</td>\n",
       "      <td>1</td>\n",
       "      <td>0</td>\n",
       "      <td>0</td>\n",
       "      <td>0</td>\n",
       "    </tr>\n",
       "    <tr>\n",
       "      <th>7</th>\n",
       "      <td>742</td>\n",
       "      <td>1987.0</td>\n",
       "      <td>Alvan Adams</td>\n",
       "      <td>C</td>\n",
       "      <td>0.0</td>\n",
       "      <td>1.572306</td>\n",
       "      <td>-0.638574</td>\n",
       "      <td>-0.212435</td>\n",
       "      <td>-0.562924</td>\n",
       "      <td>-0.074882</td>\n",
       "      <td>...</td>\n",
       "      <td>-0.254014</td>\n",
       "      <td>-0.198978</td>\n",
       "      <td>-0.033796</td>\n",
       "      <td>0</td>\n",
       "      <td>0.609002</td>\n",
       "      <td>-0.272881</td>\n",
       "      <td>1</td>\n",
       "      <td>0</td>\n",
       "      <td>0</td>\n",
       "      <td>0</td>\n",
       "    </tr>\n",
       "    <tr>\n",
       "      <th>8</th>\n",
       "      <td>1121</td>\n",
       "      <td>1988.0</td>\n",
       "      <td>Alvan Adams</td>\n",
       "      <td>C</td>\n",
       "      <td>0.0</td>\n",
       "      <td>1.835376</td>\n",
       "      <td>0.867450</td>\n",
       "      <td>-0.628206</td>\n",
       "      <td>-0.486101</td>\n",
       "      <td>-0.443016</td>\n",
       "      <td>...</td>\n",
       "      <td>0.288640</td>\n",
       "      <td>-0.068288</td>\n",
       "      <td>0.122621</td>\n",
       "      <td>0</td>\n",
       "      <td>0.715513</td>\n",
       "      <td>-0.280103</td>\n",
       "      <td>1</td>\n",
       "      <td>0</td>\n",
       "      <td>0</td>\n",
       "      <td>0</td>\n",
       "    </tr>\n",
       "    <tr>\n",
       "      <th>9</th>\n",
       "      <td>2</td>\n",
       "      <td>1985.0</td>\n",
       "      <td>Mark Aguirre</td>\n",
       "      <td>SF</td>\n",
       "      <td>0.0</td>\n",
       "      <td>-0.497232</td>\n",
       "      <td>0.578776</td>\n",
       "      <td>1.194113</td>\n",
       "      <td>1.109675</td>\n",
       "      <td>1.735037</td>\n",
       "      <td>...</td>\n",
       "      <td>-0.276952</td>\n",
       "      <td>-0.382612</td>\n",
       "      <td>1.711979</td>\n",
       "      <td>0</td>\n",
       "      <td>-0.100001</td>\n",
       "      <td>-0.228244</td>\n",
       "      <td>0</td>\n",
       "      <td>1</td>\n",
       "      <td>0</td>\n",
       "      <td>0</td>\n",
       "    </tr>\n",
       "  </tbody>\n",
       "</table>\n",
       "<p>10 rows × 50 columns</p>\n",
       "</div>"
      ],
      "text/plain": [
       "   index    Year               Player Pos  TAW       Age         G        GS  \\\n",
       "0      0  1985.0  Kareem Abdul-Jabbar   C  2.0  3.334472  0.461148  1.194113   \n",
       "1    362  1986.0  Kareem Abdul-Jabbar   C  2.0  3.461722  0.456418  1.204711   \n",
       "2    741  1987.0  Kareem Abdul-Jabbar   C  2.0  3.673769  0.396951  1.051089   \n",
       "3   1119  1988.0  Kareem Abdul-Jabbar   C  2.0  3.950887  0.684521  1.269172   \n",
       "4   1545  1989.0  Kareem Abdul-Jabbar   C  2.0  4.090778  0.078989  0.953745   \n",
       "5      1  1985.0          Alvan Adams  PF  0.0  1.099311  0.814031  0.842182   \n",
       "6    363  1986.0          Alvan Adams   C  0.0  1.286658  0.346940  0.048993   \n",
       "7    742  1987.0          Alvan Adams   C  0.0  1.572306 -0.638574 -0.212435   \n",
       "8   1121  1988.0          Alvan Adams   C  0.0  1.835376  0.867450 -0.628206   \n",
       "9      2  1985.0         Mark Aguirre  SF  0.0 -0.497232  0.578776  1.194113   \n",
       "\n",
       "         MP       PER  ...       STL       BLK       TOV  PF       TYP  \\\n",
       "0  0.996990  2.162057  ... -0.206008  2.228828  0.806177   0 -0.100001   \n",
       "1  1.129897  2.275894  ... -0.097412  1.567434  0.998581   0  0.415619   \n",
       "2  0.627819  0.836254  ... -0.562862  0.967207  0.718616   0  0.609002   \n",
       "3  0.560624  0.276444  ... -0.506775  1.021302  0.454153   0  0.715513   \n",
       "4 -0.529395 -0.543087  ... -0.830358  0.752276 -0.733651   0  0.766740   \n",
       "5  0.190230  1.334705  ...  1.023689  0.071551  0.806177   1 -0.100001   \n",
       "6  0.066043  0.132836  ...  0.795006  0.035281  1.047605   0  0.415619   \n",
       "7 -0.562924 -0.074882  ... -0.254014 -0.198978 -0.033796   0  0.609002   \n",
       "8 -0.486101 -0.443016  ...  0.288640 -0.068288  0.122621   0  0.715513   \n",
       "9  1.109675  1.735037  ... -0.276952 -0.382612  1.711979   0 -0.100001   \n",
       "\n",
       "        TAT  C  SF  SG  PG  \n",
       "0  4.359470  1   0   0   0  \n",
       "1  5.419993  1   0   0   0  \n",
       "2  3.453356  1   0   0   0  \n",
       "3  2.787027  1   0   0   0  \n",
       "4  2.344931  1   0   0   0  \n",
       "5 -0.228244  0   0   0   0  \n",
       "6 -0.239117  1   0   0   0  \n",
       "7 -0.272881  1   0   0   0  \n",
       "8 -0.280103  1   0   0   0  \n",
       "9 -0.228244  0   1   0   0  \n",
       "\n",
       "[10 rows x 50 columns]"
      ]
     },
     "execution_count": 42,
     "metadata": {},
     "output_type": "execute_result"
    }
   ],
   "source": [
    "result.head(10)"
   ]
  },
  {
   "cell_type": "markdown",
   "metadata": {},
   "source": [
    "# Regression Analysis"
   ]
  },
  {
   "cell_type": "markdown",
   "metadata": {},
   "source": [
    "Our objective is to predict the Total Awards That will be won by the player given any seasons statistics. \n",
    "Our Target Variable is \"TAW\"( Total Awards Won at the end of their career). We will perform various regression \n",
    "analysis on the dataset. We will choose the best model based on the Mean Squared value, Mean Absolute Error \n",
    "and residual pltos. The final best model will be used to do predictions on the given players. "
   ]
  },
  {
   "cell_type": "code",
   "execution_count": 44,
   "metadata": {},
   "outputs": [],
   "source": [
    "model_data=result.drop(['index', 'Year','Player','Pos','TAW'], axis=1)\n",
    "y = result['TAW']"
   ]
  },
  {
   "cell_type": "markdown",
   "metadata": {},
   "source": [
    "We will split the data into train and test set for evaluation purposes"
   ]
  },
  {
   "cell_type": "code",
   "execution_count": 45,
   "metadata": {},
   "outputs": [],
   "source": [
    "X_train, X_test, y_train, y_test = train_test_split(model_data, y, test_size=0.3)"
   ]
  },
  {
   "cell_type": "markdown",
   "metadata": {},
   "source": [
    "#### Multi Linear Regression "
   ]
  },
  {
   "cell_type": "code",
   "execution_count": 62,
   "metadata": {},
   "outputs": [
    {
     "data": {
      "text/plain": [
       "LinearRegression(copy_X=True, fit_intercept=True, n_jobs=None,\n",
       "         normalize=False)"
      ]
     },
     "execution_count": 62,
     "metadata": {},
     "output_type": "execute_result"
    }
   ],
   "source": [
    "regressor = LinearRegression()  \n",
    "regressor.fit(X_train, y_train) #training the algorithm"
   ]
  },
  {
   "cell_type": "code",
   "execution_count": 47,
   "metadata": {},
   "outputs": [
    {
     "name": "stdout",
     "output_type": "stream",
     "text": [
      "0.8058144152673319\n",
      "[-2.84477900e-01  2.77331389e-02 -1.93460279e-02 -7.29985445e-01\n",
      "  4.18082776e-01 -6.92717485e-01  2.56630046e-01  1.50787105e-01\n",
      "  1.10671476e+00  1.11024759e+00 -2.16533284e+00 -3.80337156e-02\n",
      " -1.39695935e-01 -3.67930132e-01  7.62710733e-02 -3.69349033e-01\n",
      " -4.86015140e-01 -2.98352164e-01  9.63566024e-01 -2.56114354e-02\n",
      " -3.09191551e-01 -1.58404526e-01 -2.19722336e-02  5.64986717e-01\n",
      "  5.00001833e-01  3.74210397e-02 -2.94459769e-01 -1.74306399e-04\n",
      " -9.24215729e-02  4.91299008e-01  1.26095529e-01  2.31620898e-02\n",
      " -5.73130413e-01  3.60449940e-01 -8.83319751e-02  1.07727766e-01\n",
      "  3.74093273e-01  2.28214555e-01 -1.14207008e-02  1.07505553e-01\n",
      "  1.64785317e+00  3.04115567e-02 -5.97413514e-02  3.10081574e-02\n",
      " -1.41553922e-01]\n"
     ]
    }
   ],
   "source": [
    "#To retrieve the intercept:\n",
    "print(regressor.intercept_)\n",
    "#For retrieving the slope:\n",
    "print(regressor.coef_)"
   ]
  },
  {
   "cell_type": "code",
   "execution_count": 48,
   "metadata": {},
   "outputs": [],
   "source": [
    "y_pred = regressor.predict(X_test)\n",
    "y_pred_train = regressor.predict(X_train)"
   ]
  },
  {
   "cell_type": "code",
   "execution_count": 50,
   "metadata": {},
   "outputs": [
    {
     "name": "stdout",
     "output_type": "stream",
     "text": [
      "Mean Absolute Error: 0.566222447546835\n",
      "Mean Squared Error: 1.4764913798901649\n",
      "Root Mean Squared Error: 1.2151096164092212\n",
      "R Square: 0.7225236711948977\n"
     ]
    }
   ],
   "source": [
    "print('Mean Absolute Error:', metrics.mean_absolute_error(y_test, y_pred))  \n",
    "print('Mean Squared Error:', metrics.mean_squared_error(y_test, y_pred))  \n",
    "print('Root Mean Squared Error:', np.sqrt(metrics.mean_squared_error(y_test, y_pred)))\n",
    "print('R Square:',metrics.r2_score(y_test,y_pred))"
   ]
  },
  {
   "cell_type": "code",
   "execution_count": 51,
   "metadata": {},
   "outputs": [
    {
     "data": {
      "text/html": [
       "<div>\n",
       "<style scoped>\n",
       "    .dataframe tbody tr th:only-of-type {\n",
       "        vertical-align: middle;\n",
       "    }\n",
       "\n",
       "    .dataframe tbody tr th {\n",
       "        vertical-align: top;\n",
       "    }\n",
       "\n",
       "    .dataframe thead th {\n",
       "        text-align: right;\n",
       "    }\n",
       "</style>\n",
       "<table border=\"1\" class=\"dataframe\">\n",
       "  <thead>\n",
       "    <tr style=\"text-align: right;\">\n",
       "      <th></th>\n",
       "      <th>Coefficient</th>\n",
       "    </tr>\n",
       "  </thead>\n",
       "  <tbody>\n",
       "    <tr>\n",
       "      <th>Age</th>\n",
       "      <td>-0.284478</td>\n",
       "    </tr>\n",
       "    <tr>\n",
       "      <th>G</th>\n",
       "      <td>0.027733</td>\n",
       "    </tr>\n",
       "    <tr>\n",
       "      <th>GS</th>\n",
       "      <td>-0.019346</td>\n",
       "    </tr>\n",
       "    <tr>\n",
       "      <th>MP</th>\n",
       "      <td>-0.729985</td>\n",
       "    </tr>\n",
       "    <tr>\n",
       "      <th>PER</th>\n",
       "      <td>0.418083</td>\n",
       "    </tr>\n",
       "    <tr>\n",
       "      <th>TS%</th>\n",
       "      <td>-0.692717</td>\n",
       "    </tr>\n",
       "    <tr>\n",
       "      <th>3PAr</th>\n",
       "      <td>0.256630</td>\n",
       "    </tr>\n",
       "    <tr>\n",
       "      <th>FTr</th>\n",
       "      <td>0.150787</td>\n",
       "    </tr>\n",
       "    <tr>\n",
       "      <th>ORB%</th>\n",
       "      <td>1.106715</td>\n",
       "    </tr>\n",
       "    <tr>\n",
       "      <th>DRB%</th>\n",
       "      <td>1.110248</td>\n",
       "    </tr>\n",
       "    <tr>\n",
       "      <th>TRB%</th>\n",
       "      <td>-2.165333</td>\n",
       "    </tr>\n",
       "    <tr>\n",
       "      <th>AST%</th>\n",
       "      <td>-0.038034</td>\n",
       "    </tr>\n",
       "    <tr>\n",
       "      <th>STL%</th>\n",
       "      <td>-0.139696</td>\n",
       "    </tr>\n",
       "    <tr>\n",
       "      <th>BLK%</th>\n",
       "      <td>-0.367930</td>\n",
       "    </tr>\n",
       "    <tr>\n",
       "      <th>TOV%</th>\n",
       "      <td>0.076271</td>\n",
       "    </tr>\n",
       "    <tr>\n",
       "      <th>USG%</th>\n",
       "      <td>-0.369349</td>\n",
       "    </tr>\n",
       "    <tr>\n",
       "      <th>OWS</th>\n",
       "      <td>-0.486015</td>\n",
       "    </tr>\n",
       "    <tr>\n",
       "      <th>DWS</th>\n",
       "      <td>-0.298352</td>\n",
       "    </tr>\n",
       "    <tr>\n",
       "      <th>WS</th>\n",
       "      <td>0.963566</td>\n",
       "    </tr>\n",
       "    <tr>\n",
       "      <th>WS/48</th>\n",
       "      <td>-0.025611</td>\n",
       "    </tr>\n",
       "    <tr>\n",
       "      <th>OBPM</th>\n",
       "      <td>-0.309192</td>\n",
       "    </tr>\n",
       "    <tr>\n",
       "      <th>DBPM</th>\n",
       "      <td>-0.158405</td>\n",
       "    </tr>\n",
       "    <tr>\n",
       "      <th>BPM</th>\n",
       "      <td>-0.021972</td>\n",
       "    </tr>\n",
       "    <tr>\n",
       "      <th>VORP</th>\n",
       "      <td>0.564987</td>\n",
       "    </tr>\n",
       "    <tr>\n",
       "      <th>FG</th>\n",
       "      <td>0.500002</td>\n",
       "    </tr>\n",
       "    <tr>\n",
       "      <th>FG%</th>\n",
       "      <td>0.037421</td>\n",
       "    </tr>\n",
       "    <tr>\n",
       "      <th>3P</th>\n",
       "      <td>-0.294460</td>\n",
       "    </tr>\n",
       "    <tr>\n",
       "      <th>3P%</th>\n",
       "      <td>-0.000174</td>\n",
       "    </tr>\n",
       "    <tr>\n",
       "      <th>2P%</th>\n",
       "      <td>-0.092422</td>\n",
       "    </tr>\n",
       "    <tr>\n",
       "      <th>eFG%</th>\n",
       "      <td>0.491299</td>\n",
       "    </tr>\n",
       "    <tr>\n",
       "      <th>FT</th>\n",
       "      <td>0.126096</td>\n",
       "    </tr>\n",
       "    <tr>\n",
       "      <th>FT%</th>\n",
       "      <td>0.023162</td>\n",
       "    </tr>\n",
       "    <tr>\n",
       "      <th>ORB</th>\n",
       "      <td>-0.573130</td>\n",
       "    </tr>\n",
       "    <tr>\n",
       "      <th>DRB</th>\n",
       "      <td>0.360450</td>\n",
       "    </tr>\n",
       "    <tr>\n",
       "      <th>AST</th>\n",
       "      <td>-0.088332</td>\n",
       "    </tr>\n",
       "    <tr>\n",
       "      <th>STL</th>\n",
       "      <td>0.107728</td>\n",
       "    </tr>\n",
       "    <tr>\n",
       "      <th>BLK</th>\n",
       "      <td>0.374093</td>\n",
       "    </tr>\n",
       "    <tr>\n",
       "      <th>TOV</th>\n",
       "      <td>0.228215</td>\n",
       "    </tr>\n",
       "    <tr>\n",
       "      <th>PF</th>\n",
       "      <td>-0.011421</td>\n",
       "    </tr>\n",
       "    <tr>\n",
       "      <th>TYP</th>\n",
       "      <td>0.107506</td>\n",
       "    </tr>\n",
       "    <tr>\n",
       "      <th>TAT</th>\n",
       "      <td>1.647853</td>\n",
       "    </tr>\n",
       "    <tr>\n",
       "      <th>C</th>\n",
       "      <td>0.030412</td>\n",
       "    </tr>\n",
       "    <tr>\n",
       "      <th>SF</th>\n",
       "      <td>-0.059741</td>\n",
       "    </tr>\n",
       "    <tr>\n",
       "      <th>SG</th>\n",
       "      <td>0.031008</td>\n",
       "    </tr>\n",
       "    <tr>\n",
       "      <th>PG</th>\n",
       "      <td>-0.141554</td>\n",
       "    </tr>\n",
       "  </tbody>\n",
       "</table>\n",
       "</div>"
      ],
      "text/plain": [
       "       Coefficient\n",
       "Age      -0.284478\n",
       "G         0.027733\n",
       "GS       -0.019346\n",
       "MP       -0.729985\n",
       "PER       0.418083\n",
       "TS%      -0.692717\n",
       "3PAr      0.256630\n",
       "FTr       0.150787\n",
       "ORB%      1.106715\n",
       "DRB%      1.110248\n",
       "TRB%     -2.165333\n",
       "AST%     -0.038034\n",
       "STL%     -0.139696\n",
       "BLK%     -0.367930\n",
       "TOV%      0.076271\n",
       "USG%     -0.369349\n",
       "OWS      -0.486015\n",
       "DWS      -0.298352\n",
       "WS        0.963566\n",
       "WS/48    -0.025611\n",
       "OBPM     -0.309192\n",
       "DBPM     -0.158405\n",
       "BPM      -0.021972\n",
       "VORP      0.564987\n",
       "FG        0.500002\n",
       "FG%       0.037421\n",
       "3P       -0.294460\n",
       "3P%      -0.000174\n",
       "2P%      -0.092422\n",
       "eFG%      0.491299\n",
       "FT        0.126096\n",
       "FT%       0.023162\n",
       "ORB      -0.573130\n",
       "DRB       0.360450\n",
       "AST      -0.088332\n",
       "STL       0.107728\n",
       "BLK       0.374093\n",
       "TOV       0.228215\n",
       "PF       -0.011421\n",
       "TYP       0.107506\n",
       "TAT       1.647853\n",
       "C         0.030412\n",
       "SF       -0.059741\n",
       "SG        0.031008\n",
       "PG       -0.141554"
      ]
     },
     "execution_count": 51,
     "metadata": {},
     "output_type": "execute_result"
    }
   ],
   "source": [
    "coeff_df = pd.DataFrame(regressor.coef_, X_train.columns, columns=['Coefficient'])  \n",
    "coeff_df"
   ]
  },
  {
   "cell_type": "markdown",
   "metadata": {},
   "source": [
    "We will do Multi Linear Regression again by Selective Sampling "
   ]
  },
  {
   "cell_type": "markdown",
   "metadata": {},
   "source": [
    "We will keep 60 % percent of the Data with players who have got selections and 40 % of the data with players\n",
    "who did not have any selection. We try this method to check if bias is induced due to high ratio of non selected players \n",
    "in the dataset"
   ]
  },
  {
   "cell_type": "code",
   "execution_count": 52,
   "metadata": {},
   "outputs": [],
   "source": [
    "model_data1=result.drop(['index', 'Year','Player','Pos'], axis=1).copy()\n",
    "### Creating two datasets \n",
    "data1  = model_data1[model_data1['TAW'] == 0]\n",
    "data2 = model_data1[model_data1['TAW']> 0]\n",
    "data3 = data1.sample(n=1000, random_state=1)"
   ]
  },
  {
   "cell_type": "code",
   "execution_count": 53,
   "metadata": {},
   "outputs": [],
   "source": [
    "model_data2 = pd.concat([data2,data3])\n",
    "y1=model_data2['TAW']\n",
    "model_data3 =  model_data2.drop(['TAW'],axis=1).copy()"
   ]
  },
  {
   "cell_type": "code",
   "execution_count": 54,
   "metadata": {},
   "outputs": [],
   "source": [
    "X_train1, X_test1, y_train1, y_test1 = train_test_split(model_data3, y1, test_size=0.3)"
   ]
  },
  {
   "cell_type": "code",
   "execution_count": 56,
   "metadata": {},
   "outputs": [
    {
     "name": "stdout",
     "output_type": "stream",
     "text": [
      "Mean Absolute Error: 1.2926917456553422\n",
      "Mean Squared Error: 4.108271264971306\n",
      "Root Mean Squared Error: 2.026887087375936\n"
     ]
    }
   ],
   "source": [
    "regressor.fit(X_train1, y_train1)\n",
    "y_pred1 = regressor.predict(X_test1)\n",
    "y_pred_train1 = regressor.predict(X_train1)\n",
    "print('Mean Absolute Error:', metrics.mean_absolute_error(y_test1, y_pred1))  \n",
    "print('Mean Squared Error:', metrics.mean_squared_error(y_test1, y_pred1))  \n",
    "print('Root Mean Squared Error:', np.sqrt(metrics.mean_squared_error(y_test1, y_pred1)))"
   ]
  },
  {
   "cell_type": "markdown",
   "metadata": {},
   "source": [
    "Performing selective sampling increases the Mean Squared Error and Mean Absolute Error. Hence we will maintain with our\n",
    "original dataset"
   ]
  },
  {
   "cell_type": "markdown",
   "metadata": {},
   "source": [
    "We will perform Cross-Validation to check if there is any increase in the Model Performance "
   ]
  },
  {
   "cell_type": "code",
   "execution_count": 57,
   "metadata": {},
   "outputs": [],
   "source": [
    "from sklearn.model_selection import cross_val_score\n",
    "scores = cross_val_score(regressor, model_data, y, cv=10, scoring='neg_mean_squared_error')"
   ]
  },
  {
   "cell_type": "code",
   "execution_count": 58,
   "metadata": {},
   "outputs": [
    {
     "data": {
      "text/plain": [
       "array([-2.59455399, -2.13442133, -0.88118567, -1.36896452, -2.36631862,\n",
       "       -2.29542551, -0.60633831, -1.23006484, -0.5705103 , -0.38717166])"
      ]
     },
     "execution_count": 58,
     "metadata": {},
     "output_type": "execute_result"
    }
   ],
   "source": [
    "scores"
   ]
  },
  {
   "cell_type": "code",
   "execution_count": 59,
   "metadata": {},
   "outputs": [
    {
     "data": {
      "text/plain": [
       "-1.4434954749480216"
      ]
     },
     "execution_count": 59,
     "metadata": {},
     "output_type": "execute_result"
    }
   ],
   "source": [
    "scores.mean()"
   ]
  },
  {
   "cell_type": "markdown",
   "metadata": {},
   "source": [
    "Even after performing cross validation, we can not able to see any significant increase in the model performance. \n",
    "Mean Squared Error still remained the same. "
   ]
  },
  {
   "cell_type": "markdown",
   "metadata": {},
   "source": [
    "#### Residual Plot for Multi Linear Regression Model"
   ]
  },
  {
   "cell_type": "code",
   "execution_count": 65,
   "metadata": {},
   "outputs": [
    {
     "data": {
      "image/png": "[encoded data removed]",
      "text/plain": [
       "<Figure size 432x288 with 2 Axes>"
      ]
     },
     "metadata": {},
     "output_type": "display_data"
    },
    {
     "data": {
      "text/plain": [
       "<matplotlib.axes._subplots.AxesSubplot at 0x164b4fa32e8>"
      ]
     },
     "execution_count": 65,
     "metadata": {},
     "output_type": "execute_result"
    }
   ],
   "source": [
    "visualizer = ResidualsPlot(regressor) ## Regressor from Multi Linear regression performed 1st\n",
    "visualizer.fit(X_train, y_train)  # Fit the training data to the visualizer\n",
    "visualizer.score(X_test, y_test)  # Evaluate the model on the test data\n",
    "visualizer.show()"
   ]
  },
  {
   "cell_type": "markdown",
   "metadata": {},
   "source": [
    "From the residual plot, we can not able to see any particular upward or downward trend. This shows that model\n",
    "has taken as much information as possible from the dataset. The R square of the model is 0.75 in average. \n",
    "The residuals also follow normal distribution which shows that they are a random set. "
   ]
  },
  {
   "cell_type": "markdown",
   "metadata": {},
   "source": [
    "#### Random Forest Regressor "
   ]
  },
  {
   "cell_type": "code",
   "execution_count": 66,
   "metadata": {},
   "outputs": [],
   "source": [
    "random_regressor = RandomForestRegressor(n_estimators = 30, random_state = 20) "
   ]
  },
  {
   "cell_type": "code",
   "execution_count": 67,
   "metadata": {},
   "outputs": [
    {
     "name": "stdout",
     "output_type": "stream",
     "text": [
      "Mean Absolute Error: 0.35398911456259124\n",
      "Mean Squared Error: 1.1588857914066992\n",
      "Root Mean Squared Error: 1.07651557880353\n"
     ]
    }
   ],
   "source": [
    "random_regressor.fit(X_train, y_train) #training the algorithm\n",
    "y_pred_rand= random_regressor.predict(X_test)\n",
    "y_pred_train_rand = random_regressor.predict(X_train)\n",
    "print('Mean Absolute Error:', metrics.mean_absolute_error(y_test, y_pred_rand))  \n",
    "print('Mean Squared Error:', metrics.mean_squared_error(y_test, y_pred_rand))  \n",
    "print('Root Mean Squared Error:', np.sqrt(metrics.mean_squared_error(y_test, y_pred_rand)))"
   ]
  },
  {
   "cell_type": "markdown",
   "metadata": {},
   "source": [
    "The Random forest regressor model has performed better than the Multi Linear Regression model. The Mean Squared Error \n",
    "got reduced to 1.15 from 1.44 and Mean Absolute Error got reduced to 0.35 from 0.56"
   ]
  },
  {
   "cell_type": "markdown",
   "metadata": {},
   "source": [
    "Performing Grid Search to check if the Model performance increases"
   ]
  },
  {
   "cell_type": "code",
   "execution_count": 68,
   "metadata": {},
   "outputs": [],
   "source": [
    "param_grid = {\n",
    "    'bootstrap': [True],\n",
    "    'max_depth': [80, 90, 100],\n",
    "    'max_features': [5,10],\n",
    "    'n_estimators': [30, 50, 70]\n",
    "}"
   ]
  },
  {
   "cell_type": "code",
   "execution_count": 70,
   "metadata": {},
   "outputs": [],
   "source": [
    "from sklearn.model_selection import GridSearchCV\n",
    "grid_search = GridSearchCV(estimator = random_regressor, param_grid = param_grid, cv = 3, n_jobs = -1, verbose = 2)"
   ]
  },
  {
   "cell_type": "code",
   "execution_count": 71,
   "metadata": {},
   "outputs": [
    {
     "name": "stdout",
     "output_type": "stream",
     "text": [
      "Fitting 3 folds for each of 18 candidates, totalling 54 fits\n"
     ]
    },
    {
     "name": "stderr",
     "output_type": "stream",
     "text": [
      "[Parallel(n_jobs=-1)]: Using backend LokyBackend with 8 concurrent workers.\n",
      "[Parallel(n_jobs=-1)]: Done  25 tasks      | elapsed:    8.0s\n",
      "[Parallel(n_jobs=-1)]: Done  54 out of  54 | elapsed:   15.5s finished\n"
     ]
    },
    {
     "data": {
      "text/plain": [
       "GridSearchCV(cv=3, error_score='raise-deprecating',\n",
       "       estimator=RandomForestRegressor(bootstrap=True, criterion='mse', max_depth=None,\n",
       "           max_features='auto', max_leaf_nodes=None,\n",
       "           min_impurity_decrease=0.0, min_impurity_split=None,\n",
       "           min_samples_leaf=1, min_samples_split=2,\n",
       "           min_weight_fraction_leaf=0.0, n_estimators=30, n_jobs=None,\n",
       "           oob_score=False, random_state=20, verbose=0, warm_start=False),\n",
       "       fit_params=None, iid='warn', n_jobs=-1,\n",
       "       param_grid={'bootstrap': [True], 'max_depth': [80, 90, 100], 'max_features': [5, 10], 'n_estimators': [30, 50, 70]},\n",
       "       pre_dispatch='2*n_jobs', refit=True, return_train_score='warn',\n",
       "       scoring=None, verbose=2)"
      ]
     },
     "execution_count": 71,
     "metadata": {},
     "output_type": "execute_result"
    }
   ],
   "source": [
    "grid_search.fit(X_train, y_train)"
   ]
  },
  {
   "cell_type": "code",
   "execution_count": 72,
   "metadata": {},
   "outputs": [
    {
     "name": "stdout",
     "output_type": "stream",
     "text": [
      "Mean Absolute Error: 0.3976332707515503\n",
      "Mean Squared Error: 1.1700350295434783\n",
      "Root Mean Squared Error: 1.0816815749302002\n"
     ]
    }
   ],
   "source": [
    "y_pred_gs= grid_search.predict(X_test)\n",
    "y_pred_train_gs = grid_search.predict(X_train)\n",
    "print('Mean Absolute Error:', metrics.mean_absolute_error(y_test, y_pred_gs))  \n",
    "print('Mean Squared Error:', metrics.mean_squared_error(y_test, y_pred_gs))  \n",
    "print('Root Mean Squared Error:', np.sqrt(metrics.mean_squared_error(y_test, y_pred_gs)))"
   ]
  },
  {
   "cell_type": "markdown",
   "metadata": {},
   "source": [
    "After taking the best hyper parameters through grid search, Random Forest Regressor model performance has not increased.\n",
    "Mean Squared Error and Mean Absolute Error are in same range."
   ]
  },
  {
   "cell_type": "markdown",
   "metadata": {},
   "source": [
    "#### Residual Plot for Random Forest Regressor "
   ]
  },
  {
   "cell_type": "code",
   "execution_count": 74,
   "metadata": {},
   "outputs": [
    {
     "data": {
      "image/png": "[encoded data removed]",
      "text/plain": [
       "<Figure size 432x288 with 2 Axes>"
      ]
     },
     "metadata": {},
     "output_type": "display_data"
    },
    {
     "data": {
      "text/plain": [
       "<matplotlib.axes._subplots.AxesSubplot at 0x164b5190b00>"
      ]
     },
     "execution_count": 74,
     "metadata": {},
     "output_type": "execute_result"
    }
   ],
   "source": [
    "visualizer = ResidualsPlot(random_regressor) \n",
    "visualizer.fit(X_train, y_train)  # Fit the training data to the visualizer\n",
    "visualizer.score(X_test, y_test)  # Evaluate the model on the test data\n",
    "visualizer.show()"
   ]
  },
  {
   "cell_type": "markdown",
   "metadata": {},
   "source": [
    "We see that R square value has significantly increased from Multi Linear Regression model. The plot looks more\n",
    "random than the Multi Linear regression plot. "
   ]
  },
  {
   "cell_type": "markdown",
   "metadata": {},
   "source": [
    "#### Support Vector Machine Model "
   ]
  },
  {
   "cell_type": "markdown",
   "metadata": {},
   "source": [
    "we will use various kernel to predict our target variable. "
   ]
  },
  {
   "cell_type": "code",
   "execution_count": 75,
   "metadata": {},
   "outputs": [],
   "source": [
    "#### Radial Basis Function Kernel\n",
    "svr_rbf = SVR(kernel='rbf', C=100, gamma=0.1, epsilon=.1)\n",
    "#### Linear Kernel\n",
    "svr_lin = SVR(kernel='linear', C=100, gamma='auto')\n",
    "#### Polynomial Kernel\n",
    "svr_poly = SVR(kernel='poly', C=100, gamma='auto', degree=2, epsilon=.1,\n",
    "               coef0=1)"
   ]
  },
  {
   "cell_type": "markdown",
   "metadata": {},
   "source": [
    "Radial Basis Function Kernel"
   ]
  },
  {
   "cell_type": "code",
   "execution_count": 77,
   "metadata": {},
   "outputs": [
    {
     "name": "stdout",
     "output_type": "stream",
     "text": [
      "Mean Absolute Error: 0.6069035053413802\n",
      "Mean Squared Error: 1.6403557405999603\n",
      "Root Mean Squared Error: 1.2807637333247535\n"
     ]
    }
   ],
   "source": [
    "svr_rbf.fit(X_train, y_train) #training the algorithm\n",
    "y_pred_rbf= svr_rbf.predict(X_test)\n",
    "y_pred_train_rbf = svr_rbf.predict(X_train)\n",
    "print('Mean Absolute Error:', metrics.mean_absolute_error(y_test, y_pred_rbf))  \n",
    "print('Mean Squared Error:', metrics.mean_squared_error(y_test, y_pred_rbf))  \n",
    "print('Root Mean Squared Error:', np.sqrt(metrics.mean_squared_error(y_test, y_pred_rbf)))"
   ]
  },
  {
   "cell_type": "markdown",
   "metadata": {},
   "source": [
    "We can see that Mean Squared Error has increased more than for Multi Linear Regressor model. "
   ]
  },
  {
   "cell_type": "markdown",
   "metadata": {},
   "source": [
    "Linear Kernel "
   ]
  },
  {
   "cell_type": "code",
   "execution_count": 78,
   "metadata": {},
   "outputs": [
    {
     "name": "stdout",
     "output_type": "stream",
     "text": [
      "Mean Absolute Error: 0.3715933037817732\n",
      "Mean Squared Error: 1.655406972308376\n",
      "Root Mean Squared Error: 1.2866261975835778\n"
     ]
    }
   ],
   "source": [
    "svr_lin.fit(X_train, y_train) #training the algorithm\n",
    "y_pred_lin= svr_lin.predict(X_test)\n",
    "y_pred_train_lin = svr_lin.predict(X_train)\n",
    "print('Mean Absolute Error:', metrics.mean_absolute_error(y_test, y_pred_lin))  \n",
    "print('Mean Squared Error:', metrics.mean_squared_error(y_test, y_pred_lin))  \n",
    "print('Root Mean Squared Error:', np.sqrt(metrics.mean_squared_error(y_test, y_pred_lin)))"
   ]
  },
  {
   "cell_type": "markdown",
   "metadata": {},
   "source": [
    "Polynomial Kernel"
   ]
  },
  {
   "cell_type": "code",
   "execution_count": 79,
   "metadata": {},
   "outputs": [
    {
     "name": "stdout",
     "output_type": "stream",
     "text": [
      "Mean Absolute Error: 0.3580497124795454\n",
      "Mean Squared Error: 1.2100515895979773\n",
      "Root Mean Squared Error: 1.100023449567316\n"
     ]
    }
   ],
   "source": [
    "svr_poly.fit(X_train, y_train) #training the algorithm\n",
    "y_pred_poly= svr_poly.predict(X_test)\n",
    "y_pred_train_poly = svr_poly.predict(X_train)\n",
    "print('Mean Absolute Error:', metrics.mean_absolute_error(y_test, y_pred_poly))  \n",
    "print('Mean Squared Error:', metrics.mean_squared_error(y_test, y_pred_poly))  \n",
    "print('Root Mean Squared Error:', np.sqrt(metrics.mean_squared_error(y_test, y_pred_poly)))"
   ]
  },
  {
   "cell_type": "markdown",
   "metadata": {},
   "source": [
    "Polynomial kernel performed better than the Linear Kernel. But the errors are still higher than the Random Forest Regressor "
   ]
  },
  {
   "cell_type": "markdown",
   "metadata": {},
   "source": [
    "### Neural Networks"
   ]
  },
  {
   "cell_type": "markdown",
   "metadata": {},
   "source": [
    "We will implement Neural Networks using Keras Library. The network with have 5 layers with number of neurons getting halved \n",
    "as we go through each layer. The last layer will have one neuron. "
   ]
  },
  {
   "cell_type": "code",
   "execution_count": 81,
   "metadata": {},
   "outputs": [],
   "source": [
    "### Converting all the Data to arrays for feeding the data into the Neural Network. \n",
    "xtrain=X_train.values\n",
    "ytrain=y_train.values\n",
    "xtest = X_test.values\n",
    "ytest = y_test.values"
   ]
  },
  {
   "cell_type": "code",
   "execution_count": 144,
   "metadata": {},
   "outputs": [],
   "source": [
    "def baseline_model():\n",
    "    # create model\n",
    "    model = Sequential()\n",
    "    model.add(Dense(45, kernel_initializer='uniform', activation='sigmoid'))\n",
    "    model.add(Dense(22,  kernel_initializer='uniform', activation='sigmoid'))\n",
    "    model.add(Dense(10,  kernel_initializer='uniform', activation='sigmoid'))\n",
    "    model.add(Dense(5,  kernel_initializer='uniform', activation='sigmoid'))\n",
    "    model.add(Dense(1, kernel_initializer='uniform'))\n",
    "    # Compile model\n",
    "    model.compile(loss='mean_squared_error', optimizer='adam')\n",
    "    return model"
   ]
  },
  {
   "cell_type": "code",
   "execution_count": 145,
   "metadata": {},
   "outputs": [],
   "source": [
    "nn = KerasRegressor(build_fn=baseline_model, epochs=100, batch_size=5, verbose=0)"
   ]
  },
  {
   "cell_type": "code",
   "execution_count": 147,
   "metadata": {},
   "outputs": [
    {
     "name": "stdout",
     "output_type": "stream",
     "text": [
      "Mean Absolute Error: 0.33777317998182343\n",
      "Mean Squared Error: 0.942503162111346\n",
      "Root Mean Squared Error: 0.9708260205162128\n"
     ]
    }
   ],
   "source": [
    "nn.fit(xtrain, ytrain) #training the algorithm\n",
    "y_pred_nn= nn.predict(xtest)\n",
    "y_pred_train_nn = nn.predict(xtrain)\n",
    "print('Mean Absolute Error:', metrics.mean_absolute_error(ytest, y_pred_nn))  \n",
    "print('Mean Squared Error:', metrics.mean_squared_error(ytest, y_pred_nn))  \n",
    "print('Root Mean Squared Error:', np.sqrt(metrics.mean_squared_error(ytest, y_pred_nn)))"
   ]
  },
  {
   "cell_type": "markdown",
   "metadata": {},
   "source": [
    "Neural Network performs the best on the dataset. Both the Mean Squared Error and Mean Absolute Error is lowest \n",
    "for the Neural Network model. "
   ]
  },
  {
   "cell_type": "markdown",
   "metadata": {},
   "source": [
    "## Hence We will use Neural Network model for further predictions"
   ]
  },
  {
   "cell_type": "code",
   "execution_count": 85,
   "metadata": {},
   "outputs": [
    {
     "data": {
      "text/plain": [
       "array([ 0.10297996, -0.00266176, -0.04430187, ..., -0.06257948,\n",
       "       -0.0598743 , -0.05333555], dtype=float32)"
      ]
     },
     "execution_count": 85,
     "metadata": {},
     "output_type": "execute_result"
    }
   ],
   "source": [
    "y_pred_nn"
   ]
  },
  {
   "cell_type": "code",
   "execution_count": 87,
   "metadata": {},
   "outputs": [],
   "source": [
    "comp = pd.DataFrame({'Actual': y_test, 'Predicted': y_pred_nn})\n",
    "#comp[comp['Actual']>0]"
   ]
  },
  {
   "cell_type": "code",
   "execution_count": 88,
   "metadata": {},
   "outputs": [
    {
     "data": {
      "text/html": [
       "<div>\n",
       "<style scoped>\n",
       "    .dataframe tbody tr th:only-of-type {\n",
       "        vertical-align: middle;\n",
       "    }\n",
       "\n",
       "    .dataframe tbody tr th {\n",
       "        vertical-align: top;\n",
       "    }\n",
       "\n",
       "    .dataframe thead th {\n",
       "        text-align: right;\n",
       "    }\n",
       "</style>\n",
       "<table border=\"1\" class=\"dataframe\">\n",
       "  <thead>\n",
       "    <tr style=\"text-align: right;\">\n",
       "      <th></th>\n",
       "      <th>Actual</th>\n",
       "      <th>Predicted</th>\n",
       "    </tr>\n",
       "  </thead>\n",
       "  <tbody>\n",
       "    <tr>\n",
       "      <th>8098</th>\n",
       "      <td>0.0</td>\n",
       "      <td>0.102980</td>\n",
       "    </tr>\n",
       "    <tr>\n",
       "      <th>3485</th>\n",
       "      <td>0.0</td>\n",
       "      <td>-0.002662</td>\n",
       "    </tr>\n",
       "    <tr>\n",
       "      <th>1279</th>\n",
       "      <td>0.0</td>\n",
       "      <td>-0.044302</td>\n",
       "    </tr>\n",
       "    <tr>\n",
       "      <th>6041</th>\n",
       "      <td>0.0</td>\n",
       "      <td>-0.041668</td>\n",
       "    </tr>\n",
       "    <tr>\n",
       "      <th>7673</th>\n",
       "      <td>0.0</td>\n",
       "      <td>-0.027495</td>\n",
       "    </tr>\n",
       "    <tr>\n",
       "      <th>...</th>\n",
       "      <td>...</td>\n",
       "      <td>...</td>\n",
       "    </tr>\n",
       "    <tr>\n",
       "      <th>3374</th>\n",
       "      <td>0.0</td>\n",
       "      <td>-0.035201</td>\n",
       "    </tr>\n",
       "    <tr>\n",
       "      <th>4728</th>\n",
       "      <td>0.0</td>\n",
       "      <td>-0.048267</td>\n",
       "    </tr>\n",
       "    <tr>\n",
       "      <th>206</th>\n",
       "      <td>0.0</td>\n",
       "      <td>-0.062579</td>\n",
       "    </tr>\n",
       "    <tr>\n",
       "      <th>4601</th>\n",
       "      <td>0.0</td>\n",
       "      <td>-0.059874</td>\n",
       "    </tr>\n",
       "    <tr>\n",
       "      <th>435</th>\n",
       "      <td>0.0</td>\n",
       "      <td>-0.053336</td>\n",
       "    </tr>\n",
       "  </tbody>\n",
       "</table>\n",
       "<p>2511 rows × 2 columns</p>\n",
       "</div>"
      ],
      "text/plain": [
       "      Actual  Predicted\n",
       "8098     0.0   0.102980\n",
       "3485     0.0  -0.002662\n",
       "1279     0.0  -0.044302\n",
       "6041     0.0  -0.041668\n",
       "7673     0.0  -0.027495\n",
       "...      ...        ...\n",
       "3374     0.0  -0.035201\n",
       "4728     0.0  -0.048267\n",
       "206      0.0  -0.062579\n",
       "4601     0.0  -0.059874\n",
       "435      0.0  -0.053336\n",
       "\n",
       "[2511 rows x 2 columns]"
      ]
     },
     "execution_count": 88,
     "metadata": {},
     "output_type": "execute_result"
    }
   ],
   "source": [
    "comp"
   ]
  },
  {
   "cell_type": "code",
   "execution_count": 89,
   "metadata": {},
   "outputs": [],
   "source": [
    "### Round function to convert the prediction to Integers\n",
    "def rounding_function(x):\n",
    "    y=x.copy()\n",
    "    for i in range(len(y)):\n",
    "        y[i]=round(y[i])\n",
    "        if y[i]<0:\n",
    "            y[i]=0\n",
    "    return y"
   ]
  },
  {
   "cell_type": "code",
   "execution_count": 90,
   "metadata": {},
   "outputs": [],
   "source": [
    "y_pred_final= rounding_function(y_pred_nn)"
   ]
  },
  {
   "cell_type": "code",
   "execution_count": 91,
   "metadata": {},
   "outputs": [
    {
     "data": {
      "text/html": [
       "<div>\n",
       "<style scoped>\n",
       "    .dataframe tbody tr th:only-of-type {\n",
       "        vertical-align: middle;\n",
       "    }\n",
       "\n",
       "    .dataframe tbody tr th {\n",
       "        vertical-align: top;\n",
       "    }\n",
       "\n",
       "    .dataframe thead th {\n",
       "        text-align: right;\n",
       "    }\n",
       "</style>\n",
       "<table border=\"1\" class=\"dataframe\">\n",
       "  <thead>\n",
       "    <tr style=\"text-align: right;\">\n",
       "      <th></th>\n",
       "      <th>Actual</th>\n",
       "      <th>Predicted</th>\n",
       "    </tr>\n",
       "  </thead>\n",
       "  <tbody>\n",
       "    <tr>\n",
       "      <th>4682</th>\n",
       "      <td>1.0</td>\n",
       "      <td>3.0</td>\n",
       "    </tr>\n",
       "    <tr>\n",
       "      <th>6047</th>\n",
       "      <td>8.0</td>\n",
       "      <td>0.0</td>\n",
       "    </tr>\n",
       "    <tr>\n",
       "      <th>6907</th>\n",
       "      <td>7.0</td>\n",
       "      <td>5.0</td>\n",
       "    </tr>\n",
       "    <tr>\n",
       "      <th>3760</th>\n",
       "      <td>9.0</td>\n",
       "      <td>10.0</td>\n",
       "    </tr>\n",
       "    <tr>\n",
       "      <th>3800</th>\n",
       "      <td>1.0</td>\n",
       "      <td>0.0</td>\n",
       "    </tr>\n",
       "    <tr>\n",
       "      <th>...</th>\n",
       "      <td>...</td>\n",
       "      <td>...</td>\n",
       "    </tr>\n",
       "    <tr>\n",
       "      <th>5405</th>\n",
       "      <td>1.0</td>\n",
       "      <td>0.0</td>\n",
       "    </tr>\n",
       "    <tr>\n",
       "      <th>314</th>\n",
       "      <td>1.0</td>\n",
       "      <td>1.0</td>\n",
       "    </tr>\n",
       "    <tr>\n",
       "      <th>2346</th>\n",
       "      <td>3.0</td>\n",
       "      <td>2.0</td>\n",
       "    </tr>\n",
       "    <tr>\n",
       "      <th>5489</th>\n",
       "      <td>4.0</td>\n",
       "      <td>2.0</td>\n",
       "    </tr>\n",
       "    <tr>\n",
       "      <th>1644</th>\n",
       "      <td>2.0</td>\n",
       "      <td>2.0</td>\n",
       "    </tr>\n",
       "  </tbody>\n",
       "</table>\n",
       "<p>439 rows × 2 columns</p>\n",
       "</div>"
      ],
      "text/plain": [
       "      Actual  Predicted\n",
       "4682     1.0        3.0\n",
       "6047     8.0        0.0\n",
       "6907     7.0        5.0\n",
       "3760     9.0       10.0\n",
       "3800     1.0        0.0\n",
       "...      ...        ...\n",
       "5405     1.0        0.0\n",
       "314      1.0        1.0\n",
       "2346     3.0        2.0\n",
       "5489     4.0        2.0\n",
       "1644     2.0        2.0\n",
       "\n",
       "[439 rows x 2 columns]"
      ]
     },
     "execution_count": 91,
     "metadata": {},
     "output_type": "execute_result"
    }
   ],
   "source": [
    "comparison = pd.DataFrame({'Actual': y_test, 'Predicted': y_pred_final})\n",
    "comparison[comparison['Actual']>0] ### Only for the records with Selections"
   ]
  },
  {
   "cell_type": "markdown",
   "metadata": {},
   "source": [
    "# Predictions for the Players"
   ]
  },
  {
   "cell_type": "code",
   "execution_count": 95,
   "metadata": {},
   "outputs": [
    {
     "data": {
      "text/html": [
       "<div>\n",
       "<style scoped>\n",
       "    .dataframe tbody tr th:only-of-type {\n",
       "        vertical-align: middle;\n",
       "    }\n",
       "\n",
       "    .dataframe tbody tr th {\n",
       "        vertical-align: top;\n",
       "    }\n",
       "\n",
       "    .dataframe thead th {\n",
       "        text-align: right;\n",
       "    }\n",
       "</style>\n",
       "<table border=\"1\" class=\"dataframe\">\n",
       "  <thead>\n",
       "    <tr style=\"text-align: right;\">\n",
       "      <th></th>\n",
       "      <th>Year</th>\n",
       "      <th>Player</th>\n",
       "      <th>Pos</th>\n",
       "      <th>Age</th>\n",
       "      <th>Tm</th>\n",
       "      <th>G</th>\n",
       "      <th>GS</th>\n",
       "      <th>MP</th>\n",
       "      <th>PER</th>\n",
       "      <th>TS%</th>\n",
       "      <th>...</th>\n",
       "      <th>DRB</th>\n",
       "      <th>AST</th>\n",
       "      <th>STL</th>\n",
       "      <th>BLK</th>\n",
       "      <th>TOV</th>\n",
       "      <th>PF</th>\n",
       "      <th>Selected</th>\n",
       "      <th>TAW</th>\n",
       "      <th>TYP</th>\n",
       "      <th>TAT</th>\n",
       "    </tr>\n",
       "  </thead>\n",
       "  <tbody>\n",
       "    <tr>\n",
       "      <th>12458</th>\n",
       "      <td>2010.0</td>\n",
       "      <td>Stephen Curry</td>\n",
       "      <td>PG</td>\n",
       "      <td>21.0</td>\n",
       "      <td>GSW</td>\n",
       "      <td>80.0</td>\n",
       "      <td>77.0</td>\n",
       "      <td>2896.0</td>\n",
       "      <td>16.3</td>\n",
       "      <td>0.568</td>\n",
       "      <td>...</td>\n",
       "      <td>308.0</td>\n",
       "      <td>472.0</td>\n",
       "      <td>152.0</td>\n",
       "      <td>19.0</td>\n",
       "      <td>243.0</td>\n",
       "      <td>252.0</td>\n",
       "      <td>0.0</td>\n",
       "      <td>4.0</td>\n",
       "      <td>1</td>\n",
       "      <td>0</td>\n",
       "    </tr>\n",
       "    <tr>\n",
       "      <th>13069</th>\n",
       "      <td>2011.0</td>\n",
       "      <td>Stephen Curry</td>\n",
       "      <td>PG</td>\n",
       "      <td>22.0</td>\n",
       "      <td>GSW</td>\n",
       "      <td>74.0</td>\n",
       "      <td>74.0</td>\n",
       "      <td>2489.0</td>\n",
       "      <td>19.4</td>\n",
       "      <td>0.595</td>\n",
       "      <td>...</td>\n",
       "      <td>234.0</td>\n",
       "      <td>432.0</td>\n",
       "      <td>109.0</td>\n",
       "      <td>20.0</td>\n",
       "      <td>226.0</td>\n",
       "      <td>233.0</td>\n",
       "      <td>0.0</td>\n",
       "      <td>4.0</td>\n",
       "      <td>2</td>\n",
       "      <td>0</td>\n",
       "    </tr>\n",
       "    <tr>\n",
       "      <th>14211</th>\n",
       "      <td>2013.0</td>\n",
       "      <td>Stephen Curry</td>\n",
       "      <td>PG</td>\n",
       "      <td>24.0</td>\n",
       "      <td>GSW</td>\n",
       "      <td>78.0</td>\n",
       "      <td>78.0</td>\n",
       "      <td>2983.0</td>\n",
       "      <td>21.3</td>\n",
       "      <td>0.589</td>\n",
       "      <td>...</td>\n",
       "      <td>255.0</td>\n",
       "      <td>539.0</td>\n",
       "      <td>126.0</td>\n",
       "      <td>12.0</td>\n",
       "      <td>240.0</td>\n",
       "      <td>198.0</td>\n",
       "      <td>0.0</td>\n",
       "      <td>4.0</td>\n",
       "      <td>3</td>\n",
       "      <td>0</td>\n",
       "    </tr>\n",
       "    <tr>\n",
       "      <th>14814</th>\n",
       "      <td>2014.0</td>\n",
       "      <td>Stephen Curry</td>\n",
       "      <td>PG</td>\n",
       "      <td>25.0</td>\n",
       "      <td>GSW</td>\n",
       "      <td>78.0</td>\n",
       "      <td>78.0</td>\n",
       "      <td>2846.0</td>\n",
       "      <td>24.1</td>\n",
       "      <td>0.610</td>\n",
       "      <td>...</td>\n",
       "      <td>288.0</td>\n",
       "      <td>666.0</td>\n",
       "      <td>128.0</td>\n",
       "      <td>14.0</td>\n",
       "      <td>294.0</td>\n",
       "      <td>194.0</td>\n",
       "      <td>1.0</td>\n",
       "      <td>4.0</td>\n",
       "      <td>4</td>\n",
       "      <td>1</td>\n",
       "    </tr>\n",
       "    <tr>\n",
       "      <th>15411</th>\n",
       "      <td>2015.0</td>\n",
       "      <td>Stephen Curry</td>\n",
       "      <td>PG</td>\n",
       "      <td>26.0</td>\n",
       "      <td>GSW</td>\n",
       "      <td>80.0</td>\n",
       "      <td>80.0</td>\n",
       "      <td>2613.0</td>\n",
       "      <td>28.0</td>\n",
       "      <td>0.638</td>\n",
       "      <td>...</td>\n",
       "      <td>285.0</td>\n",
       "      <td>619.0</td>\n",
       "      <td>163.0</td>\n",
       "      <td>16.0</td>\n",
       "      <td>249.0</td>\n",
       "      <td>158.0</td>\n",
       "      <td>1.0</td>\n",
       "      <td>4.0</td>\n",
       "      <td>5</td>\n",
       "      <td>2</td>\n",
       "    </tr>\n",
       "    <tr>\n",
       "      <th>16043</th>\n",
       "      <td>2016.0</td>\n",
       "      <td>Stephen Curry</td>\n",
       "      <td>PG</td>\n",
       "      <td>27.0</td>\n",
       "      <td>GSW</td>\n",
       "      <td>79.0</td>\n",
       "      <td>79.0</td>\n",
       "      <td>2700.0</td>\n",
       "      <td>31.5</td>\n",
       "      <td>0.669</td>\n",
       "      <td>...</td>\n",
       "      <td>362.0</td>\n",
       "      <td>527.0</td>\n",
       "      <td>169.0</td>\n",
       "      <td>15.0</td>\n",
       "      <td>262.0</td>\n",
       "      <td>161.0</td>\n",
       "      <td>1.0</td>\n",
       "      <td>4.0</td>\n",
       "      <td>6</td>\n",
       "      <td>3</td>\n",
       "    </tr>\n",
       "    <tr>\n",
       "      <th>16625</th>\n",
       "      <td>2017.0</td>\n",
       "      <td>Stephen Curry</td>\n",
       "      <td>PG</td>\n",
       "      <td>28.0</td>\n",
       "      <td>GSW</td>\n",
       "      <td>79.0</td>\n",
       "      <td>79.0</td>\n",
       "      <td>2638.0</td>\n",
       "      <td>24.6</td>\n",
       "      <td>0.624</td>\n",
       "      <td>...</td>\n",
       "      <td>292.0</td>\n",
       "      <td>523.0</td>\n",
       "      <td>143.0</td>\n",
       "      <td>17.0</td>\n",
       "      <td>239.0</td>\n",
       "      <td>183.0</td>\n",
       "      <td>1.0</td>\n",
       "      <td>4.0</td>\n",
       "      <td>7</td>\n",
       "      <td>4</td>\n",
       "    </tr>\n",
       "    <tr>\n",
       "      <th>13801</th>\n",
       "      <td>2012.0</td>\n",
       "      <td>Kyrie Irving</td>\n",
       "      <td>PG</td>\n",
       "      <td>19.0</td>\n",
       "      <td>CLE</td>\n",
       "      <td>51.0</td>\n",
       "      <td>51.0</td>\n",
       "      <td>1558.0</td>\n",
       "      <td>21.4</td>\n",
       "      <td>0.566</td>\n",
       "      <td>...</td>\n",
       "      <td>147.0</td>\n",
       "      <td>275.0</td>\n",
       "      <td>54.0</td>\n",
       "      <td>20.0</td>\n",
       "      <td>160.0</td>\n",
       "      <td>110.0</td>\n",
       "      <td>0.0</td>\n",
       "      <td>1.0</td>\n",
       "      <td>1</td>\n",
       "      <td>0</td>\n",
       "    </tr>\n",
       "    <tr>\n",
       "      <th>14339</th>\n",
       "      <td>2013.0</td>\n",
       "      <td>Kyrie Irving</td>\n",
       "      <td>PG</td>\n",
       "      <td>20.0</td>\n",
       "      <td>CLE</td>\n",
       "      <td>59.0</td>\n",
       "      <td>59.0</td>\n",
       "      <td>2048.0</td>\n",
       "      <td>21.4</td>\n",
       "      <td>0.553</td>\n",
       "      <td>...</td>\n",
       "      <td>182.0</td>\n",
       "      <td>350.0</td>\n",
       "      <td>89.0</td>\n",
       "      <td>21.0</td>\n",
       "      <td>191.0</td>\n",
       "      <td>146.0</td>\n",
       "      <td>0.0</td>\n",
       "      <td>1.0</td>\n",
       "      <td>2</td>\n",
       "      <td>0</td>\n",
       "    </tr>\n",
       "    <tr>\n",
       "      <th>14953</th>\n",
       "      <td>2014.0</td>\n",
       "      <td>Kyrie Irving</td>\n",
       "      <td>PG</td>\n",
       "      <td>21.0</td>\n",
       "      <td>CLE</td>\n",
       "      <td>71.0</td>\n",
       "      <td>71.0</td>\n",
       "      <td>2496.0</td>\n",
       "      <td>20.1</td>\n",
       "      <td>0.533</td>\n",
       "      <td>...</td>\n",
       "      <td>207.0</td>\n",
       "      <td>433.0</td>\n",
       "      <td>108.0</td>\n",
       "      <td>23.0</td>\n",
       "      <td>190.0</td>\n",
       "      <td>163.0</td>\n",
       "      <td>0.0</td>\n",
       "      <td>1.0</td>\n",
       "      <td>3</td>\n",
       "      <td>0</td>\n",
       "    </tr>\n",
       "    <tr>\n",
       "      <th>15559</th>\n",
       "      <td>2015.0</td>\n",
       "      <td>Kyrie Irving</td>\n",
       "      <td>PG</td>\n",
       "      <td>22.0</td>\n",
       "      <td>CLE</td>\n",
       "      <td>75.0</td>\n",
       "      <td>75.0</td>\n",
       "      <td>2730.0</td>\n",
       "      <td>21.5</td>\n",
       "      <td>0.583</td>\n",
       "      <td>...</td>\n",
       "      <td>182.0</td>\n",
       "      <td>389.0</td>\n",
       "      <td>114.0</td>\n",
       "      <td>20.0</td>\n",
       "      <td>186.0</td>\n",
       "      <td>146.0</td>\n",
       "      <td>1.0</td>\n",
       "      <td>1.0</td>\n",
       "      <td>4</td>\n",
       "      <td>1</td>\n",
       "    </tr>\n",
       "    <tr>\n",
       "      <th>16188</th>\n",
       "      <td>2016.0</td>\n",
       "      <td>Kyrie Irving</td>\n",
       "      <td>PG</td>\n",
       "      <td>23.0</td>\n",
       "      <td>CLE</td>\n",
       "      <td>53.0</td>\n",
       "      <td>53.0</td>\n",
       "      <td>1667.0</td>\n",
       "      <td>19.9</td>\n",
       "      <td>0.540</td>\n",
       "      <td>...</td>\n",
       "      <td>113.0</td>\n",
       "      <td>249.0</td>\n",
       "      <td>56.0</td>\n",
       "      <td>18.0</td>\n",
       "      <td>124.0</td>\n",
       "      <td>107.0</td>\n",
       "      <td>0.0</td>\n",
       "      <td>1.0</td>\n",
       "      <td>5</td>\n",
       "      <td>1</td>\n",
       "    </tr>\n",
       "    <tr>\n",
       "      <th>16769</th>\n",
       "      <td>2017.0</td>\n",
       "      <td>Kyrie Irving</td>\n",
       "      <td>PG</td>\n",
       "      <td>24.0</td>\n",
       "      <td>CLE</td>\n",
       "      <td>72.0</td>\n",
       "      <td>72.0</td>\n",
       "      <td>2525.0</td>\n",
       "      <td>23.0</td>\n",
       "      <td>0.580</td>\n",
       "      <td>...</td>\n",
       "      <td>178.0</td>\n",
       "      <td>418.0</td>\n",
       "      <td>83.0</td>\n",
       "      <td>25.0</td>\n",
       "      <td>180.0</td>\n",
       "      <td>157.0</td>\n",
       "      <td>0.0</td>\n",
       "      <td>1.0</td>\n",
       "      <td>6</td>\n",
       "      <td>1</td>\n",
       "    </tr>\n",
       "    <tr>\n",
       "      <th>16450</th>\n",
       "      <td>2016.0</td>\n",
       "      <td>Karl-Anthony Towns</td>\n",
       "      <td>C</td>\n",
       "      <td>20.0</td>\n",
       "      <td>MIN</td>\n",
       "      <td>82.0</td>\n",
       "      <td>82.0</td>\n",
       "      <td>2627.0</td>\n",
       "      <td>22.5</td>\n",
       "      <td>0.590</td>\n",
       "      <td>...</td>\n",
       "      <td>629.0</td>\n",
       "      <td>161.0</td>\n",
       "      <td>58.0</td>\n",
       "      <td>138.0</td>\n",
       "      <td>183.0</td>\n",
       "      <td>245.0</td>\n",
       "      <td>0.0</td>\n",
       "      <td>0.0</td>\n",
       "      <td>1</td>\n",
       "      <td>0</td>\n",
       "    </tr>\n",
       "    <tr>\n",
       "      <th>17034</th>\n",
       "      <td>2017.0</td>\n",
       "      <td>Karl-Anthony Towns</td>\n",
       "      <td>C</td>\n",
       "      <td>21.0</td>\n",
       "      <td>MIN</td>\n",
       "      <td>82.0</td>\n",
       "      <td>82.0</td>\n",
       "      <td>3030.0</td>\n",
       "      <td>26.0</td>\n",
       "      <td>0.618</td>\n",
       "      <td>...</td>\n",
       "      <td>711.0</td>\n",
       "      <td>220.0</td>\n",
       "      <td>57.0</td>\n",
       "      <td>103.0</td>\n",
       "      <td>212.0</td>\n",
       "      <td>241.0</td>\n",
       "      <td>0.0</td>\n",
       "      <td>0.0</td>\n",
       "      <td>2</td>\n",
       "      <td>0</td>\n",
       "    </tr>\n",
       "    <tr>\n",
       "      <th>17100</th>\n",
       "      <td>2019.0</td>\n",
       "      <td>Luka Doncic</td>\n",
       "      <td>SG</td>\n",
       "      <td>19.0</td>\n",
       "      <td>DAL</td>\n",
       "      <td>72.0</td>\n",
       "      <td>72.0</td>\n",
       "      <td>2318.0</td>\n",
       "      <td>19.6</td>\n",
       "      <td>0.545</td>\n",
       "      <td>...</td>\n",
       "      <td>477.0</td>\n",
       "      <td>429.0</td>\n",
       "      <td>77.0</td>\n",
       "      <td>25.0</td>\n",
       "      <td>247.0</td>\n",
       "      <td>137.0</td>\n",
       "      <td>0.0</td>\n",
       "      <td>0.0</td>\n",
       "      <td>1</td>\n",
       "      <td>0</td>\n",
       "    </tr>\n",
       "  </tbody>\n",
       "</table>\n",
       "<p>16 rows × 47 columns</p>\n",
       "</div>"
      ],
      "text/plain": [
       "         Year              Player Pos   Age   Tm     G    GS      MP   PER  \\\n",
       "12458  2010.0       Stephen Curry  PG  21.0  GSW  80.0  77.0  2896.0  16.3   \n",
       "13069  2011.0       Stephen Curry  PG  22.0  GSW  74.0  74.0  2489.0  19.4   \n",
       "14211  2013.0       Stephen Curry  PG  24.0  GSW  78.0  78.0  2983.0  21.3   \n",
       "14814  2014.0       Stephen Curry  PG  25.0  GSW  78.0  78.0  2846.0  24.1   \n",
       "15411  2015.0       Stephen Curry  PG  26.0  GSW  80.0  80.0  2613.0  28.0   \n",
       "16043  2016.0       Stephen Curry  PG  27.0  GSW  79.0  79.0  2700.0  31.5   \n",
       "16625  2017.0       Stephen Curry  PG  28.0  GSW  79.0  79.0  2638.0  24.6   \n",
       "13801  2012.0        Kyrie Irving  PG  19.0  CLE  51.0  51.0  1558.0  21.4   \n",
       "14339  2013.0        Kyrie Irving  PG  20.0  CLE  59.0  59.0  2048.0  21.4   \n",
       "14953  2014.0        Kyrie Irving  PG  21.0  CLE  71.0  71.0  2496.0  20.1   \n",
       "15559  2015.0        Kyrie Irving  PG  22.0  CLE  75.0  75.0  2730.0  21.5   \n",
       "16188  2016.0        Kyrie Irving  PG  23.0  CLE  53.0  53.0  1667.0  19.9   \n",
       "16769  2017.0        Kyrie Irving  PG  24.0  CLE  72.0  72.0  2525.0  23.0   \n",
       "16450  2016.0  Karl-Anthony Towns   C  20.0  MIN  82.0  82.0  2627.0  22.5   \n",
       "17034  2017.0  Karl-Anthony Towns   C  21.0  MIN  82.0  82.0  3030.0  26.0   \n",
       "17100  2019.0         Luka Doncic  SG  19.0  DAL  72.0  72.0  2318.0  19.6   \n",
       "\n",
       "         TS%  ...    DRB    AST    STL    BLK    TOV     PF  Selected  TAW  \\\n",
       "12458  0.568  ...  308.0  472.0  152.0   19.0  243.0  252.0       0.0  4.0   \n",
       "13069  0.595  ...  234.0  432.0  109.0   20.0  226.0  233.0       0.0  4.0   \n",
       "14211  0.589  ...  255.0  539.0  126.0   12.0  240.0  198.0       0.0  4.0   \n",
       "14814  0.610  ...  288.0  666.0  128.0   14.0  294.0  194.0       1.0  4.0   \n",
       "15411  0.638  ...  285.0  619.0  163.0   16.0  249.0  158.0       1.0  4.0   \n",
       "16043  0.669  ...  362.0  527.0  169.0   15.0  262.0  161.0       1.0  4.0   \n",
       "16625  0.624  ...  292.0  523.0  143.0   17.0  239.0  183.0       1.0  4.0   \n",
       "13801  0.566  ...  147.0  275.0   54.0   20.0  160.0  110.0       0.0  1.0   \n",
       "14339  0.553  ...  182.0  350.0   89.0   21.0  191.0  146.0       0.0  1.0   \n",
       "14953  0.533  ...  207.0  433.0  108.0   23.0  190.0  163.0       0.0  1.0   \n",
       "15559  0.583  ...  182.0  389.0  114.0   20.0  186.0  146.0       1.0  1.0   \n",
       "16188  0.540  ...  113.0  249.0   56.0   18.0  124.0  107.0       0.0  1.0   \n",
       "16769  0.580  ...  178.0  418.0   83.0   25.0  180.0  157.0       0.0  1.0   \n",
       "16450  0.590  ...  629.0  161.0   58.0  138.0  183.0  245.0       0.0  0.0   \n",
       "17034  0.618  ...  711.0  220.0   57.0  103.0  212.0  241.0       0.0  0.0   \n",
       "17100  0.545  ...  477.0  429.0   77.0   25.0  247.0  137.0       0.0  0.0   \n",
       "\n",
       "       TYP  TAT  \n",
       "12458    1    0  \n",
       "13069    2    0  \n",
       "14211    3    0  \n",
       "14814    4    1  \n",
       "15411    5    2  \n",
       "16043    6    3  \n",
       "16625    7    4  \n",
       "13801    1    0  \n",
       "14339    2    0  \n",
       "14953    3    0  \n",
       "15559    4    1  \n",
       "16188    5    1  \n",
       "16769    6    1  \n",
       "16450    1    0  \n",
       "17034    2    0  \n",
       "17100    1    0  \n",
       "\n",
       "[16 rows x 47 columns]"
      ]
     },
     "execution_count": 95,
     "metadata": {},
     "output_type": "execute_result"
    }
   ],
   "source": [
    "### Except Luka Doncic, for other players we have data till 2017. Luka Doncic's data is manually addded to the dataset\n",
    "Players_Analysis"
   ]
  },
  {
   "cell_type": "code",
   "execution_count": 98,
   "metadata": {},
   "outputs": [],
   "source": [
    "### Standardizing the Players data and preparing the data for Analysis\n",
    "s_data = Players_Analysis._get_numeric_data().transform(lambda x: (x - x.mean()) / x.std()).copy()\n",
    "s_data= s_data.drop(['Selected','TAW','Year'],axis=1)\n",
    "m_data = Players_Analysis[['Year','Player','Pos','TAW']]"
   ]
  },
  {
   "cell_type": "code",
   "execution_count": 99,
   "metadata": {},
   "outputs": [],
   "source": [
    "r = pd.concat([m_data, s_data],axis=1)"
   ]
  },
  {
   "cell_type": "code",
   "execution_count": 100,
   "metadata": {},
   "outputs": [
    {
     "data": {
      "text/plain": [
       "array(['PG', 'C', 'SG'], dtype=object)"
      ]
     },
     "execution_count": 100,
     "metadata": {},
     "output_type": "execute_result"
    }
   ],
   "source": [
    "r.Pos.unique()"
   ]
  },
  {
   "cell_type": "code",
   "execution_count": 103,
   "metadata": {},
   "outputs": [],
   "source": [
    "r['PG'] = np.where(r['Pos']=='PG', '1', '0')\n",
    "r['C'] = np.where(r['Pos']=='C', '1', '0')\n",
    "r['SG'] = np.where(r['Pos']=='SG', '1', '0')\n",
    "r['PF']=0\n",
    "r['SF']=0"
   ]
  },
  {
   "cell_type": "code",
   "execution_count": 106,
   "metadata": {},
   "outputs": [
    {
     "data": {
      "text/html": [
       "<div>\n",
       "<style scoped>\n",
       "    .dataframe tbody tr th:only-of-type {\n",
       "        vertical-align: middle;\n",
       "    }\n",
       "\n",
       "    .dataframe tbody tr th {\n",
       "        vertical-align: top;\n",
       "    }\n",
       "\n",
       "    .dataframe thead th {\n",
       "        text-align: right;\n",
       "    }\n",
       "</style>\n",
       "<table border=\"1\" class=\"dataframe\">\n",
       "  <thead>\n",
       "    <tr style=\"text-align: right;\">\n",
       "      <th></th>\n",
       "      <th>Year</th>\n",
       "      <th>Player</th>\n",
       "      <th>Pos</th>\n",
       "      <th>TAW</th>\n",
       "      <th>Age</th>\n",
       "      <th>G</th>\n",
       "      <th>GS</th>\n",
       "      <th>MP</th>\n",
       "      <th>PER</th>\n",
       "      <th>TS%</th>\n",
       "      <th>...</th>\n",
       "      <th>STL</th>\n",
       "      <th>BLK</th>\n",
       "      <th>TOV</th>\n",
       "      <th>PF</th>\n",
       "      <th>TYP</th>\n",
       "      <th>TAT</th>\n",
       "      <th>PG</th>\n",
       "      <th>C</th>\n",
       "      <th>SG</th>\n",
       "      <th>SF</th>\n",
       "    </tr>\n",
       "  </thead>\n",
       "  <tbody>\n",
       "    <tr>\n",
       "      <th>12458</th>\n",
       "      <td>2010.0</td>\n",
       "      <td>Stephen Curry</td>\n",
       "      <td>PG</td>\n",
       "      <td>4.0</td>\n",
       "      <td>-0.579987</td>\n",
       "      <td>0.725446</td>\n",
       "      <td>0.446871</td>\n",
       "      <td>0.901028</td>\n",
       "      <td>-1.689156</td>\n",
       "      <td>-0.520752</td>\n",
       "      <td>...</td>\n",
       "      <td>1.184894</td>\n",
       "      <td>-0.355992</td>\n",
       "      <td>0.664425</td>\n",
       "      <td>0</td>\n",
       "      <td>-1.142643</td>\n",
       "      <td>-0.664327</td>\n",
       "      <td>1</td>\n",
       "      <td>0</td>\n",
       "      <td>0</td>\n",
       "      <td>0</td>\n",
       "    </tr>\n",
       "    <tr>\n",
       "      <th>13069</th>\n",
       "      <td>2011.0</td>\n",
       "      <td>Stephen Curry</td>\n",
       "      <td>PG</td>\n",
       "      <td>4.0</td>\n",
       "      <td>-0.223072</td>\n",
       "      <td>0.119856</td>\n",
       "      <td>0.140445</td>\n",
       "      <td>-0.049635</td>\n",
       "      <td>-0.849656</td>\n",
       "      <td>0.197985</td>\n",
       "      <td>...</td>\n",
       "      <td>0.092123</td>\n",
       "      <td>-0.327794</td>\n",
       "      <td>0.273249</td>\n",
       "      <td>0</td>\n",
       "      <td>-0.648527</td>\n",
       "      <td>-0.664327</td>\n",
       "      <td>1</td>\n",
       "      <td>0</td>\n",
       "      <td>0</td>\n",
       "      <td>0</td>\n",
       "    </tr>\n",
       "  </tbody>\n",
       "</table>\n",
       "<p>2 rows × 49 columns</p>\n",
       "</div>"
      ],
      "text/plain": [
       "         Year         Player Pos  TAW       Age         G        GS        MP  \\\n",
       "12458  2010.0  Stephen Curry  PG  4.0 -0.579987  0.725446  0.446871  0.901028   \n",
       "13069  2011.0  Stephen Curry  PG  4.0 -0.223072  0.119856  0.140445 -0.049635   \n",
       "\n",
       "            PER       TS%  ...       STL       BLK       TOV  PF       TYP  \\\n",
       "12458 -1.689156 -0.520752  ...  1.184894 -0.355992  0.664425   0 -1.142643   \n",
       "13069 -0.849656  0.197985  ...  0.092123 -0.327794  0.273249   0 -0.648527   \n",
       "\n",
       "            TAT  PG  C  SG  SF  \n",
       "12458 -0.664327   1  0   0   0  \n",
       "13069 -0.664327   1  0   0   0  \n",
       "\n",
       "[2 rows x 49 columns]"
      ]
     },
     "execution_count": 106,
     "metadata": {},
     "output_type": "execute_result"
    }
   ],
   "source": [
    "r.head(2)"
   ]
  },
  {
   "cell_type": "markdown",
   "metadata": {},
   "source": [
    "# Luka Doncic"
   ]
  },
  {
   "cell_type": "markdown",
   "metadata": {},
   "source": [
    "Prediction using Neural Networks"
   ]
  },
  {
   "cell_type": "code",
   "execution_count": 110,
   "metadata": {},
   "outputs": [],
   "source": [
    "luka = r[r['Player']=='Luka Doncic']"
   ]
  },
  {
   "cell_type": "code",
   "execution_count": 111,
   "metadata": {},
   "outputs": [
    {
     "data": {
      "text/html": [
       "<div>\n",
       "<style scoped>\n",
       "    .dataframe tbody tr th:only-of-type {\n",
       "        vertical-align: middle;\n",
       "    }\n",
       "\n",
       "    .dataframe tbody tr th {\n",
       "        vertical-align: top;\n",
       "    }\n",
       "\n",
       "    .dataframe thead th {\n",
       "        text-align: right;\n",
       "    }\n",
       "</style>\n",
       "<table border=\"1\" class=\"dataframe\">\n",
       "  <thead>\n",
       "    <tr style=\"text-align: right;\">\n",
       "      <th></th>\n",
       "      <th>Year</th>\n",
       "      <th>Player</th>\n",
       "      <th>Pos</th>\n",
       "      <th>TAW</th>\n",
       "      <th>Age</th>\n",
       "      <th>G</th>\n",
       "      <th>GS</th>\n",
       "      <th>MP</th>\n",
       "      <th>PER</th>\n",
       "      <th>TS%</th>\n",
       "      <th>...</th>\n",
       "      <th>STL</th>\n",
       "      <th>BLK</th>\n",
       "      <th>TOV</th>\n",
       "      <th>PF</th>\n",
       "      <th>TYP</th>\n",
       "      <th>TAT</th>\n",
       "      <th>PG</th>\n",
       "      <th>C</th>\n",
       "      <th>SG</th>\n",
       "      <th>SF</th>\n",
       "    </tr>\n",
       "  </thead>\n",
       "  <tbody>\n",
       "    <tr>\n",
       "      <th>17100</th>\n",
       "      <td>2019.0</td>\n",
       "      <td>Luka Doncic</td>\n",
       "      <td>SG</td>\n",
       "      <td>0.0</td>\n",
       "      <td>-1.293818</td>\n",
       "      <td>-0.082007</td>\n",
       "      <td>-0.063839</td>\n",
       "      <td>-0.449054</td>\n",
       "      <td>-0.795494</td>\n",
       "      <td>-1.133009</td>\n",
       "      <td>...</td>\n",
       "      <td>-0.721102</td>\n",
       "      <td>-0.186808</td>\n",
       "      <td>0.756467</td>\n",
       "      <td>0</td>\n",
       "      <td>-1.142643</td>\n",
       "      <td>-0.664327</td>\n",
       "      <td>0</td>\n",
       "      <td>0</td>\n",
       "      <td>1</td>\n",
       "      <td>0</td>\n",
       "    </tr>\n",
       "  </tbody>\n",
       "</table>\n",
       "<p>1 rows × 49 columns</p>\n",
       "</div>"
      ],
      "text/plain": [
       "         Year       Player Pos  TAW       Age         G        GS        MP  \\\n",
       "17100  2019.0  Luka Doncic  SG  0.0 -1.293818 -0.082007 -0.063839 -0.449054   \n",
       "\n",
       "            PER       TS%  ...       STL       BLK       TOV  PF       TYP  \\\n",
       "17100 -0.795494 -1.133009  ... -0.721102 -0.186808  0.756467   0 -1.142643   \n",
       "\n",
       "            TAT  PG  C  SG  SF  \n",
       "17100 -0.664327   0  0   1   0  \n",
       "\n",
       "[1 rows x 49 columns]"
      ]
     },
     "execution_count": 111,
     "metadata": {},
     "output_type": "execute_result"
    }
   ],
   "source": [
    "luka"
   ]
  },
  {
   "cell_type": "code",
   "execution_count": 132,
   "metadata": {},
   "outputs": [],
   "source": [
    "luka_test = luka.drop(['Year','Player','Pos','TAW'], axis=1)"
   ]
  },
  {
   "cell_type": "code",
   "execution_count": 148,
   "metadata": {},
   "outputs": [],
   "source": [
    "luka_predict = nn.predict(luka_test)"
   ]
  },
  {
   "cell_type": "code",
   "execution_count": 149,
   "metadata": {},
   "outputs": [
    {
     "data": {
      "text/plain": [
       "array(0.61564267, dtype=float32)"
      ]
     },
     "execution_count": 149,
     "metadata": {},
     "output_type": "execute_result"
    }
   ],
   "source": [
    "luka_predict"
   ]
  },
  {
   "cell_type": "markdown",
   "metadata": {},
   "source": [
    "# Karl-Anthony Towns"
   ]
  },
  {
   "cell_type": "code",
   "execution_count": 116,
   "metadata": {},
   "outputs": [],
   "source": [
    "karl = r[r['Player']=='Karl-Anthony Towns']"
   ]
  },
  {
   "cell_type": "code",
   "execution_count": 117,
   "metadata": {},
   "outputs": [
    {
     "data": {
      "text/html": [
       "<div>\n",
       "<style scoped>\n",
       "    .dataframe tbody tr th:only-of-type {\n",
       "        vertical-align: middle;\n",
       "    }\n",
       "\n",
       "    .dataframe tbody tr th {\n",
       "        vertical-align: top;\n",
       "    }\n",
       "\n",
       "    .dataframe thead th {\n",
       "        text-align: right;\n",
       "    }\n",
       "</style>\n",
       "<table border=\"1\" class=\"dataframe\">\n",
       "  <thead>\n",
       "    <tr style=\"text-align: right;\">\n",
       "      <th></th>\n",
       "      <th>Year</th>\n",
       "      <th>Player</th>\n",
       "      <th>Pos</th>\n",
       "      <th>TAW</th>\n",
       "      <th>Age</th>\n",
       "      <th>G</th>\n",
       "      <th>GS</th>\n",
       "      <th>MP</th>\n",
       "      <th>PER</th>\n",
       "      <th>TS%</th>\n",
       "      <th>...</th>\n",
       "      <th>STL</th>\n",
       "      <th>BLK</th>\n",
       "      <th>TOV</th>\n",
       "      <th>PF</th>\n",
       "      <th>TYP</th>\n",
       "      <th>TAT</th>\n",
       "      <th>PG</th>\n",
       "      <th>C</th>\n",
       "      <th>SG</th>\n",
       "      <th>SF</th>\n",
       "    </tr>\n",
       "  </thead>\n",
       "  <tbody>\n",
       "    <tr>\n",
       "      <th>16450</th>\n",
       "      <td>2016.0</td>\n",
       "      <td>Karl-Anthony Towns</td>\n",
       "      <td>C</td>\n",
       "      <td>0.0</td>\n",
       "      <td>-0.936903</td>\n",
       "      <td>0.927309</td>\n",
       "      <td>0.95758</td>\n",
       "      <td>0.272703</td>\n",
       "      <td>-0.010155</td>\n",
       "      <td>0.064886</td>\n",
       "      <td>...</td>\n",
       "      <td>-1.203954</td>\n",
       "      <td>2.999495</td>\n",
       "      <td>-0.716199</td>\n",
       "      <td>0</td>\n",
       "      <td>-1.142643</td>\n",
       "      <td>-0.664327</td>\n",
       "      <td>0</td>\n",
       "      <td>1</td>\n",
       "      <td>0</td>\n",
       "      <td>0</td>\n",
       "    </tr>\n",
       "    <tr>\n",
       "      <th>17034</th>\n",
       "      <td>2017.0</td>\n",
       "      <td>Karl-Anthony Towns</td>\n",
       "      <td>C</td>\n",
       "      <td>0.0</td>\n",
       "      <td>-0.579987</td>\n",
       "      <td>0.927309</td>\n",
       "      <td>0.95758</td>\n",
       "      <td>1.214023</td>\n",
       "      <td>0.937668</td>\n",
       "      <td>0.810243</td>\n",
       "      <td>...</td>\n",
       "      <td>-1.229368</td>\n",
       "      <td>2.012587</td>\n",
       "      <td>-0.048897</td>\n",
       "      <td>0</td>\n",
       "      <td>-0.648527</td>\n",
       "      <td>-0.664327</td>\n",
       "      <td>0</td>\n",
       "      <td>1</td>\n",
       "      <td>0</td>\n",
       "      <td>0</td>\n",
       "    </tr>\n",
       "  </tbody>\n",
       "</table>\n",
       "<p>2 rows × 49 columns</p>\n",
       "</div>"
      ],
      "text/plain": [
       "         Year              Player Pos  TAW       Age         G       GS  \\\n",
       "16450  2016.0  Karl-Anthony Towns   C  0.0 -0.936903  0.927309  0.95758   \n",
       "17034  2017.0  Karl-Anthony Towns   C  0.0 -0.579987  0.927309  0.95758   \n",
       "\n",
       "             MP       PER       TS%  ...       STL       BLK       TOV  PF  \\\n",
       "16450  0.272703 -0.010155  0.064886  ... -1.203954  2.999495 -0.716199   0   \n",
       "17034  1.214023  0.937668  0.810243  ... -1.229368  2.012587 -0.048897   0   \n",
       "\n",
       "            TYP       TAT  PG  C  SG  SF  \n",
       "16450 -1.142643 -0.664327   0  1   0   0  \n",
       "17034 -0.648527 -0.664327   0  1   0   0  \n",
       "\n",
       "[2 rows x 49 columns]"
      ]
     },
     "execution_count": 117,
     "metadata": {},
     "output_type": "execute_result"
    }
   ],
   "source": [
    "karl"
   ]
  },
  {
   "cell_type": "code",
   "execution_count": 122,
   "metadata": {},
   "outputs": [],
   "source": [
    "### We will use the 2017 stats for the prediction\n",
    "karl_test = karl.iloc[[1]].drop(['Year','Player','Pos','TAW'], axis=1)"
   ]
  },
  {
   "cell_type": "code",
   "execution_count": 150,
   "metadata": {},
   "outputs": [],
   "source": [
    "karl_predict = nn.predict(karl_test)"
   ]
  },
  {
   "cell_type": "code",
   "execution_count": 151,
   "metadata": {},
   "outputs": [
    {
     "data": {
      "text/plain": [
       "array(0.17276272, dtype=float32)"
      ]
     },
     "execution_count": 151,
     "metadata": {},
     "output_type": "execute_result"
    }
   ],
   "source": [
    "karl_predict"
   ]
  },
  {
   "cell_type": "markdown",
   "metadata": {},
   "source": [
    "# Kyrie Irving"
   ]
  },
  {
   "cell_type": "code",
   "execution_count": 126,
   "metadata": {},
   "outputs": [],
   "source": [
    "kyrie = r[r['Player']=='Kyrie Irving']"
   ]
  },
  {
   "cell_type": "code",
   "execution_count": 127,
   "metadata": {},
   "outputs": [
    {
     "data": {
      "text/html": [
       "<div>\n",
       "<style scoped>\n",
       "    .dataframe tbody tr th:only-of-type {\n",
       "        vertical-align: middle;\n",
       "    }\n",
       "\n",
       "    .dataframe tbody tr th {\n",
       "        vertical-align: top;\n",
       "    }\n",
       "\n",
       "    .dataframe thead th {\n",
       "        text-align: right;\n",
       "    }\n",
       "</style>\n",
       "<table border=\"1\" class=\"dataframe\">\n",
       "  <thead>\n",
       "    <tr style=\"text-align: right;\">\n",
       "      <th></th>\n",
       "      <th>Year</th>\n",
       "      <th>Player</th>\n",
       "      <th>Pos</th>\n",
       "      <th>TAW</th>\n",
       "      <th>Age</th>\n",
       "      <th>G</th>\n",
       "      <th>GS</th>\n",
       "      <th>MP</th>\n",
       "      <th>PER</th>\n",
       "      <th>TS%</th>\n",
       "      <th>...</th>\n",
       "      <th>STL</th>\n",
       "      <th>BLK</th>\n",
       "      <th>TOV</th>\n",
       "      <th>PF</th>\n",
       "      <th>TYP</th>\n",
       "      <th>TAT</th>\n",
       "      <th>PG</th>\n",
       "      <th>C</th>\n",
       "      <th>SG</th>\n",
       "      <th>SF</th>\n",
       "    </tr>\n",
       "  </thead>\n",
       "  <tbody>\n",
       "    <tr>\n",
       "      <th>13801</th>\n",
       "      <td>2012.0</td>\n",
       "      <td>Kyrie Irving</td>\n",
       "      <td>PG</td>\n",
       "      <td>1.0</td>\n",
       "      <td>-1.293818</td>\n",
       "      <td>-2.201571</td>\n",
       "      <td>-2.208819</td>\n",
       "      <td>-2.224250</td>\n",
       "      <td>-0.308042</td>\n",
       "      <td>-0.573992</td>\n",
       "      <td>...</td>\n",
       "      <td>-1.305607</td>\n",
       "      <td>-0.327794</td>\n",
       "      <td>-1.245438</td>\n",
       "      <td>0</td>\n",
       "      <td>-1.142643</td>\n",
       "      <td>-0.664327</td>\n",
       "      <td>1</td>\n",
       "      <td>0</td>\n",
       "      <td>0</td>\n",
       "      <td>0</td>\n",
       "    </tr>\n",
       "    <tr>\n",
       "      <th>14339</th>\n",
       "      <td>2013.0</td>\n",
       "      <td>Kyrie Irving</td>\n",
       "      <td>PG</td>\n",
       "      <td>1.0</td>\n",
       "      <td>-0.936903</td>\n",
       "      <td>-1.394118</td>\n",
       "      <td>-1.391683</td>\n",
       "      <td>-1.079716</td>\n",
       "      <td>-0.308042</td>\n",
       "      <td>-0.920050</td>\n",
       "      <td>...</td>\n",
       "      <td>-0.416142</td>\n",
       "      <td>-0.299597</td>\n",
       "      <td>-0.532116</td>\n",
       "      <td>0</td>\n",
       "      <td>-0.648527</td>\n",
       "      <td>-0.664327</td>\n",
       "      <td>1</td>\n",
       "      <td>0</td>\n",
       "      <td>0</td>\n",
       "      <td>0</td>\n",
       "    </tr>\n",
       "    <tr>\n",
       "      <th>14953</th>\n",
       "      <td>2014.0</td>\n",
       "      <td>Kyrie Irving</td>\n",
       "      <td>PG</td>\n",
       "      <td>1.0</td>\n",
       "      <td>-0.579987</td>\n",
       "      <td>-0.182939</td>\n",
       "      <td>-0.165981</td>\n",
       "      <td>-0.033285</td>\n",
       "      <td>-0.660091</td>\n",
       "      <td>-1.452448</td>\n",
       "      <td>...</td>\n",
       "      <td>0.066710</td>\n",
       "      <td>-0.243202</td>\n",
       "      <td>-0.555126</td>\n",
       "      <td>0</td>\n",
       "      <td>-0.154411</td>\n",
       "      <td>-0.664327</td>\n",
       "      <td>1</td>\n",
       "      <td>0</td>\n",
       "      <td>0</td>\n",
       "      <td>0</td>\n",
       "    </tr>\n",
       "    <tr>\n",
       "      <th>15559</th>\n",
       "      <td>2015.0</td>\n",
       "      <td>Kyrie Irving</td>\n",
       "      <td>PG</td>\n",
       "      <td>1.0</td>\n",
       "      <td>-0.223072</td>\n",
       "      <td>0.220788</td>\n",
       "      <td>0.242587</td>\n",
       "      <td>0.513288</td>\n",
       "      <td>-0.280962</td>\n",
       "      <td>-0.121453</td>\n",
       "      <td>...</td>\n",
       "      <td>0.219190</td>\n",
       "      <td>-0.327794</td>\n",
       "      <td>-0.647168</td>\n",
       "      <td>0</td>\n",
       "      <td>0.339705</td>\n",
       "      <td>0.153306</td>\n",
       "      <td>1</td>\n",
       "      <td>0</td>\n",
       "      <td>0</td>\n",
       "      <td>0</td>\n",
       "    </tr>\n",
       "    <tr>\n",
       "      <th>16188</th>\n",
       "      <td>2016.0</td>\n",
       "      <td>Kyrie Irving</td>\n",
       "      <td>PG</td>\n",
       "      <td>1.0</td>\n",
       "      <td>0.133843</td>\n",
       "      <td>-1.999707</td>\n",
       "      <td>-2.004535</td>\n",
       "      <td>-1.969649</td>\n",
       "      <td>-0.714252</td>\n",
       "      <td>-1.266109</td>\n",
       "      <td>...</td>\n",
       "      <td>-1.254781</td>\n",
       "      <td>-0.384189</td>\n",
       "      <td>-2.073813</td>\n",
       "      <td>0</td>\n",
       "      <td>0.833821</td>\n",
       "      <td>0.153306</td>\n",
       "      <td>1</td>\n",
       "      <td>0</td>\n",
       "      <td>0</td>\n",
       "      <td>0</td>\n",
       "    </tr>\n",
       "    <tr>\n",
       "      <th>16769</th>\n",
       "      <td>2017.0</td>\n",
       "      <td>Kyrie Irving</td>\n",
       "      <td>PG</td>\n",
       "      <td>1.0</td>\n",
       "      <td>0.490759</td>\n",
       "      <td>-0.082007</td>\n",
       "      <td>-0.063839</td>\n",
       "      <td>0.034453</td>\n",
       "      <td>0.125248</td>\n",
       "      <td>-0.201313</td>\n",
       "      <td>...</td>\n",
       "      <td>-0.568622</td>\n",
       "      <td>-0.186808</td>\n",
       "      <td>-0.785230</td>\n",
       "      <td>0</td>\n",
       "      <td>1.327937</td>\n",
       "      <td>0.153306</td>\n",
       "      <td>1</td>\n",
       "      <td>0</td>\n",
       "      <td>0</td>\n",
       "      <td>0</td>\n",
       "    </tr>\n",
       "  </tbody>\n",
       "</table>\n",
       "<p>6 rows × 49 columns</p>\n",
       "</div>"
      ],
      "text/plain": [
       "         Year        Player Pos  TAW       Age         G        GS        MP  \\\n",
       "13801  2012.0  Kyrie Irving  PG  1.0 -1.293818 -2.201571 -2.208819 -2.224250   \n",
       "14339  2013.0  Kyrie Irving  PG  1.0 -0.936903 -1.394118 -1.391683 -1.079716   \n",
       "14953  2014.0  Kyrie Irving  PG  1.0 -0.579987 -0.182939 -0.165981 -0.033285   \n",
       "15559  2015.0  Kyrie Irving  PG  1.0 -0.223072  0.220788  0.242587  0.513288   \n",
       "16188  2016.0  Kyrie Irving  PG  1.0  0.133843 -1.999707 -2.004535 -1.969649   \n",
       "16769  2017.0  Kyrie Irving  PG  1.0  0.490759 -0.082007 -0.063839  0.034453   \n",
       "\n",
       "            PER       TS%  ...       STL       BLK       TOV  PF       TYP  \\\n",
       "13801 -0.308042 -0.573992  ... -1.305607 -0.327794 -1.245438   0 -1.142643   \n",
       "14339 -0.308042 -0.920050  ... -0.416142 -0.299597 -0.532116   0 -0.648527   \n",
       "14953 -0.660091 -1.452448  ...  0.066710 -0.243202 -0.555126   0 -0.154411   \n",
       "15559 -0.280962 -0.121453  ...  0.219190 -0.327794 -0.647168   0  0.339705   \n",
       "16188 -0.714252 -1.266109  ... -1.254781 -0.384189 -2.073813   0  0.833821   \n",
       "16769  0.125248 -0.201313  ... -0.568622 -0.186808 -0.785230   0  1.327937   \n",
       "\n",
       "            TAT  PG  C  SG  SF  \n",
       "13801 -0.664327   1  0   0   0  \n",
       "14339 -0.664327   1  0   0   0  \n",
       "14953 -0.664327   1  0   0   0  \n",
       "15559  0.153306   1  0   0   0  \n",
       "16188  0.153306   1  0   0   0  \n",
       "16769  0.153306   1  0   0   0  \n",
       "\n",
       "[6 rows x 49 columns]"
      ]
     },
     "execution_count": 127,
     "metadata": {},
     "output_type": "execute_result"
    }
   ],
   "source": [
    "kyrie"
   ]
  },
  {
   "cell_type": "code",
   "execution_count": 135,
   "metadata": {},
   "outputs": [],
   "source": [
    "### We will use the 2017 stats for the prediction\n",
    "kyrie_test = kyrie.iloc[[5]].drop(['Year','Player','Pos','TAW'], axis=1)"
   ]
  },
  {
   "cell_type": "code",
   "execution_count": 152,
   "metadata": {},
   "outputs": [],
   "source": [
    "kyrie_predict = nn.predict(kyrie_test)"
   ]
  },
  {
   "cell_type": "code",
   "execution_count": 153,
   "metadata": {},
   "outputs": [
    {
     "data": {
      "text/plain": [
       "array(0.18732545, dtype=float32)"
      ]
     },
     "execution_count": 153,
     "metadata": {},
     "output_type": "execute_result"
    }
   ],
   "source": [
    "kyrie_predict"
   ]
  },
  {
   "cell_type": "markdown",
   "metadata": {},
   "source": [
    "# Stephen Curry"
   ]
  },
  {
   "cell_type": "code",
   "execution_count": 138,
   "metadata": {},
   "outputs": [],
   "source": [
    "stephen = r[r['Player']=='Stephen Curry']"
   ]
  },
  {
   "cell_type": "code",
   "execution_count": 139,
   "metadata": {},
   "outputs": [
    {
     "data": {
      "text/html": [
       "<div>\n",
       "<style scoped>\n",
       "    .dataframe tbody tr th:only-of-type {\n",
       "        vertical-align: middle;\n",
       "    }\n",
       "\n",
       "    .dataframe tbody tr th {\n",
       "        vertical-align: top;\n",
       "    }\n",
       "\n",
       "    .dataframe thead th {\n",
       "        text-align: right;\n",
       "    }\n",
       "</style>\n",
       "<table border=\"1\" class=\"dataframe\">\n",
       "  <thead>\n",
       "    <tr style=\"text-align: right;\">\n",
       "      <th></th>\n",
       "      <th>Year</th>\n",
       "      <th>Player</th>\n",
       "      <th>Pos</th>\n",
       "      <th>TAW</th>\n",
       "      <th>Age</th>\n",
       "      <th>G</th>\n",
       "      <th>GS</th>\n",
       "      <th>MP</th>\n",
       "      <th>PER</th>\n",
       "      <th>TS%</th>\n",
       "      <th>...</th>\n",
       "      <th>STL</th>\n",
       "      <th>BLK</th>\n",
       "      <th>TOV</th>\n",
       "      <th>PF</th>\n",
       "      <th>TYP</th>\n",
       "      <th>TAT</th>\n",
       "      <th>PG</th>\n",
       "      <th>C</th>\n",
       "      <th>SG</th>\n",
       "      <th>SF</th>\n",
       "    </tr>\n",
       "  </thead>\n",
       "  <tbody>\n",
       "    <tr>\n",
       "      <th>12458</th>\n",
       "      <td>2010.0</td>\n",
       "      <td>Stephen Curry</td>\n",
       "      <td>PG</td>\n",
       "      <td>4.0</td>\n",
       "      <td>-0.579987</td>\n",
       "      <td>0.725446</td>\n",
       "      <td>0.446871</td>\n",
       "      <td>0.901028</td>\n",
       "      <td>-1.689156</td>\n",
       "      <td>-0.520752</td>\n",
       "      <td>...</td>\n",
       "      <td>1.184894</td>\n",
       "      <td>-0.355992</td>\n",
       "      <td>0.664425</td>\n",
       "      <td>0</td>\n",
       "      <td>-1.142643</td>\n",
       "      <td>-0.664327</td>\n",
       "      <td>1</td>\n",
       "      <td>0</td>\n",
       "      <td>0</td>\n",
       "      <td>0</td>\n",
       "    </tr>\n",
       "    <tr>\n",
       "      <th>13069</th>\n",
       "      <td>2011.0</td>\n",
       "      <td>Stephen Curry</td>\n",
       "      <td>PG</td>\n",
       "      <td>4.0</td>\n",
       "      <td>-0.223072</td>\n",
       "      <td>0.119856</td>\n",
       "      <td>0.140445</td>\n",
       "      <td>-0.049635</td>\n",
       "      <td>-0.849656</td>\n",
       "      <td>0.197985</td>\n",
       "      <td>...</td>\n",
       "      <td>0.092123</td>\n",
       "      <td>-0.327794</td>\n",
       "      <td>0.273249</td>\n",
       "      <td>0</td>\n",
       "      <td>-0.648527</td>\n",
       "      <td>-0.664327</td>\n",
       "      <td>1</td>\n",
       "      <td>0</td>\n",
       "      <td>0</td>\n",
       "      <td>0</td>\n",
       "    </tr>\n",
       "    <tr>\n",
       "      <th>14211</th>\n",
       "      <td>2013.0</td>\n",
       "      <td>Stephen Curry</td>\n",
       "      <td>PG</td>\n",
       "      <td>4.0</td>\n",
       "      <td>0.490759</td>\n",
       "      <td>0.523583</td>\n",
       "      <td>0.549013</td>\n",
       "      <td>1.104242</td>\n",
       "      <td>-0.335123</td>\n",
       "      <td>0.038266</td>\n",
       "      <td>...</td>\n",
       "      <td>0.524149</td>\n",
       "      <td>-0.553373</td>\n",
       "      <td>0.595394</td>\n",
       "      <td>0</td>\n",
       "      <td>-0.154411</td>\n",
       "      <td>-0.664327</td>\n",
       "      <td>1</td>\n",
       "      <td>0</td>\n",
       "      <td>0</td>\n",
       "      <td>0</td>\n",
       "    </tr>\n",
       "    <tr>\n",
       "      <th>14814</th>\n",
       "      <td>2014.0</td>\n",
       "      <td>Stephen Curry</td>\n",
       "      <td>PG</td>\n",
       "      <td>4.0</td>\n",
       "      <td>0.847674</td>\n",
       "      <td>0.523583</td>\n",
       "      <td>0.549013</td>\n",
       "      <td>0.784239</td>\n",
       "      <td>0.423135</td>\n",
       "      <td>0.597284</td>\n",
       "      <td>...</td>\n",
       "      <td>0.574976</td>\n",
       "      <td>-0.496979</td>\n",
       "      <td>1.837956</td>\n",
       "      <td>0</td>\n",
       "      <td>0.339705</td>\n",
       "      <td>0.153306</td>\n",
       "      <td>1</td>\n",
       "      <td>0</td>\n",
       "      <td>0</td>\n",
       "      <td>0</td>\n",
       "    </tr>\n",
       "    <tr>\n",
       "      <th>15411</th>\n",
       "      <td>2015.0</td>\n",
       "      <td>Stephen Curry</td>\n",
       "      <td>PG</td>\n",
       "      <td>4.0</td>\n",
       "      <td>1.204589</td>\n",
       "      <td>0.725446</td>\n",
       "      <td>0.753297</td>\n",
       "      <td>0.240002</td>\n",
       "      <td>1.479281</td>\n",
       "      <td>1.342641</td>\n",
       "      <td>...</td>\n",
       "      <td>1.464440</td>\n",
       "      <td>-0.440584</td>\n",
       "      <td>0.802488</td>\n",
       "      <td>0</td>\n",
       "      <td>0.833821</td>\n",
       "      <td>0.970939</td>\n",
       "      <td>1</td>\n",
       "      <td>0</td>\n",
       "      <td>0</td>\n",
       "      <td>0</td>\n",
       "    </tr>\n",
       "    <tr>\n",
       "      <th>16043</th>\n",
       "      <td>2016.0</td>\n",
       "      <td>Stephen Curry</td>\n",
       "      <td>PG</td>\n",
       "      <td>4.0</td>\n",
       "      <td>1.561504</td>\n",
       "      <td>0.624514</td>\n",
       "      <td>0.651155</td>\n",
       "      <td>0.443215</td>\n",
       "      <td>2.427104</td>\n",
       "      <td>2.167858</td>\n",
       "      <td>...</td>\n",
       "      <td>1.616920</td>\n",
       "      <td>-0.468781</td>\n",
       "      <td>1.101623</td>\n",
       "      <td>0</td>\n",
       "      <td>1.327937</td>\n",
       "      <td>1.788572</td>\n",
       "      <td>1</td>\n",
       "      <td>0</td>\n",
       "      <td>0</td>\n",
       "      <td>0</td>\n",
       "    </tr>\n",
       "    <tr>\n",
       "      <th>16625</th>\n",
       "      <td>2017.0</td>\n",
       "      <td>Stephen Curry</td>\n",
       "      <td>PG</td>\n",
       "      <td>4.0</td>\n",
       "      <td>1.918420</td>\n",
       "      <td>0.624514</td>\n",
       "      <td>0.651155</td>\n",
       "      <td>0.298396</td>\n",
       "      <td>0.558539</td>\n",
       "      <td>0.969962</td>\n",
       "      <td>...</td>\n",
       "      <td>0.956175</td>\n",
       "      <td>-0.412387</td>\n",
       "      <td>0.572384</td>\n",
       "      <td>0</td>\n",
       "      <td>1.822053</td>\n",
       "      <td>2.606205</td>\n",
       "      <td>1</td>\n",
       "      <td>0</td>\n",
       "      <td>0</td>\n",
       "      <td>0</td>\n",
       "    </tr>\n",
       "  </tbody>\n",
       "</table>\n",
       "<p>7 rows × 49 columns</p>\n",
       "</div>"
      ],
      "text/plain": [
       "         Year         Player Pos  TAW       Age         G        GS        MP  \\\n",
       "12458  2010.0  Stephen Curry  PG  4.0 -0.579987  0.725446  0.446871  0.901028   \n",
       "13069  2011.0  Stephen Curry  PG  4.0 -0.223072  0.119856  0.140445 -0.049635   \n",
       "14211  2013.0  Stephen Curry  PG  4.0  0.490759  0.523583  0.549013  1.104242   \n",
       "14814  2014.0  Stephen Curry  PG  4.0  0.847674  0.523583  0.549013  0.784239   \n",
       "15411  2015.0  Stephen Curry  PG  4.0  1.204589  0.725446  0.753297  0.240002   \n",
       "16043  2016.0  Stephen Curry  PG  4.0  1.561504  0.624514  0.651155  0.443215   \n",
       "16625  2017.0  Stephen Curry  PG  4.0  1.918420  0.624514  0.651155  0.298396   \n",
       "\n",
       "            PER       TS%  ...       STL       BLK       TOV  PF       TYP  \\\n",
       "12458 -1.689156 -0.520752  ...  1.184894 -0.355992  0.664425   0 -1.142643   \n",
       "13069 -0.849656  0.197985  ...  0.092123 -0.327794  0.273249   0 -0.648527   \n",
       "14211 -0.335123  0.038266  ...  0.524149 -0.553373  0.595394   0 -0.154411   \n",
       "14814  0.423135  0.597284  ...  0.574976 -0.496979  1.837956   0  0.339705   \n",
       "15411  1.479281  1.342641  ...  1.464440 -0.440584  0.802488   0  0.833821   \n",
       "16043  2.427104  2.167858  ...  1.616920 -0.468781  1.101623   0  1.327937   \n",
       "16625  0.558539  0.969962  ...  0.956175 -0.412387  0.572384   0  1.822053   \n",
       "\n",
       "            TAT  PG  C  SG  SF  \n",
       "12458 -0.664327   1  0   0   0  \n",
       "13069 -0.664327   1  0   0   0  \n",
       "14211 -0.664327   1  0   0   0  \n",
       "14814  0.153306   1  0   0   0  \n",
       "15411  0.970939   1  0   0   0  \n",
       "16043  1.788572   1  0   0   0  \n",
       "16625  2.606205   1  0   0   0  \n",
       "\n",
       "[7 rows x 49 columns]"
      ]
     },
     "execution_count": 139,
     "metadata": {},
     "output_type": "execute_result"
    }
   ],
   "source": [
    "stephen"
   ]
  },
  {
   "cell_type": "code",
   "execution_count": 140,
   "metadata": {},
   "outputs": [],
   "source": [
    "### We will use the 2017 stats for the prediction\n",
    "stephen_test = stephen.iloc[[6]].drop(['Year','Player','Pos','TAW'], axis=1)"
   ]
  },
  {
   "cell_type": "code",
   "execution_count": 154,
   "metadata": {},
   "outputs": [],
   "source": [
    "stephen_predict = nn.predict(stephen_test)"
   ]
  },
  {
   "cell_type": "code",
   "execution_count": 155,
   "metadata": {},
   "outputs": [
    {
     "data": {
      "text/plain": [
       "array(3.6749446, dtype=float32)"
      ]
     },
     "execution_count": 155,
     "metadata": {},
     "output_type": "execute_result"
    }
   ],
   "source": [
    "stephen_predict"
   ]
  },
  {
   "cell_type": "code",
   "execution_count": null,
   "metadata": {},
   "outputs": [],
   "source": []
  },
  {
   "cell_type": "code",
   "execution_count": null,
   "metadata": {},
   "outputs": [],
   "source": []
  }
 ],
 "metadata": {
  "kernelspec": {
   "display_name": "Python 3",
   "language": "python",
   "name": "python3"
  },
  "language_info": {
   "codemirror_mode": {
    "name": "ipython",
    "version": 3
   },
   "file_extension": ".py",
   "mimetype": "text/x-python",
   "name": "python",
   "nbconvert_exporter": "python",
   "pygments_lexer": "ipython3",
   "version": "3.7.1"
  }
 },
 "nbformat": 4,
 "nbformat_minor": 2
}
