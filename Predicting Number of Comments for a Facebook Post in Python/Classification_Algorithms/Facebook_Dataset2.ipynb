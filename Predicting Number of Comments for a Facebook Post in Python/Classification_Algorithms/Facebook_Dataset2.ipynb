{
 "cells": [
  {
   "cell_type": "code",
   "execution_count": 1,
   "metadata": {},
   "outputs": [
    {
     "name": "stderr",
     "output_type": "stream",
     "text": [
      "Using TensorFlow backend.\n"
     ]
    }
   ],
   "source": [
    "## Data Preperation Libraries\n",
    "import numpy as np\n",
    "import pandas as pd\n",
    "from sklearn.model_selection import train_test_split\n",
    "from sklearn import preprocessing\n",
    "## Cross Validation Libraries \n",
    "from sklearn.model_selection import cross_val_score\n",
    "from sklearn.model_selection import cross_validate\n",
    "## KNN Library\n",
    "from sklearn.neighbors import KNeighborsClassifier\n",
    "## Library for plotting\n",
    "import matplotlib.pyplot as plt\n",
    "## Library for calculating performance metrics\n",
    "from sklearn.metrics import classification_report, confusion_matrix  \n",
    "from sklearn.metrics import accuracy_score\n",
    "from sklearn import metrics\n",
    "### Keras and Tensor flow libraries\n",
    "import tensorflow\n",
    "import keras\n",
    "from keras.models import Sequential\n",
    "from keras.layers import Dense, Activation"
   ]
  },
  {
   "cell_type": "code",
   "execution_count": 42,
   "metadata": {},
   "outputs": [
    {
     "name": "stderr",
     "output_type": "stream",
     "text": [
      "C:\\Users\\Aravind KK\\Anaconda3\\lib\\site-packages\\sklearn\\preprocessing\\data.py:625: DataConversionWarning: Data with input dtype int64, float64 were all converted to float64 by StandardScaler.\n",
      "  return self.partial_fit(X, y)\n",
      "C:\\Users\\Aravind KK\\Anaconda3\\lib\\site-packages\\ipykernel_launcher.py:18: DataConversionWarning: Data with input dtype int64, float64 were all converted to float64 by StandardScaler.\n",
      "C:\\Users\\Aravind KK\\Anaconda3\\lib\\site-packages\\sklearn\\preprocessing\\data.py:625: DataConversionWarning: Data with input dtype int64, float64 were all converted to float64 by StandardScaler.\n",
      "  return self.partial_fit(X, y)\n",
      "C:\\Users\\Aravind KK\\Anaconda3\\lib\\site-packages\\ipykernel_launcher.py:21: DataConversionWarning: Data with input dtype int64, float64 were all converted to float64 by StandardScaler.\n"
     ]
    }
   ],
   "source": [
    "##### Complete Data preperation process for preparing X_train, y_train & X_test, y_test\n",
    "## Importing the Dataset and applying threshold\n",
    "data= pd.read_csv(\"Features_Variant_1.csv\")\n",
    "data['bin'] = np.where(data['no_of_comments']>=5, '1', '0')\n",
    "test_sample=pd.read_excel(\"Final_Testset.xlsx\")\n",
    "test_sample['bin'] = np.where(test_sample['no_of_comments']>=5, '1', '0')\n",
    "## Splitting the Dataset \n",
    "train_data, test_data1 = train_test_split(data, test_size = 0.3, random_state = 20)\n",
    "## Final Test Data\n",
    "test_data=test_data1.append(test_sample, ignore_index = True)\n",
    "## data preperation\n",
    "y_train=train_data['bin']\n",
    "y_test=test_data['bin']\n",
    "x_train=train_data[['page_likes','page_talking','page_checking','cc2','cc3','cc5','cc1','c1_avg','cc4','c4_avg','post_sharecount','h_local']]\n",
    "x_test=test_data[['page_likes','page_talking','page_checking','cc2','cc3','cc5','cc1','c1_avg','cc4','c4_avg','post_sharecount','h_local']]\n",
    "## Feature Scaling the train dataset\n",
    "fea_scaling = preprocessing.StandardScaler().fit(x_train[['page_likes','page_talking','page_checking','cc2','cc3','cc5','cc1','c1_avg','cc4','c4_avg','post_sharecount','h_local']])\n",
    "X_train = fea_scaling.transform(x_train[['page_likes','page_talking','page_checking','cc2','cc3','cc5','cc1','c1_avg','cc4','c4_avg','post_sharecount','h_local']])\n",
    "## Feature scaling the test dataset\n",
    "fea_scaling = preprocessing.StandardScaler().fit(x_test[['page_likes','page_talking','page_checking','cc2','cc3','cc5','cc1','c1_avg','cc4','c4_avg','post_sharecount','h_local']])\n",
    "X_test = fea_scaling.transform(x_test[['page_likes','page_talking','page_checking','cc2','cc3','cc5','cc1','c1_avg','cc4','c4_avg','post_sharecount','h_local']])\n"
   ]
  },
  {
   "cell_type": "markdown",
   "metadata": {},
   "source": [
    "KNN Algorithm with varies K values and distance Metrics"
   ]
  },
  {
   "cell_type": "code",
   "execution_count": 88,
   "metadata": {},
   "outputs": [
    {
     "name": "stdout",
     "output_type": "stream",
     "text": [
      "[[10053   535]\n",
      " [ 1032  1665]] (Test)k = 3\n",
      "              precision    recall  f1-score   support\n",
      "\n",
      "           0       0.91      0.95      0.93     10588\n",
      "           1       0.76      0.62      0.68      2697\n",
      "\n",
      "   micro avg       0.88      0.88      0.88     13285\n",
      "   macro avg       0.83      0.78      0.80     13285\n",
      "weighted avg       0.88      0.88      0.88     13285\n",
      "\n",
      "0.8820474219044034\n",
      "[[22496   692]\n",
      " [ 1066  4410]] (Train)k = 3\n",
      "              precision    recall  f1-score   support\n",
      "\n",
      "           0       0.95      0.97      0.96     23188\n",
      "           1       0.86      0.81      0.83      5476\n",
      "\n",
      "   micro avg       0.94      0.94      0.94     28664\n",
      "   macro avg       0.91      0.89      0.90     28664\n",
      "weighted avg       0.94      0.94      0.94     28664\n",
      "\n",
      "0.9386687133686855\n",
      "[[10259   329]\n",
      " [ 1255  1442]] (Test)k = 4\n",
      "              precision    recall  f1-score   support\n",
      "\n",
      "           0       0.89      0.97      0.93     10588\n",
      "           1       0.81      0.53      0.65      2697\n",
      "\n",
      "   micro avg       0.88      0.88      0.88     13285\n",
      "   macro avg       0.85      0.75      0.79     13285\n",
      "weighted avg       0.88      0.88      0.87     13285\n",
      "\n",
      "0.8807677832141513\n",
      "[[22814   374]\n",
      " [ 1763  3713]] (Train)k = 4\n",
      "              precision    recall  f1-score   support\n",
      "\n",
      "           0       0.93      0.98      0.96     23188\n",
      "           1       0.91      0.68      0.78      5476\n",
      "\n",
      "   micro avg       0.93      0.93      0.93     28664\n",
      "   macro avg       0.92      0.83      0.87     28664\n",
      "weighted avg       0.92      0.93      0.92     28664\n",
      "\n",
      "0.9254465531677365\n",
      "[[10099   489]\n",
      " [ 1030  1667]] (Test)k = 5\n",
      "              precision    recall  f1-score   support\n",
      "\n",
      "           0       0.91      0.95      0.93     10588\n",
      "           1       0.77      0.62      0.69      2697\n",
      "\n",
      "   micro avg       0.89      0.89      0.89     13285\n",
      "   macro avg       0.84      0.79      0.81     13285\n",
      "weighted avg       0.88      0.89      0.88     13285\n",
      "\n",
      "0.8856605193827625\n",
      "[[22425   763]\n",
      " [ 1320  4156]] (Train)k = 5\n",
      "              precision    recall  f1-score   support\n",
      "\n",
      "           0       0.94      0.97      0.96     23188\n",
      "           1       0.84      0.76      0.80      5476\n",
      "\n",
      "   micro avg       0.93      0.93      0.93     28664\n",
      "   macro avg       0.89      0.86      0.88     28664\n",
      "weighted avg       0.93      0.93      0.93     28664\n",
      "\n",
      "0.927330449344125\n",
      "[[10240   348]\n",
      " [ 1184  1513]] (Test)k = 6\n",
      "              precision    recall  f1-score   support\n",
      "\n",
      "           0       0.90      0.97      0.93     10588\n",
      "           1       0.81      0.56      0.66      2697\n",
      "\n",
      "   micro avg       0.88      0.88      0.88     13285\n",
      "   macro avg       0.85      0.76      0.80     13285\n",
      "weighted avg       0.88      0.88      0.88     13285\n",
      "\n",
      "0.8846819721490403\n",
      "[[22691   497]\n",
      " [ 1781  3695]] (Train)k = 6\n",
      "              precision    recall  f1-score   support\n",
      "\n",
      "           0       0.93      0.98      0.95     23188\n",
      "           1       0.88      0.67      0.76      5476\n",
      "\n",
      "   micro avg       0.92      0.92      0.92     28664\n",
      "   macro avg       0.90      0.83      0.86     28664\n",
      "weighted avg       0.92      0.92      0.92     28664\n",
      "\n",
      "0.9205274909293888\n",
      "[[10125   463]\n",
      " [ 1033  1664]] (Test)k = 7\n",
      "              precision    recall  f1-score   support\n",
      "\n",
      "           0       0.91      0.96      0.93     10588\n",
      "           1       0.78      0.62      0.69      2697\n",
      "\n",
      "   micro avg       0.89      0.89      0.89     13285\n",
      "   macro avg       0.84      0.79      0.81     13285\n",
      "weighted avg       0.88      0.89      0.88     13285\n",
      "\n",
      "0.8873917952578095\n",
      "[[22416   772]\n",
      " [ 1477  3999]] (Train)k = 7\n",
      "              precision    recall  f1-score   support\n",
      "\n",
      "           0       0.94      0.97      0.95     23188\n",
      "           1       0.84      0.73      0.78      5476\n",
      "\n",
      "   micro avg       0.92      0.92      0.92     28664\n",
      "   macro avg       0.89      0.85      0.87     28664\n",
      "weighted avg       0.92      0.92      0.92     28664\n",
      "\n",
      "0.9215392129500418\n",
      "[[10229   359]\n",
      " [ 1149  1548]] (Test)k = 8\n",
      "              precision    recall  f1-score   support\n",
      "\n",
      "           0       0.90      0.97      0.93     10588\n",
      "           1       0.81      0.57      0.67      2697\n",
      "\n",
      "   micro avg       0.89      0.89      0.89     13285\n",
      "   macro avg       0.86      0.77      0.80     13285\n",
      "weighted avg       0.88      0.89      0.88     13285\n",
      "\n",
      "0.8864885208882198\n",
      "[[22614   574]\n",
      " [ 1809  3667]] (Train)k = 8\n",
      "              precision    recall  f1-score   support\n",
      "\n",
      "           0       0.93      0.98      0.95     23188\n",
      "           1       0.86      0.67      0.75      5476\n",
      "\n",
      "   micro avg       0.92      0.92      0.92     28664\n",
      "   macro avg       0.90      0.82      0.85     28664\n",
      "weighted avg       0.91      0.92      0.91     28664\n",
      "\n",
      "0.9168643594753\n",
      "[[10153   435]\n",
      " [ 1055  1642]] (Test)k = 9\n",
      "              precision    recall  f1-score   support\n",
      "\n",
      "           0       0.91      0.96      0.93     10588\n",
      "           1       0.79      0.61      0.69      2697\n",
      "\n",
      "   micro avg       0.89      0.89      0.89     13285\n",
      "   macro avg       0.85      0.78      0.81     13285\n",
      "weighted avg       0.88      0.89      0.88     13285\n",
      "\n",
      "0.8878434324426044\n",
      "[[22410   778]\n",
      " [ 1602  3874]] (Train)k = 9\n",
      "              precision    recall  f1-score   support\n",
      "\n",
      "           0       0.93      0.97      0.95     23188\n",
      "           1       0.83      0.71      0.77      5476\n",
      "\n",
      "   micro avg       0.92      0.92      0.92     28664\n",
      "   macro avg       0.88      0.84      0.86     28664\n",
      "weighted avg       0.91      0.92      0.91     28664\n",
      "\n",
      "0.9169690203739883\n",
      "[[10250   338]\n",
      " [ 1162  1535]] (Test)k = 10\n",
      "              precision    recall  f1-score   support\n",
      "\n",
      "           0       0.90      0.97      0.93     10588\n",
      "           1       0.82      0.57      0.67      2697\n",
      "\n",
      "   micro avg       0.89      0.89      0.89     13285\n",
      "   macro avg       0.86      0.77      0.80     13285\n",
      "weighted avg       0.88      0.89      0.88     13285\n",
      "\n",
      "0.8870907038012796\n",
      "[[22587   601]\n",
      " [ 1861  3615]] (Train)k = 10\n",
      "              precision    recall  f1-score   support\n",
      "\n",
      "           0       0.92      0.97      0.95     23188\n",
      "           1       0.86      0.66      0.75      5476\n",
      "\n",
      "   micro avg       0.91      0.91      0.91     28664\n",
      "   macro avg       0.89      0.82      0.85     28664\n",
      "weighted avg       0.91      0.91      0.91     28664\n",
      "\n",
      "0.9141082891431761\n",
      "[[10174   414]\n",
      " [ 1068  1629]] (Test)k = 11\n",
      "              precision    recall  f1-score   support\n",
      "\n",
      "           0       0.90      0.96      0.93     10588\n",
      "           1       0.80      0.60      0.69      2697\n",
      "\n",
      "   micro avg       0.89      0.89      0.89     13285\n",
      "   macro avg       0.85      0.78      0.81     13285\n",
      "weighted avg       0.88      0.89      0.88     13285\n",
      "\n",
      "0.8884456153556642\n",
      "[[22443   745]\n",
      " [ 1676  3800]] (Train)k = 11\n",
      "              precision    recall  f1-score   support\n",
      "\n",
      "           0       0.93      0.97      0.95     23188\n",
      "           1       0.84      0.69      0.76      5476\n",
      "\n",
      "   micro avg       0.92      0.92      0.92     28664\n",
      "   macro avg       0.88      0.83      0.85     28664\n",
      "weighted avg       0.91      0.92      0.91     28664\n",
      "\n",
      "0.9155386547585822\n",
      "[[10262   326]\n",
      " [ 1161  1536]] (Test)k = 12\n",
      "              precision    recall  f1-score   support\n",
      "\n",
      "           0       0.90      0.97      0.93     10588\n",
      "           1       0.82      0.57      0.67      2697\n",
      "\n",
      "   micro avg       0.89      0.89      0.89     13285\n",
      "   macro avg       0.86      0.77      0.80     13285\n",
      "weighted avg       0.88      0.89      0.88     13285\n",
      "\n",
      "0.8880692510350019\n",
      "[[22591   597]\n",
      " [ 1885  3591]] (Train)k = 12\n",
      "              precision    recall  f1-score   support\n",
      "\n",
      "           0       0.92      0.97      0.95     23188\n",
      "           1       0.86      0.66      0.74      5476\n",
      "\n",
      "   micro avg       0.91      0.91      0.91     28664\n",
      "   macro avg       0.89      0.82      0.85     28664\n",
      "weighted avg       0.91      0.91      0.91     28664\n",
      "\n",
      "0.9134105498185878\n",
      "[[10198   390]\n",
      " [ 1082  1615]] (Test)k = 13\n",
      "              precision    recall  f1-score   support\n",
      "\n",
      "           0       0.90      0.96      0.93     10588\n",
      "           1       0.81      0.60      0.69      2697\n",
      "\n",
      "   micro avg       0.89      0.89      0.89     13285\n",
      "   macro avg       0.85      0.78      0.81     13285\n",
      "weighted avg       0.88      0.89      0.88     13285\n",
      "\n",
      "0.889198343996989\n",
      "[[22467   721]\n",
      " [ 1736  3740]] (Train)k = 13\n"
     ]
    },
    {
     "name": "stdout",
     "output_type": "stream",
     "text": [
      "              precision    recall  f1-score   support\n",
      "\n",
      "           0       0.93      0.97      0.95     23188\n",
      "           1       0.84      0.68      0.75      5476\n",
      "\n",
      "   micro avg       0.91      0.91      0.91     28664\n",
      "   macro avg       0.88      0.83      0.85     28664\n",
      "weighted avg       0.91      0.91      0.91     28664\n",
      "\n",
      "0.9142827239743232\n"
     ]
    },
    {
     "data": {
      "text/plain": [
       "[<matplotlib.lines.Line2D at 0x2a929f944a8>]"
      ]
     },
     "execution_count": 88,
     "metadata": {},
     "output_type": "execute_result"
    },
    {
     "data": {
      "image/png": "[encoded data removed]",
      "text/plain": [
       "<Figure size 432x288 with 1 Axes>"
      ]
     },
     "metadata": {
      "needs_background": "light"
     },
     "output_type": "display_data"
    }
   ],
   "source": [
    "acc_score=[]\n",
    "acc_score_train=[]\n",
    "y_=[]\n",
    "for i in range (3,14):\n",
    "    model = KNeighborsClassifier(n_neighbors=i,metric='euclidean')\n",
    "    model.fit(X_train,y_train)\n",
    "    y_pred=model.predict(X_test)\n",
    "    y_pred_train=model.predict(X_train)\n",
    "    y_.append(y_pred)\n",
    "    print(confusion_matrix(y_test,y_pred),'(Test)k =', i)\n",
    "    print(classification_report(y_test,y_pred))\n",
    "    print(accuracy_score(y_test,y_pred))\n",
    "    print(confusion_matrix(y_train,y_pred_train),'(Train)k =', i)\n",
    "    print(classification_report(y_train,y_pred_train))\n",
    "    print(accuracy_score(y_train,y_pred_train))\n",
    "    acc_score.append(accuracy_score(y_test,y_pred))\n",
    "    acc_score_train.append(accuracy_score(y_train,y_pred_train))\n",
    "plt.plot(acc_score)\n",
    "plt.plot(acc_score_train)"
   ]
  },
  {
   "cell_type": "code",
   "execution_count": 89,
   "metadata": {},
   "outputs": [
    {
     "name": "stdout",
     "output_type": "stream",
     "text": [
      "[[10055   533]\n",
      " [ 1000  1697]] (Test)k = 3\n",
      "              precision    recall  f1-score   support\n",
      "\n",
      "           0       0.91      0.95      0.93     10588\n",
      "           1       0.76      0.63      0.69      2697\n",
      "\n",
      "   micro avg       0.88      0.88      0.88     13285\n",
      "   macro avg       0.84      0.79      0.81     13285\n",
      "weighted avg       0.88      0.88      0.88     13285\n",
      "\n",
      "0.8846066992849078\n",
      "[[22519   669]\n",
      " [ 1058  4418]] (Train)k = 3\n",
      "              precision    recall  f1-score   support\n",
      "\n",
      "           0       0.96      0.97      0.96     23188\n",
      "           1       0.87      0.81      0.84      5476\n",
      "\n",
      "   micro avg       0.94      0.94      0.94     28664\n",
      "   macro avg       0.91      0.89      0.90     28664\n",
      "weighted avg       0.94      0.94      0.94     28664\n",
      "\n",
      "0.9397502093217974\n",
      "[[10261   327]\n",
      " [ 1229  1468]] (Test)k = 4\n",
      "              precision    recall  f1-score   support\n",
      "\n",
      "           0       0.89      0.97      0.93     10588\n",
      "           1       0.82      0.54      0.65      2697\n",
      "\n",
      "   micro avg       0.88      0.88      0.88     13285\n",
      "   macro avg       0.86      0.76      0.79     13285\n",
      "weighted avg       0.88      0.88      0.87     13285\n",
      "\n",
      "0.8828754234098607\n",
      "[[22843   345]\n",
      " [ 1790  3686]] (Train)k = 4\n",
      "              precision    recall  f1-score   support\n",
      "\n",
      "           0       0.93      0.99      0.96     23188\n",
      "           1       0.91      0.67      0.78      5476\n",
      "\n",
      "   micro avg       0.93      0.93      0.93     28664\n",
      "   macro avg       0.92      0.83      0.87     28664\n",
      "weighted avg       0.92      0.93      0.92     28664\n",
      "\n",
      "0.9255163271001954\n",
      "[[10098   490]\n",
      " [ 1019  1678]] (Test)k = 5\n",
      "              precision    recall  f1-score   support\n",
      "\n",
      "           0       0.91      0.95      0.93     10588\n",
      "           1       0.77      0.62      0.69      2697\n",
      "\n",
      "   micro avg       0.89      0.89      0.89     13285\n",
      "   macro avg       0.84      0.79      0.81     13285\n",
      "weighted avg       0.88      0.89      0.88     13285\n",
      "\n",
      "0.8864132480240873\n",
      "[[22455   733]\n",
      " [ 1342  4134]] (Train)k = 5\n",
      "              precision    recall  f1-score   support\n",
      "\n",
      "           0       0.94      0.97      0.96     23188\n",
      "           1       0.85      0.75      0.80      5476\n",
      "\n",
      "   micro avg       0.93      0.93      0.93     28664\n",
      "   macro avg       0.90      0.86      0.88     28664\n",
      "weighted avg       0.93      0.93      0.93     28664\n",
      "\n",
      "0.9276095450739603\n",
      "[[10261   327]\n",
      " [ 1163  1534]] (Test)k = 6\n",
      "              precision    recall  f1-score   support\n",
      "\n",
      "           0       0.90      0.97      0.93     10588\n",
      "           1       0.82      0.57      0.67      2697\n",
      "\n",
      "   micro avg       0.89      0.89      0.89     13285\n",
      "   macro avg       0.86      0.77      0.80     13285\n",
      "weighted avg       0.88      0.89      0.88     13285\n",
      "\n",
      "0.8878434324426044\n",
      "[[22719   469]\n",
      " [ 1794  3682]] (Train)k = 6\n",
      "              precision    recall  f1-score   support\n",
      "\n",
      "           0       0.93      0.98      0.95     23188\n",
      "           1       0.89      0.67      0.76      5476\n",
      "\n",
      "   micro avg       0.92      0.92      0.92     28664\n",
      "   macro avg       0.91      0.83      0.86     28664\n",
      "weighted avg       0.92      0.92      0.92     28664\n",
      "\n",
      "0.9210507954228301\n",
      "[[10143   445]\n",
      " [ 1007  1690]] (Test)k = 7\n",
      "              precision    recall  f1-score   support\n",
      "\n",
      "           0       0.91      0.96      0.93     10588\n",
      "           1       0.79      0.63      0.70      2697\n",
      "\n",
      "   micro avg       0.89      0.89      0.89     13285\n",
      "   macro avg       0.85      0.79      0.82     13285\n",
      "weighted avg       0.89      0.89      0.89     13285\n",
      "\n",
      "0.8907038012796387\n",
      "[[22442   746]\n",
      " [ 1507  3969]] (Train)k = 7\n",
      "              precision    recall  f1-score   support\n",
      "\n",
      "           0       0.94      0.97      0.95     23188\n",
      "           1       0.84      0.72      0.78      5476\n",
      "\n",
      "   micro avg       0.92      0.92      0.92     28664\n",
      "   macro avg       0.89      0.85      0.87     28664\n",
      "weighted avg       0.92      0.92      0.92     28664\n",
      "\n",
      "0.9213996650851242\n",
      "[[10260   328]\n",
      " [ 1136  1561]] (Test)k = 8\n",
      "              precision    recall  f1-score   support\n",
      "\n",
      "           0       0.90      0.97      0.93     10588\n",
      "           1       0.83      0.58      0.68      2697\n",
      "\n",
      "   micro avg       0.89      0.89      0.89     13285\n",
      "   macro avg       0.86      0.77      0.81     13285\n",
      "weighted avg       0.89      0.89      0.88     13285\n",
      "\n",
      "0.889800526910049\n",
      "[[22639   549]\n",
      " [ 1832  3644]] (Train)k = 8\n",
      "              precision    recall  f1-score   support\n",
      "\n",
      "           0       0.93      0.98      0.95     23188\n",
      "           1       0.87      0.67      0.75      5476\n",
      "\n",
      "   micro avg       0.92      0.92      0.92     28664\n",
      "   macro avg       0.90      0.82      0.85     28664\n",
      "weighted avg       0.91      0.92      0.91     28664\n",
      "\n",
      "0.9169341334077589\n",
      "[[10165   423]\n",
      " [ 1026  1671]] (Test)k = 9\n",
      "              precision    recall  f1-score   support\n",
      "\n",
      "           0       0.91      0.96      0.93     10588\n",
      "           1       0.80      0.62      0.70      2697\n",
      "\n",
      "   micro avg       0.89      0.89      0.89     13285\n",
      "   macro avg       0.85      0.79      0.82     13285\n",
      "weighted avg       0.89      0.89      0.89     13285\n",
      "\n",
      "0.8909296198720361\n",
      "[[22438   750]\n",
      " [ 1605  3871]] (Train)k = 9\n",
      "              precision    recall  f1-score   support\n",
      "\n",
      "           0       0.93      0.97      0.95     23188\n",
      "           1       0.84      0.71      0.77      5476\n",
      "\n",
      "   micro avg       0.92      0.92      0.92     28664\n",
      "   macro avg       0.89      0.84      0.86     28664\n",
      "weighted avg       0.91      0.92      0.92     28664\n",
      "\n",
      "0.9178411945297237\n",
      "[[10252   336]\n",
      " [ 1124  1573]] (Test)k = 10\n",
      "              precision    recall  f1-score   support\n",
      "\n",
      "           0       0.90      0.97      0.93     10588\n",
      "           1       0.82      0.58      0.68      2697\n",
      "\n",
      "   micro avg       0.89      0.89      0.89     13285\n",
      "   macro avg       0.86      0.78      0.81     13285\n",
      "weighted avg       0.89      0.89      0.88     13285\n",
      "\n",
      "0.8901016183665789\n",
      "[[22631   557]\n",
      " [ 1870  3606]] (Train)k = 10\n",
      "              precision    recall  f1-score   support\n",
      "\n",
      "           0       0.92      0.98      0.95     23188\n",
      "           1       0.87      0.66      0.75      5476\n",
      "\n",
      "   micro avg       0.92      0.92      0.92     28664\n",
      "   macro avg       0.89      0.82      0.85     28664\n",
      "weighted avg       0.91      0.92      0.91     28664\n",
      "\n",
      "0.9153293329612057\n",
      "[[10171   417]\n",
      " [ 1018  1679]] (Test)k = 11\n",
      "              precision    recall  f1-score   support\n",
      "\n",
      "           0       0.91      0.96      0.93     10588\n",
      "           1       0.80      0.62      0.70      2697\n",
      "\n",
      "   micro avg       0.89      0.89      0.89     13285\n",
      "   macro avg       0.86      0.79      0.82     13285\n",
      "weighted avg       0.89      0.89      0.89     13285\n",
      "\n",
      "0.8919834399698908\n",
      "[[22462   726]\n",
      " [ 1675  3801]] (Train)k = 11\n",
      "              precision    recall  f1-score   support\n",
      "\n",
      "           0       0.93      0.97      0.95     23188\n",
      "           1       0.84      0.69      0.76      5476\n",
      "\n",
      "   micro avg       0.92      0.92      0.92     28664\n",
      "   macro avg       0.89      0.83      0.85     28664\n",
      "weighted avg       0.91      0.92      0.91     28664\n",
      "\n",
      "0.9162363940831705\n",
      "[[10247   341]\n",
      " [ 1116  1581]] (Test)k = 12\n",
      "              precision    recall  f1-score   support\n",
      "\n",
      "           0       0.90      0.97      0.93     10588\n",
      "           1       0.82      0.59      0.68      2697\n",
      "\n",
      "   micro avg       0.89      0.89      0.89     13285\n",
      "   macro avg       0.86      0.78      0.81     13285\n",
      "weighted avg       0.89      0.89      0.88     13285\n",
      "\n",
      "0.8903274369589763\n",
      "[[22587   601]\n",
      " [ 1888  3588]] (Train)k = 12\n",
      "              precision    recall  f1-score   support\n",
      "\n",
      "           0       0.92      0.97      0.95     23188\n",
      "           1       0.86      0.66      0.74      5476\n",
      "\n",
      "   micro avg       0.91      0.91      0.91     28664\n",
      "   macro avg       0.89      0.81      0.85     28664\n",
      "weighted avg       0.91      0.91      0.91     28664\n",
      "\n",
      "0.9131663410549818\n",
      "[[10193   395]\n",
      " [ 1044  1653]] (Test)k = 13\n",
      "              precision    recall  f1-score   support\n",
      "\n",
      "           0       0.91      0.96      0.93     10588\n",
      "           1       0.81      0.61      0.70      2697\n",
      "\n",
      "   micro avg       0.89      0.89      0.89     13285\n",
      "   macro avg       0.86      0.79      0.82     13285\n",
      "weighted avg       0.89      0.89      0.89     13285\n",
      "\n",
      "0.8916823485133609\n",
      "[[22465   723]\n",
      " [ 1731  3745]] (Train)k = 13\n"
     ]
    },
    {
     "name": "stdout",
     "output_type": "stream",
     "text": [
      "              precision    recall  f1-score   support\n",
      "\n",
      "           0       0.93      0.97      0.95     23188\n",
      "           1       0.84      0.68      0.75      5476\n",
      "\n",
      "   micro avg       0.91      0.91      0.91     28664\n",
      "   macro avg       0.88      0.83      0.85     28664\n",
      "weighted avg       0.91      0.91      0.91     28664\n",
      "\n",
      "0.9143873848730114\n"
     ]
    },
    {
     "data": {
      "text/plain": [
       "[<matplotlib.lines.Line2D at 0x2a929feea90>]"
      ]
     },
     "execution_count": 89,
     "metadata": {},
     "output_type": "execute_result"
    },
    {
     "data": {
      "image/png": "[encoded data removed]",
      "text/plain": [
       "<Figure size 432x288 with 1 Axes>"
      ]
     },
     "metadata": {
      "needs_background": "light"
     },
     "output_type": "display_data"
    }
   ],
   "source": [
    "acc_score1=[]\n",
    "acc_score1_train=[]\n",
    "y1_=[]\n",
    "for i in range (3,14):\n",
    "    model1 = KNeighborsClassifier(n_neighbors=i,metric='manhattan')\n",
    "    model1.fit(X_train,y_train)\n",
    "    y_pred1=model1.predict(X_test)\n",
    "    y_pred1_train=model1.predict(X_train)\n",
    "    y1_.append(y_pred1)\n",
    "    print(confusion_matrix(y_test,y_pred1),'(Test)k =', i)\n",
    "    print(classification_report(y_test,y_pred1))\n",
    "    print(accuracy_score(y_test,y_pred1))\n",
    "    print(confusion_matrix(y_train,y_pred1_train),'(Train)k =', i)\n",
    "    print(classification_report(y_train,y_pred1_train))\n",
    "    print(accuracy_score(y_train,y_pred1_train))\n",
    "    acc_score1.append(accuracy_score(y_test,y_pred1))\n",
    "    acc_score1_train.append(accuracy_score(y_train,y_pred1_train))\n",
    "plt.plot(acc_score1)\n",
    "plt.plot(acc_score1_train)"
   ]
  },
  {
   "cell_type": "code",
   "execution_count": 90,
   "metadata": {},
   "outputs": [
    {
     "name": "stdout",
     "output_type": "stream",
     "text": [
      "[[10053   535]\n",
      " [ 1032  1665]] (Test)k = 3\n",
      "              precision    recall  f1-score   support\n",
      "\n",
      "           0       0.91      0.95      0.93     10588\n",
      "           1       0.76      0.62      0.68      2697\n",
      "\n",
      "   micro avg       0.88      0.88      0.88     13285\n",
      "   macro avg       0.83      0.78      0.80     13285\n",
      "weighted avg       0.88      0.88      0.88     13285\n",
      "\n",
      "0.8820474219044034\n",
      "[[22496   692]\n",
      " [ 1066  4410]] (Train)k = 3\n",
      "              precision    recall  f1-score   support\n",
      "\n",
      "           0       0.95      0.97      0.96     23188\n",
      "           1       0.86      0.81      0.83      5476\n",
      "\n",
      "   micro avg       0.94      0.94      0.94     28664\n",
      "   macro avg       0.91      0.89      0.90     28664\n",
      "weighted avg       0.94      0.94      0.94     28664\n",
      "\n",
      "0.9386687133686855\n",
      "[[10259   329]\n",
      " [ 1255  1442]] (Test)k = 4\n",
      "              precision    recall  f1-score   support\n",
      "\n",
      "           0       0.89      0.97      0.93     10588\n",
      "           1       0.81      0.53      0.65      2697\n",
      "\n",
      "   micro avg       0.88      0.88      0.88     13285\n",
      "   macro avg       0.85      0.75      0.79     13285\n",
      "weighted avg       0.88      0.88      0.87     13285\n",
      "\n",
      "0.8807677832141513\n",
      "[[22814   374]\n",
      " [ 1763  3713]] (Train)k = 4\n",
      "              precision    recall  f1-score   support\n",
      "\n",
      "           0       0.93      0.98      0.96     23188\n",
      "           1       0.91      0.68      0.78      5476\n",
      "\n",
      "   micro avg       0.93      0.93      0.93     28664\n",
      "   macro avg       0.92      0.83      0.87     28664\n",
      "weighted avg       0.92      0.93      0.92     28664\n",
      "\n",
      "0.9254465531677365\n",
      "[[10099   489]\n",
      " [ 1030  1667]] (Test)k = 5\n",
      "              precision    recall  f1-score   support\n",
      "\n",
      "           0       0.91      0.95      0.93     10588\n",
      "           1       0.77      0.62      0.69      2697\n",
      "\n",
      "   micro avg       0.89      0.89      0.89     13285\n",
      "   macro avg       0.84      0.79      0.81     13285\n",
      "weighted avg       0.88      0.89      0.88     13285\n",
      "\n",
      "0.8856605193827625\n",
      "[[22425   763]\n",
      " [ 1320  4156]] (Train)k = 5\n",
      "              precision    recall  f1-score   support\n",
      "\n",
      "           0       0.94      0.97      0.96     23188\n",
      "           1       0.84      0.76      0.80      5476\n",
      "\n",
      "   micro avg       0.93      0.93      0.93     28664\n",
      "   macro avg       0.89      0.86      0.88     28664\n",
      "weighted avg       0.93      0.93      0.93     28664\n",
      "\n",
      "0.927330449344125\n",
      "[[10240   348]\n",
      " [ 1184  1513]] (Test)k = 6\n",
      "              precision    recall  f1-score   support\n",
      "\n",
      "           0       0.90      0.97      0.93     10588\n",
      "           1       0.81      0.56      0.66      2697\n",
      "\n",
      "   micro avg       0.88      0.88      0.88     13285\n",
      "   macro avg       0.85      0.76      0.80     13285\n",
      "weighted avg       0.88      0.88      0.88     13285\n",
      "\n",
      "0.8846819721490403\n",
      "[[22691   497]\n",
      " [ 1781  3695]] (Train)k = 6\n",
      "              precision    recall  f1-score   support\n",
      "\n",
      "           0       0.93      0.98      0.95     23188\n",
      "           1       0.88      0.67      0.76      5476\n",
      "\n",
      "   micro avg       0.92      0.92      0.92     28664\n",
      "   macro avg       0.90      0.83      0.86     28664\n",
      "weighted avg       0.92      0.92      0.92     28664\n",
      "\n",
      "0.9205274909293888\n",
      "[[10125   463]\n",
      " [ 1033  1664]] (Test)k = 7\n",
      "              precision    recall  f1-score   support\n",
      "\n",
      "           0       0.91      0.96      0.93     10588\n",
      "           1       0.78      0.62      0.69      2697\n",
      "\n",
      "   micro avg       0.89      0.89      0.89     13285\n",
      "   macro avg       0.84      0.79      0.81     13285\n",
      "weighted avg       0.88      0.89      0.88     13285\n",
      "\n",
      "0.8873917952578095\n",
      "[[22416   772]\n",
      " [ 1477  3999]] (Train)k = 7\n",
      "              precision    recall  f1-score   support\n",
      "\n",
      "           0       0.94      0.97      0.95     23188\n",
      "           1       0.84      0.73      0.78      5476\n",
      "\n",
      "   micro avg       0.92      0.92      0.92     28664\n",
      "   macro avg       0.89      0.85      0.87     28664\n",
      "weighted avg       0.92      0.92      0.92     28664\n",
      "\n",
      "0.9215392129500418\n",
      "[[10229   359]\n",
      " [ 1149  1548]] (Test)k = 8\n",
      "              precision    recall  f1-score   support\n",
      "\n",
      "           0       0.90      0.97      0.93     10588\n",
      "           1       0.81      0.57      0.67      2697\n",
      "\n",
      "   micro avg       0.89      0.89      0.89     13285\n",
      "   macro avg       0.86      0.77      0.80     13285\n",
      "weighted avg       0.88      0.89      0.88     13285\n",
      "\n",
      "0.8864885208882198\n",
      "[[22614   574]\n",
      " [ 1809  3667]] (Train)k = 8\n",
      "              precision    recall  f1-score   support\n",
      "\n",
      "           0       0.93      0.98      0.95     23188\n",
      "           1       0.86      0.67      0.75      5476\n",
      "\n",
      "   micro avg       0.92      0.92      0.92     28664\n",
      "   macro avg       0.90      0.82      0.85     28664\n",
      "weighted avg       0.91      0.92      0.91     28664\n",
      "\n",
      "0.9168643594753\n",
      "[[10153   435]\n",
      " [ 1055  1642]] (Test)k = 9\n",
      "              precision    recall  f1-score   support\n",
      "\n",
      "           0       0.91      0.96      0.93     10588\n",
      "           1       0.79      0.61      0.69      2697\n",
      "\n",
      "   micro avg       0.89      0.89      0.89     13285\n",
      "   macro avg       0.85      0.78      0.81     13285\n",
      "weighted avg       0.88      0.89      0.88     13285\n",
      "\n",
      "0.8878434324426044\n",
      "[[22410   778]\n",
      " [ 1602  3874]] (Train)k = 9\n",
      "              precision    recall  f1-score   support\n",
      "\n",
      "           0       0.93      0.97      0.95     23188\n",
      "           1       0.83      0.71      0.77      5476\n",
      "\n",
      "   micro avg       0.92      0.92      0.92     28664\n",
      "   macro avg       0.88      0.84      0.86     28664\n",
      "weighted avg       0.91      0.92      0.91     28664\n",
      "\n",
      "0.9169690203739883\n",
      "[[10250   338]\n",
      " [ 1162  1535]] (Test)k = 10\n",
      "              precision    recall  f1-score   support\n",
      "\n",
      "           0       0.90      0.97      0.93     10588\n",
      "           1       0.82      0.57      0.67      2697\n",
      "\n",
      "   micro avg       0.89      0.89      0.89     13285\n",
      "   macro avg       0.86      0.77      0.80     13285\n",
      "weighted avg       0.88      0.89      0.88     13285\n",
      "\n",
      "0.8870907038012796\n",
      "[[22587   601]\n",
      " [ 1861  3615]] (Train)k = 10\n",
      "              precision    recall  f1-score   support\n",
      "\n",
      "           0       0.92      0.97      0.95     23188\n",
      "           1       0.86      0.66      0.75      5476\n",
      "\n",
      "   micro avg       0.91      0.91      0.91     28664\n",
      "   macro avg       0.89      0.82      0.85     28664\n",
      "weighted avg       0.91      0.91      0.91     28664\n",
      "\n",
      "0.9141082891431761\n",
      "[[10174   414]\n",
      " [ 1068  1629]] (Test)k = 11\n",
      "              precision    recall  f1-score   support\n",
      "\n",
      "           0       0.90      0.96      0.93     10588\n",
      "           1       0.80      0.60      0.69      2697\n",
      "\n",
      "   micro avg       0.89      0.89      0.89     13285\n",
      "   macro avg       0.85      0.78      0.81     13285\n",
      "weighted avg       0.88      0.89      0.88     13285\n",
      "\n",
      "0.8884456153556642\n",
      "[[22443   745]\n",
      " [ 1676  3800]] (Train)k = 11\n",
      "              precision    recall  f1-score   support\n",
      "\n",
      "           0       0.93      0.97      0.95     23188\n",
      "           1       0.84      0.69      0.76      5476\n",
      "\n",
      "   micro avg       0.92      0.92      0.92     28664\n",
      "   macro avg       0.88      0.83      0.85     28664\n",
      "weighted avg       0.91      0.92      0.91     28664\n",
      "\n",
      "0.9155386547585822\n",
      "[[10262   326]\n",
      " [ 1161  1536]] (Test)k = 12\n",
      "              precision    recall  f1-score   support\n",
      "\n",
      "           0       0.90      0.97      0.93     10588\n",
      "           1       0.82      0.57      0.67      2697\n",
      "\n",
      "   micro avg       0.89      0.89      0.89     13285\n",
      "   macro avg       0.86      0.77      0.80     13285\n",
      "weighted avg       0.88      0.89      0.88     13285\n",
      "\n",
      "0.8880692510350019\n",
      "[[22591   597]\n",
      " [ 1885  3591]] (Train)k = 12\n",
      "              precision    recall  f1-score   support\n",
      "\n",
      "           0       0.92      0.97      0.95     23188\n",
      "           1       0.86      0.66      0.74      5476\n",
      "\n",
      "   micro avg       0.91      0.91      0.91     28664\n",
      "   macro avg       0.89      0.82      0.85     28664\n",
      "weighted avg       0.91      0.91      0.91     28664\n",
      "\n",
      "0.9134105498185878\n",
      "[[10198   390]\n",
      " [ 1082  1615]] (Test)k = 13\n",
      "              precision    recall  f1-score   support\n",
      "\n",
      "           0       0.90      0.96      0.93     10588\n",
      "           1       0.81      0.60      0.69      2697\n",
      "\n",
      "   micro avg       0.89      0.89      0.89     13285\n",
      "   macro avg       0.85      0.78      0.81     13285\n",
      "weighted avg       0.88      0.89      0.88     13285\n",
      "\n",
      "0.889198343996989\n",
      "[[22467   721]\n",
      " [ 1736  3740]] (Train)k = 13\n"
     ]
    },
    {
     "name": "stdout",
     "output_type": "stream",
     "text": [
      "              precision    recall  f1-score   support\n",
      "\n",
      "           0       0.93      0.97      0.95     23188\n",
      "           1       0.84      0.68      0.75      5476\n",
      "\n",
      "   micro avg       0.91      0.91      0.91     28664\n",
      "   macro avg       0.88      0.83      0.85     28664\n",
      "weighted avg       0.91      0.91      0.91     28664\n",
      "\n",
      "0.9142827239743232\n"
     ]
    },
    {
     "data": {
      "text/plain": [
       "[<matplotlib.lines.Line2D at 0x2a92a04cc50>]"
      ]
     },
     "execution_count": 90,
     "metadata": {},
     "output_type": "execute_result"
    },
    {
     "data": {
      "image/png": "[encoded data removed]",
      "text/plain": [
       "<Figure size 432x288 with 1 Axes>"
      ]
     },
     "metadata": {
      "needs_background": "light"
     },
     "output_type": "display_data"
    }
   ],
   "source": [
    "acc_score2=[]\n",
    "acc_score2_train=[]\n",
    "y2_=[]\n",
    "for i in range (3,14):\n",
    "    model2 = KNeighborsClassifier(n_neighbors=i,metric='minkowski')\n",
    "    model2.fit(X_train,y_train)\n",
    "    y_pred2=model2.predict(X_test)\n",
    "    y_pred2_train=model2.predict(X_train)\n",
    "    y2_.append(y_pred2)\n",
    "    print(confusion_matrix(y_test,y_pred2),'(Test)k =', i)\n",
    "    print(classification_report(y_test,y_pred2))\n",
    "    print(accuracy_score(y_test,y_pred2))\n",
    "    print(confusion_matrix(y_train,y_pred2_train),'(Train)k =', i)\n",
    "    print(classification_report(y_train,y_pred2_train))\n",
    "    print(accuracy_score(y_train,y_pred2_train))\n",
    "    acc_score2.append(accuracy_score(y_test,y_pred2))\n",
    "    acc_score2_train.append(accuracy_score(y_train,y_pred2_train))\n",
    "plt.plot(acc_score2)\n",
    "plt.plot(acc_score2_train)"
   ]
  },
  {
   "cell_type": "markdown",
   "metadata": {},
   "source": [
    "Artificial Neural Networks using Keras"
   ]
  },
  {
   "cell_type": "code",
   "execution_count": 66,
   "metadata": {},
   "outputs": [
    {
     "name": "stdout",
     "output_type": "stream",
     "text": [
      "Epoch 1/10\n",
      "28664/28664 [==============================] - 8s 269us/step - loss: 0.2523 - acc: 0.9034\n",
      "Epoch 2/10\n",
      "28664/28664 [==============================] - 5s 188us/step - loss: 0.2299 - acc: 0.9098\n",
      "Epoch 3/10\n",
      "28664/28664 [==============================] - 5s 188us/step - loss: 0.2265 - acc: 0.9099\n",
      "Epoch 4/10\n",
      "28664/28664 [==============================] - 5s 188us/step - loss: 0.2233 - acc: 0.9101\n",
      "Epoch 5/10\n",
      "28664/28664 [==============================] - 5s 191us/step - loss: 0.2212 - acc: 0.9104\n",
      "Epoch 6/10\n",
      "28664/28664 [==============================] - 6s 202us/step - loss: 0.2184 - acc: 0.9118\n",
      "Epoch 7/10\n",
      "28664/28664 [==============================] - 6s 199us/step - loss: 0.2169 - acc: 0.9111\n",
      "Epoch 8/10\n",
      "28664/28664 [==============================] - 5s 190us/step - loss: 0.2149 - acc: 0.9121\n",
      "Epoch 9/10\n",
      "28664/28664 [==============================] - 5s 190us/step - loss: 0.2143 - acc: 0.9118\n",
      "Epoch 10/10\n",
      "28664/28664 [==============================] - 5s 189us/step - loss: 0.2132 - acc: 0.9129\n",
      "[[10346   242]\n",
      " [ 1144  1553]]\n",
      "              precision    recall  f1-score   support\n",
      "\n",
      "         0.0       0.90      0.98      0.94     10588\n",
      "         1.0       0.87      0.58      0.69      2697\n",
      "\n",
      "   micro avg       0.90      0.90      0.90     13285\n",
      "   macro avg       0.88      0.78      0.81     13285\n",
      "weighted avg       0.89      0.90      0.89     13285\n",
      "\n",
      "0.8956718103123824\n"
     ]
    }
   ],
   "source": [
    "## 3 Hidden Layers - First hidden layer with 100 neurons, second & Third  with 50 & 25 neurons - Activation function we will use relu\n",
    "\n",
    "input_shap=12\n",
    "classifier = Sequential()\n",
    "classifier.add(Dense(100, kernel_initializer='uniform', activation= 'relu', input_shape =(input_shap,)))\n",
    "classifier.add(Dense(50, kernel_initializer='uniform', activation= 'relu'))\n",
    "classifier.add(Dense(25, kernel_initializer='uniform', activation= 'relu'))\n",
    "classifier.add(Dense(1, kernel_initializer= 'uniform', activation= 'sigmoid'))\n",
    "classifier.compile(optimizer= 'adam',loss='binary_crossentropy', metrics=['accuracy'])\n",
    "hist = classifier.fit(X_train, y_train, batch_size = 10, epochs = 10)\n",
    "y_predict = classifier.predict(X_test)\n",
    "y_predict = np.where(y_predict > 0.5,1,0)\n",
    "y_test1=np.asarray(y_test)\n",
    "y_test1=np.reshape(y_test1,(len(y_test1),1))\n",
    "y_test1=np.concatenate(y_test1).astype(None)\n",
    "print(confusion_matrix(y_test1,y_predict))  \n",
    "print(classification_report(y_test1,y_predict))\n",
    "acc_score3=accuracy_score(y_test1,y_predict)\n",
    "print(acc_score3)"
   ]
  },
  {
   "cell_type": "code",
   "execution_count": 67,
   "metadata": {},
   "outputs": [
    {
     "data": {
      "text/plain": [
       "[<matplotlib.lines.Line2D at 0x2a91ee49ba8>]"
      ]
     },
     "execution_count": 67,
     "metadata": {},
     "output_type": "execute_result"
    },
    {
     "data": {
      "image/png": "[encoded data removed]",
      "text/plain": [
       "<Figure size 432x288 with 2 Axes>"
      ]
     },
     "metadata": {
      "needs_background": "light"
     },
     "output_type": "display_data"
    }
   ],
   "source": [
    "plt.subplot(1,2,1)\n",
    "plt.plot(hist.history['loss'])\n",
    "plt.subplot(1,2,2)\n",
    "plt.plot(hist.history['acc'])"
   ]
  },
  {
   "cell_type": "code",
   "execution_count": 61,
   "metadata": {},
   "outputs": [
    {
     "name": "stdout",
     "output_type": "stream",
     "text": [
      "Epoch 1/10\n",
      "28664/28664 [==============================] - 6s 197us/step - loss: 0.2721 - acc: 0.9016\n",
      "Epoch 2/10\n",
      "28664/28664 [==============================] - 5s 164us/step - loss: 0.2513 - acc: 0.9070\n",
      "Epoch 3/10\n",
      "28664/28664 [==============================] - 5s 167us/step - loss: 0.2428 - acc: 0.9097\n",
      "Epoch 4/10\n",
      "28664/28664 [==============================] - 5s 168us/step - loss: 0.2329 - acc: 0.9104\n",
      "Epoch 5/10\n",
      "28664/28664 [==============================] - 5s 170us/step - loss: 0.2279 - acc: 0.9103\n",
      "Epoch 6/10\n",
      "28664/28664 [==============================] - 5s 161us/step - loss: 0.2242 - acc: 0.9116\n",
      "Epoch 7/10\n",
      "28664/28664 [==============================] - 5s 160us/step - loss: 0.2221 - acc: 0.9111\n",
      "Epoch 8/10\n",
      "28664/28664 [==============================] - 5s 163us/step - loss: 0.2205 - acc: 0.9114\n",
      "Epoch 9/10\n",
      "28664/28664 [==============================] - 5s 162us/step - loss: 0.2189 - acc: 0.9118\n",
      "Epoch 10/10\n",
      "28664/28664 [==============================] - 4s 153us/step - loss: 0.2171 - acc: 0.9108\n",
      "[[10239   349]\n",
      " [ 1011  1686]]\n",
      "              precision    recall  f1-score   support\n",
      "\n",
      "         0.0       0.91      0.97      0.94     10588\n",
      "         1.0       0.83      0.63      0.71      2697\n",
      "\n",
      "   micro avg       0.90      0.90      0.90     13285\n",
      "   macro avg       0.87      0.80      0.83     13285\n",
      "weighted avg       0.89      0.90      0.89     13285\n",
      "\n",
      "0.8976289047798268\n"
     ]
    }
   ],
   "source": [
    "## 2 Hidden Layers - First hidden layer with 50 neurons and second with 25 neurons with activation fucntion tanh\n",
    "\n",
    "input_shap=12\n",
    "classifier = Sequential()\n",
    "classifier.add(Dense(50, kernel_initializer='uniform', activation= 'tanh', input_shape =(input_shap,)))\n",
    "classifier.add(Dense(25, kernel_initializer='uniform', activation= 'tanh'))\n",
    "classifier.add(Dense(1, kernel_initializer= 'uniform', activation= 'sigmoid'))\n",
    "classifier.compile(optimizer= 'adam',loss='binary_crossentropy', metrics=['accuracy'])\n",
    "hist1 = classifier.fit(X_train, y_train, batch_size = 10, epochs = 10)\n",
    "y_predict1 = classifier.predict(X_test)\n",
    "y_predict1 = np.where(y_predict1 > 0.5,1,0)\n",
    "print(confusion_matrix(y_test1,y_predict1))  \n",
    "print(classification_report(y_test1,y_predict1))\n",
    "acc_score4=accuracy_score(y_test1,y_predict1)\n",
    "print(acc_score4)"
   ]
  },
  {
   "cell_type": "code",
   "execution_count": 62,
   "metadata": {},
   "outputs": [
    {
     "data": {
      "text/plain": [
       "[<matplotlib.lines.Line2D at 0x2a91aaa3b70>]"
      ]
     },
     "execution_count": 62,
     "metadata": {},
     "output_type": "execute_result"
    },
    {
     "data": {
      "image/png": "[encoded data removed]",
      "text/plain": [
       "<Figure size 432x288 with 2 Axes>"
      ]
     },
     "metadata": {
      "needs_background": "light"
     },
     "output_type": "display_data"
    }
   ],
   "source": [
    "plt.subplot(1,2,1)\n",
    "plt.plot(hist1.history['loss'])\n",
    "plt.subplot(1,2,2)\n",
    "plt.plot(hist1.history['acc'])"
   ]
  },
  {
   "cell_type": "code",
   "execution_count": 63,
   "metadata": {},
   "outputs": [
    {
     "name": "stdout",
     "output_type": "stream",
     "text": [
      "Epoch 1/10\n",
      "28664/28664 [==============================] - 3s 99us/step - loss: 0.2703 - acc: 0.9034\n",
      "Epoch 2/10\n",
      "28664/28664 [==============================] - 2s 78us/step - loss: 0.2506 - acc: 0.9073\n",
      "Epoch 3/10\n",
      "28664/28664 [==============================] - 2s 82us/step - loss: 0.2426 - acc: 0.9084\n",
      "Epoch 4/10\n",
      "28664/28664 [==============================] - 2s 78us/step - loss: 0.2373 - acc: 0.9074\n",
      "Epoch 5/10\n",
      "28664/28664 [==============================] - 2s 78us/step - loss: 0.2326 - acc: 0.9097\n",
      "Epoch 6/10\n",
      "28664/28664 [==============================] - 2s 79us/step - loss: 0.2279 - acc: 0.9088\n",
      "Epoch 7/10\n",
      "28664/28664 [==============================] - 2s 79us/step - loss: 0.2237 - acc: 0.9093\n",
      "Epoch 8/10\n",
      "28664/28664 [==============================] - 2s 78us/step - loss: 0.2205 - acc: 0.9111\n",
      "Epoch 9/10\n",
      "28664/28664 [==============================] - 2s 79us/step - loss: 0.2184 - acc: 0.9101\n",
      "Epoch 10/10\n",
      "28664/28664 [==============================] - 2s 79us/step - loss: 0.2171 - acc: 0.9109\n",
      "[[10131   457]\n",
      " [  880  1817]]\n",
      "              precision    recall  f1-score   support\n",
      "\n",
      "         0.0       0.92      0.96      0.94     10588\n",
      "         1.0       0.80      0.67      0.73      2697\n",
      "\n",
      "   micro avg       0.90      0.90      0.90     13285\n",
      "   macro avg       0.86      0.82      0.83     13285\n",
      "weighted avg       0.90      0.90      0.90     13285\n",
      "\n",
      "0.8993601806548739\n"
     ]
    }
   ],
   "source": [
    "## 3 Hidden Layers - First hidden layer with 100 neurons and second & Third with 50 & 25 neurons with activation fucntion tanh\n",
    "\n",
    "input_shap=12\n",
    "classifier = Sequential()\n",
    "classifier.add(Dense(100, kernel_initializer='uniform', activation= 'tanh', input_shape =(input_shap,)))\n",
    "classifier.add(Dense(50, kernel_initializer='uniform', activation= 'tanh'))\n",
    "classifier.add(Dense(25, kernel_initializer='uniform', activation= 'tanh'))\n",
    "classifier.add(Dense(1, kernel_initializer= 'uniform', activation= 'sigmoid'))\n",
    "classifier.compile(optimizer= 'adam',loss='binary_crossentropy', metrics=['accuracy'])\n",
    "hist2 = classifier.fit(X_train, y_train, batch_size = 10, epochs = 10)\n",
    "y_predict2 = classifier.predict(X_test)\n",
    "y_predict2 = np.where(y_predict2 > 0.5,1,0)\n",
    "print(confusion_matrix(y_test1,y_predict2))  \n",
    "print(classification_report(y_test1,y_predict2))\n",
    "acc_score5=accuracy_score(y_test1,y_predict2)\n",
    "print(acc_score5)"
   ]
  },
  {
   "cell_type": "code",
   "execution_count": 64,
   "metadata": {},
   "outputs": [
    {
     "data": {
      "text/plain": [
       "[<matplotlib.lines.Line2D at 0x2a91c0bd400>]"
      ]
     },
     "execution_count": 64,
     "metadata": {},
     "output_type": "execute_result"
    },
    {
     "data": {
      "image/png": "[encoded data removed]",
      "text/plain": [
       "<Figure size 432x288 with 2 Axes>"
      ]
     },
     "metadata": {
      "needs_background": "light"
     },
     "output_type": "display_data"
    }
   ],
   "source": [
    "plt.subplot(1,2,1)\n",
    "plt.plot(hist2.history['loss'])\n",
    "plt.subplot(1,2,2)\n",
    "plt.plot(hist2.history['acc'])"
   ]
  },
  {
   "cell_type": "code",
   "execution_count": 65,
   "metadata": {},
   "outputs": [
    {
     "name": "stdout",
     "output_type": "stream",
     "text": [
      "Epoch 1/10\n",
      "28664/28664 [==============================] - 7s 257us/step - loss: 0.2722 - acc: 0.9024\n",
      "Epoch 2/10\n",
      "28664/28664 [==============================] - 6s 213us/step - loss: 0.2495 - acc: 0.9058\n",
      "Epoch 3/10\n",
      "28664/28664 [==============================] - 6s 215us/step - loss: 0.2474 - acc: 0.9062\n",
      "Epoch 4/10\n",
      "28664/28664 [==============================] - 6s 216us/step - loss: 0.2460 - acc: 0.9062\n",
      "Epoch 5/10\n",
      "28664/28664 [==============================] - 6s 214us/step - loss: 0.2385 - acc: 0.9060\n",
      "Epoch 6/10\n",
      "28664/28664 [==============================] - 6s 217us/step - loss: 0.2327 - acc: 0.9070\n",
      "Epoch 7/10\n",
      "28664/28664 [==============================] - 6s 218us/step - loss: 0.2284 - acc: 0.9093\n",
      "Epoch 8/10\n",
      "28664/28664 [==============================] - 6s 216us/step - loss: 0.2238 - acc: 0.9087\n",
      "Epoch 9/10\n",
      "28664/28664 [==============================] - 6s 222us/step - loss: 0.2218 - acc: 0.9090\n",
      "Epoch 10/10\n",
      "28664/28664 [==============================] - 6s 213us/step - loss: 0.2202 - acc: 0.9101\n",
      "[[10093   495]\n",
      " [  870  1827]]\n",
      "              precision    recall  f1-score   support\n",
      "\n",
      "         0.0       0.92      0.95      0.94     10588\n",
      "         1.0       0.79      0.68      0.73      2697\n",
      "\n",
      "   micro avg       0.90      0.90      0.90     13285\n",
      "   macro avg       0.85      0.82      0.83     13285\n",
      "weighted avg       0.89      0.90      0.89     13285\n",
      "\n",
      "0.8972525404591645\n"
     ]
    }
   ],
   "source": [
    "## 4 Hidden Layers - First hidden layer with 150 neurons and second & Third with 100 , 50 & 25 neurons with activation fucntion tanh\n",
    "\n",
    "input_shap=12\n",
    "classifier = Sequential()\n",
    "classifier.add(Dense(150, kernel_initializer='uniform', activation= 'tanh', input_shape =(input_shap,)))\n",
    "classifier.add(Dense(100, kernel_initializer='uniform', activation= 'tanh'))\n",
    "classifier.add(Dense(50, kernel_initializer='uniform', activation= 'tanh'))\n",
    "classifier.add(Dense(25, kernel_initializer='uniform', activation= 'tanh'))\n",
    "classifier.add(Dense(1, kernel_initializer= 'uniform', activation= 'sigmoid'))\n",
    "classifier.compile(optimizer= 'adam',loss='binary_crossentropy', metrics=['accuracy'])\n",
    "hist3 = classifier.fit(X_train, y_train, batch_size = 10, epochs = 10)\n",
    "y_predict3 = classifier.predict(X_test)\n",
    "y_predict3 = np.where(y_predict3 > 0.5,1,0)\n",
    "print(confusion_matrix(y_test1,y_predict3))  \n",
    "print(classification_report(y_test1,y_predict3))\n",
    "acc_score6=accuracy_score(y_test1,y_predict3)\n",
    "print(acc_score6)"
   ]
  },
  {
   "cell_type": "code",
   "execution_count": 68,
   "metadata": {},
   "outputs": [
    {
     "data": {
      "text/plain": [
       "[<matplotlib.lines.Line2D at 0x2a91eee29e8>]"
      ]
     },
     "execution_count": 68,
     "metadata": {},
     "output_type": "execute_result"
    },
    {
     "data": {
      "image/png": "[encoded data removed]",
      "text/plain": [
       "<Figure size 432x288 with 2 Axes>"
      ]
     },
     "metadata": {
      "needs_background": "light"
     },
     "output_type": "display_data"
    }
   ],
   "source": [
    "plt.subplot(1,2,1)\n",
    "plt.plot(hist3.history['loss'])\n",
    "plt.subplot(1,2,2)\n",
    "plt.plot(hist3.history['acc'])"
   ]
  },
  {
   "cell_type": "markdown",
   "metadata": {},
   "source": [
    "Three Hidden layers are performing the best"
   ]
  },
  {
   "cell_type": "code",
   "execution_count": 69,
   "metadata": {},
   "outputs": [
    {
     "name": "stdout",
     "output_type": "stream",
     "text": [
      "Epoch 1/10\n",
      "28664/28664 [==============================] - 7s 245us/step - loss: 0.3630 - acc: 0.8740\n",
      "Epoch 2/10\n",
      "28664/28664 [==============================] - 5s 192us/step - loss: 0.3450 - acc: 0.8817\n",
      "Epoch 3/10\n",
      "28664/28664 [==============================] - 6s 193us/step - loss: 0.3365 - acc: 0.8879\n",
      "Epoch 4/10\n",
      "28664/28664 [==============================] - 6s 197us/step - loss: 0.3134 - acc: 0.8909\n",
      "Epoch 5/10\n",
      "28664/28664 [==============================] - 6s 195us/step - loss: 0.3405 - acc: 0.8728\n",
      "Epoch 6/10\n",
      "28664/28664 [==============================] - 5s 192us/step - loss: 0.3205 - acc: 0.8883\n",
      "Epoch 7/10\n",
      "28664/28664 [==============================] - 6s 192us/step - loss: 0.3014 - acc: 0.8970\n",
      "Epoch 8/10\n",
      "28664/28664 [==============================] - 5s 191us/step - loss: 0.3456 - acc: 0.8866\n",
      "Epoch 9/10\n",
      "28664/28664 [==============================] - 6s 192us/step - loss: 0.3336 - acc: 0.8823\n",
      "Epoch 10/10\n",
      "28664/28664 [==============================] - 5s 191us/step - loss: 0.3671 - acc: 0.8564\n",
      "[[10040   548]\n",
      " [  997  1700]]\n",
      "              precision    recall  f1-score   support\n",
      "\n",
      "         0.0       0.91      0.95      0.93     10588\n",
      "         1.0       0.76      0.63      0.69      2697\n",
      "\n",
      "   micro avg       0.88      0.88      0.88     13285\n",
      "   macro avg       0.83      0.79      0.81     13285\n",
      "weighted avg       0.88      0.88      0.88     13285\n",
      "\n",
      "0.8837034249153181\n"
     ]
    }
   ],
   "source": [
    "## 3 Hidden Layers - First hidden layer with 100 neurons and second & Third with 50 & 25 neurons with fully activation fucntion tanh\n",
    "\n",
    "input_shap=12\n",
    "classifier = Sequential()\n",
    "classifier.add(Dense(100, kernel_initializer='uniform', activation= 'tanh', input_shape =(input_shap,)))\n",
    "classifier.add(Dense(50, kernel_initializer='uniform', activation= 'tanh'))\n",
    "classifier.add(Dense(25, kernel_initializer='uniform', activation= 'tanh'))\n",
    "classifier.add(Dense(1, kernel_initializer= 'uniform', activation= 'tanh'))\n",
    "classifier.compile(optimizer= 'adam',loss='binary_crossentropy', metrics=['accuracy'])\n",
    "hist4 = classifier.fit(X_train, y_train, batch_size = 10, epochs = 10)\n",
    "y_predict4 = classifier.predict(X_test)\n",
    "y_predict4 = np.where(y_predict4 > 0.5,1,0)\n",
    "print(confusion_matrix(y_test1,y_predict4))  \n",
    "print(classification_report(y_test1,y_predict4))\n",
    "acc_score7=accuracy_score(y_test1,y_predict4)\n",
    "print(acc_score7)"
   ]
  },
  {
   "cell_type": "code",
   "execution_count": 70,
   "metadata": {},
   "outputs": [
    {
     "data": {
      "text/plain": [
       "[<matplotlib.lines.Line2D at 0x2a91edb9358>]"
      ]
     },
     "execution_count": 70,
     "metadata": {},
     "output_type": "execute_result"
    },
    {
     "data": {
      "image/png": "[encoded data removed]",
      "text/plain": [
       "<Figure size 432x288 with 2 Axes>"
      ]
     },
     "metadata": {
      "needs_background": "light"
     },
     "output_type": "display_data"
    }
   ],
   "source": [
    "plt.subplot(1,2,1)\n",
    "plt.plot(hist4.history['loss'])\n",
    "plt.subplot(1,2,2)\n",
    "plt.plot(hist4.history['acc'])"
   ]
  },
  {
   "cell_type": "code",
   "execution_count": 71,
   "metadata": {},
   "outputs": [
    {
     "name": "stdout",
     "output_type": "stream",
     "text": [
      "Epoch 1/10\n",
      "28664/28664 [==============================] - 7s 245us/step - loss: 0.3296 - acc: 0.8699\n",
      "Epoch 2/10\n",
      "28664/28664 [==============================] - 6s 195us/step - loss: 0.2465 - acc: 0.9084\n",
      "Epoch 3/10\n",
      "28664/28664 [==============================] - 6s 195us/step - loss: 0.2443 - acc: 0.9085\n",
      "Epoch 4/10\n",
      "28664/28664 [==============================] - 6s 205us/step - loss: 0.2418 - acc: 0.9095\n",
      "Epoch 5/10\n",
      "28664/28664 [==============================] - 6s 197us/step - loss: 0.2381 - acc: 0.9100\n",
      "Epoch 6/10\n",
      "28664/28664 [==============================] - 6s 197us/step - loss: 0.2339 - acc: 0.9100\n",
      "Epoch 7/10\n",
      "28664/28664 [==============================] - 6s 195us/step - loss: 0.2317 - acc: 0.9106\n",
      "Epoch 8/10\n",
      "28664/28664 [==============================] - 6s 196us/step - loss: 0.2307 - acc: 0.9103\n",
      "Epoch 9/10\n",
      "28664/28664 [==============================] - 6s 196us/step - loss: 0.2295 - acc: 0.9100\n",
      "Epoch 10/10\n",
      "28664/28664 [==============================] - 6s 196us/step - loss: 0.2282 - acc: 0.9107\n",
      "[[10145   443]\n",
      " [  899  1798]]\n",
      "              precision    recall  f1-score   support\n",
      "\n",
      "         0.0       0.92      0.96      0.94     10588\n",
      "         1.0       0.80      0.67      0.73      2697\n",
      "\n",
      "   micro avg       0.90      0.90      0.90     13285\n",
      "   macro avg       0.86      0.81      0.83     13285\n",
      "weighted avg       0.89      0.90      0.90     13285\n",
      "\n",
      "0.8989838163342115\n"
     ]
    }
   ],
   "source": [
    "## 3 Hidden Layers - First hidden layer with 100 neurons and second & Third with 50 & 25 neurons with fully activation fucntion sigmoid\n",
    "\n",
    "input_shap=12\n",
    "classifier = Sequential()\n",
    "classifier.add(Dense(100, kernel_initializer='uniform', activation= 'sigmoid', input_shape =(input_shap,)))\n",
    "classifier.add(Dense(50, kernel_initializer='uniform', activation= 'sigmoid'))\n",
    "classifier.add(Dense(25, kernel_initializer='uniform', activation= 'sigmoid'))\n",
    "classifier.add(Dense(1, kernel_initializer= 'uniform', activation= 'sigmoid'))\n",
    "classifier.compile(optimizer= 'adam',loss='binary_crossentropy', metrics=['accuracy'])\n",
    "hist5 = classifier.fit(X_train, y_train, batch_size = 10, epochs = 10)\n",
    "y_predict5 = classifier.predict(X_test)\n",
    "y_predict5 = np.where(y_predict5 > 0.5,1,0)\n",
    "print(confusion_matrix(y_test1,y_predict5))  \n",
    "print(classification_report(y_test1,y_predict5))\n",
    "acc_score8=accuracy_score(y_test1,y_predict5)\n",
    "print(acc_score8)"
   ]
  },
  {
   "cell_type": "code",
   "execution_count": 73,
   "metadata": {},
   "outputs": [
    {
     "data": {
      "text/plain": [
       "[<matplotlib.lines.Line2D at 0x2a921c2cd68>]"
      ]
     },
     "execution_count": 73,
     "metadata": {},
     "output_type": "execute_result"
    },
    {
     "data": {
      "image/png": "[encoded data removed]",
      "text/plain": [
       "<Figure size 432x288 with 2 Axes>"
      ]
     },
     "metadata": {
      "needs_background": "light"
     },
     "output_type": "display_data"
    }
   ],
   "source": [
    "plt.subplot(1,2,1)\n",
    "plt.plot(hist5.history['loss'])\n",
    "plt.subplot(1,2,2)\n",
    "plt.plot(hist5.history['acc'])"
   ]
  },
  {
   "cell_type": "code",
   "execution_count": 74,
   "metadata": {},
   "outputs": [
    {
     "name": "stdout",
     "output_type": "stream",
     "text": [
      "Epoch 1/10\n",
      "28664/28664 [==============================] - 9s 329us/step - loss: 0.2747 - acc: 0.9013\n",
      "Epoch 2/10\n",
      "28664/28664 [==============================] - 7s 250us/step - loss: 0.2504 - acc: 0.9071\n",
      "Epoch 3/10\n",
      "28664/28664 [==============================] - 7s 249us/step - loss: 0.2401 - acc: 0.9080\n",
      "Epoch 4/10\n",
      "28664/28664 [==============================] - 7s 250us/step - loss: 0.2345 - acc: 0.9094\n",
      "Epoch 5/10\n",
      "28664/28664 [==============================] - 7s 249us/step - loss: 0.2315 - acc: 0.9085\n",
      "Epoch 6/10\n",
      "28664/28664 [==============================] - 8s 263us/step - loss: 0.2290 - acc: 0.9095\n",
      "Epoch 7/10\n",
      "28664/28664 [==============================] - 6s 216us/step - loss: 0.2273 - acc: 0.9095\n",
      "Epoch 8/10\n",
      "28664/28664 [==============================] - 6s 193us/step - loss: 0.2263 - acc: 0.9104\n",
      "Epoch 9/10\n",
      "28664/28664 [==============================] - 6s 195us/step - loss: 0.2243 - acc: 0.9100\n",
      "Epoch 10/10\n",
      "28664/28664 [==============================] - 5s 192us/step - loss: 0.2231 - acc: 0.9116\n",
      "[[10357   231]\n",
      " [ 1198  1499]]\n",
      "              precision    recall  f1-score   support\n",
      "\n",
      "         0.0       0.90      0.98      0.94     10588\n",
      "         1.0       0.87      0.56      0.68      2697\n",
      "\n",
      "   micro avg       0.89      0.89      0.89     13285\n",
      "   macro avg       0.88      0.77      0.81     13285\n",
      "weighted avg       0.89      0.89      0.88     13285\n",
      "\n",
      "0.8924350771546857\n"
     ]
    }
   ],
   "source": [
    "### Experiment various number of neurons with 3 layers and tanh function for hidden layers and sigmoid function for the output layers\n",
    "\n",
    "input_shap=12\n",
    "classifier = Sequential()\n",
    "classifier.add(Dense(50, kernel_initializer='uniform', activation= 'tanh', input_shape =(input_shap,)))\n",
    "classifier.add(Dense(25, kernel_initializer='uniform', activation= 'tanh'))\n",
    "classifier.add(Dense(12, kernel_initializer='uniform', activation= 'tanh'))\n",
    "classifier.add(Dense(1, kernel_initializer= 'uniform', activation= 'sigmoid'))\n",
    "classifier.compile(optimizer= 'adam',loss='binary_crossentropy', metrics=['accuracy'])\n",
    "hist6 = classifier.fit(X_train, y_train, batch_size = 10, epochs = 10)\n",
    "y_predict6 = classifier.predict(X_test)\n",
    "y_predict6 = np.where(y_predict6 > 0.5,1,0)\n",
    "print(confusion_matrix(y_test1,y_predict6))  \n",
    "print(classification_report(y_test1,y_predict6))\n",
    "acc_score9=accuracy_score(y_test1,y_predict6)\n",
    "print(acc_score9)"
   ]
  },
  {
   "cell_type": "code",
   "execution_count": 76,
   "metadata": {},
   "outputs": [
    {
     "data": {
      "text/plain": [
       "[<matplotlib.lines.Line2D at 0x2a92431aef0>]"
      ]
     },
     "execution_count": 76,
     "metadata": {},
     "output_type": "execute_result"
    },
    {
     "data": {
      "image/png": "[encoded data removed]",
      "text/plain": [
       "<Figure size 432x288 with 2 Axes>"
      ]
     },
     "metadata": {
      "needs_background": "light"
     },
     "output_type": "display_data"
    }
   ],
   "source": [
    "plt.subplot(1,2,1)\n",
    "plt.plot(hist6.history['loss'])\n",
    "plt.subplot(1,2,2)\n",
    "plt.plot(hist6.history['acc'])"
   ]
  },
  {
   "cell_type": "code",
   "execution_count": 77,
   "metadata": {},
   "outputs": [
    {
     "name": "stdout",
     "output_type": "stream",
     "text": [
      "Epoch 1/10\n",
      "28664/28664 [==============================] - 9s 303us/step - loss: 0.2871 - acc: 0.9010\n",
      "Epoch 2/10\n",
      "28664/28664 [==============================] - 6s 194us/step - loss: 0.2494 - acc: 0.9079\n",
      "Epoch 3/10\n",
      "28664/28664 [==============================] - 6s 205us/step - loss: 0.2442 - acc: 0.9087\n",
      "Epoch 4/10\n",
      "28664/28664 [==============================] - 6s 196us/step - loss: 0.2398 - acc: 0.9096\n",
      "Epoch 5/10\n",
      "28664/28664 [==============================] - 6s 194us/step - loss: 0.2358 - acc: 0.9102\n",
      "Epoch 6/10\n",
      "28664/28664 [==============================] - 6s 193us/step - loss: 0.2317 - acc: 0.9102\n",
      "Epoch 7/10\n",
      "28664/28664 [==============================] - 6s 193us/step - loss: 0.2287 - acc: 0.9107\n",
      "Epoch 8/10\n",
      "28664/28664 [==============================] - 6s 195us/step - loss: 0.2269 - acc: 0.9099\n",
      "Epoch 9/10\n",
      "28664/28664 [==============================] - 6s 206us/step - loss: 0.2256 - acc: 0.9103\n",
      "Epoch 10/10\n",
      "28664/28664 [==============================] - 6s 195us/step - loss: 0.2240 - acc: 0.9112\n",
      "[[10199   389]\n",
      " [  942  1755]]\n",
      "              precision    recall  f1-score   support\n",
      "\n",
      "         0.0       0.92      0.96      0.94     10588\n",
      "         1.0       0.82      0.65      0.73      2697\n",
      "\n",
      "   micro avg       0.90      0.90      0.90     13285\n",
      "   macro avg       0.87      0.81      0.83     13285\n",
      "weighted avg       0.90      0.90      0.90     13285\n",
      "\n",
      "0.8998118178396688\n"
     ]
    }
   ],
   "source": [
    "input_shap=12\n",
    "classifier = Sequential()\n",
    "classifier.add(Dense(20, kernel_initializer='uniform', activation= 'tanh', input_shape =(input_shap,)))\n",
    "classifier.add(Dense(10, kernel_initializer='uniform', activation= 'tanh'))\n",
    "classifier.add(Dense(5, kernel_initializer='uniform', activation= 'tanh'))\n",
    "classifier.add(Dense(1, kernel_initializer= 'uniform', activation= 'sigmoid'))\n",
    "classifier.compile(optimizer= 'adam',loss='binary_crossentropy', metrics=['accuracy'])\n",
    "hist7 = classifier.fit(X_train, y_train, batch_size = 10, epochs = 10)\n",
    "y_predict7 = classifier.predict(X_test)\n",
    "y_predict7 = np.where(y_predict7 > 0.5,1,0)\n",
    "print(confusion_matrix(y_test1,y_predict7))  \n",
    "print(classification_report(y_test1,y_predict7))\n",
    "acc_score10=accuracy_score(y_test1,y_predict7)\n",
    "print(acc_score10)"
   ]
  },
  {
   "cell_type": "code",
   "execution_count": 79,
   "metadata": {},
   "outputs": [
    {
     "data": {
      "text/plain": [
       "[<matplotlib.lines.Line2D at 0x2a924eae978>]"
      ]
     },
     "execution_count": 79,
     "metadata": {},
     "output_type": "execute_result"
    },
    {
     "data": {
      "image/png": "[encoded data removed]",
      "text/plain": [
       "<Figure size 432x288 with 2 Axes>"
      ]
     },
     "metadata": {
      "needs_background": "light"
     },
     "output_type": "display_data"
    }
   ],
   "source": [
    "plt.subplot(1,2,1)\n",
    "plt.plot(hist7.history['loss'])\n",
    "plt.subplot(1,2,2)\n",
    "plt.plot(hist7.history['acc'])"
   ]
  },
  {
   "cell_type": "code",
   "execution_count": 78,
   "metadata": {},
   "outputs": [
    {
     "name": "stdout",
     "output_type": "stream",
     "text": [
      "Epoch 1/10\n",
      "28664/28664 [==============================] - 7s 255us/step - loss: 0.3018 - acc: 0.8973\n",
      "Epoch 2/10\n",
      "28664/28664 [==============================] - 6s 197us/step - loss: 0.2504 - acc: 0.9085\n",
      "Epoch 3/10\n",
      "28664/28664 [==============================] - 6s 197us/step - loss: 0.2459 - acc: 0.9089\n",
      "Epoch 4/10\n",
      "28664/28664 [==============================] - 6s 197us/step - loss: 0.2417 - acc: 0.9087\n",
      "Epoch 5/10\n",
      "28664/28664 [==============================] - 6s 196us/step - loss: 0.2383 - acc: 0.9099\n",
      "Epoch 6/10\n",
      "28664/28664 [==============================] - 6s 198us/step - loss: 0.2355 - acc: 0.9109\n",
      "Epoch 7/10\n",
      "28664/28664 [==============================] - 6s 196us/step - loss: 0.2323 - acc: 0.9104\n",
      "Epoch 8/10\n",
      "28664/28664 [==============================] - 6s 205us/step - loss: 0.2300 - acc: 0.9104\n",
      "Epoch 9/10\n",
      "28664/28664 [==============================] - 6s 198us/step - loss: 0.2273 - acc: 0.9104\n",
      "Epoch 10/10\n",
      "28664/28664 [==============================] - 6s 195us/step - loss: 0.2256 - acc: 0.9111\n",
      "[[10163   425]\n",
      " [  904  1793]]\n",
      "              precision    recall  f1-score   support\n",
      "\n",
      "         0.0       0.92      0.96      0.94     10588\n",
      "         1.0       0.81      0.66      0.73      2697\n",
      "\n",
      "   micro avg       0.90      0.90      0.90     13285\n",
      "   macro avg       0.86      0.81      0.83     13285\n",
      "weighted avg       0.90      0.90      0.90     13285\n",
      "\n",
      "0.8999623635679338\n"
     ]
    }
   ],
   "source": [
    "input_shap=12\n",
    "classifier = Sequential()\n",
    "classifier.add(Dense(10, kernel_initializer='uniform', activation= 'tanh', input_shape =(input_shap,)))\n",
    "classifier.add(Dense(5, kernel_initializer='uniform', activation= 'tanh'))\n",
    "classifier.add(Dense(3, kernel_initializer='uniform', activation= 'tanh'))\n",
    "classifier.add(Dense(1, kernel_initializer= 'uniform', activation= 'sigmoid'))\n",
    "classifier.compile(optimizer= 'adam',loss='binary_crossentropy', metrics=['accuracy'])\n",
    "hist8 = classifier.fit(X_train, y_train, batch_size = 10, epochs = 10)\n",
    "y_predict8 = classifier.predict(X_test)\n",
    "y_predict8 = np.where(y_predict8 > 0.5,1,0)\n",
    "print(confusion_matrix(y_test1,y_predict8))  \n",
    "print(classification_report(y_test1,y_predict8))\n",
    "acc_score11=accuracy_score(y_test1,y_predict8)\n",
    "print(acc_score11)"
   ]
  },
  {
   "cell_type": "code",
   "execution_count": 80,
   "metadata": {},
   "outputs": [
    {
     "data": {
      "text/plain": [
       "[<matplotlib.lines.Line2D at 0x2a925faf630>]"
      ]
     },
     "execution_count": 80,
     "metadata": {},
     "output_type": "execute_result"
    },
    {
     "data": {
      "image/png": "[encoded data removed]",
      "text/plain": [
       "<Figure size 432x288 with 2 Axes>"
      ]
     },
     "metadata": {
      "needs_background": "light"
     },
     "output_type": "display_data"
    }
   ],
   "source": [
    "plt.subplot(1,2,1)\n",
    "plt.plot(hist8.history['loss'])\n",
    "plt.subplot(1,2,2)\n",
    "plt.plot(hist8.history['acc'])"
   ]
  },
  {
   "cell_type": "code",
   "execution_count": 81,
   "metadata": {},
   "outputs": [
    {
     "name": "stdout",
     "output_type": "stream",
     "text": [
      "Epoch 1/10\n",
      "28664/28664 [==============================] - 9s 316us/step - loss: 0.5054 - acc: 0.8089\n",
      "Epoch 2/10\n",
      "28664/28664 [==============================] - 5s 187us/step - loss: 0.4878 - acc: 0.8090\n",
      "Epoch 3/10\n",
      "28664/28664 [==============================] - 5s 184us/step - loss: 0.4878 - acc: 0.8090\n",
      "Epoch 4/10\n",
      "28664/28664 [==============================] - 5s 185us/step - loss: 0.4878 - acc: 0.8090\n",
      "Epoch 5/10\n",
      "28664/28664 [==============================] - 5s 183us/step - loss: 0.4878 - acc: 0.8090\n",
      "Epoch 6/10\n",
      "28664/28664 [==============================] - 5s 184us/step - loss: 0.4877 - acc: 0.8090\n",
      "Epoch 7/10\n",
      "28664/28664 [==============================] - 5s 186us/step - loss: 0.4877 - acc: 0.8090\n",
      "Epoch 8/10\n",
      "28664/28664 [==============================] - 5s 183us/step - loss: 0.4875 - acc: 0.8090\n",
      "Epoch 9/10\n",
      "28664/28664 [==============================] - 5s 183us/step - loss: 0.4860 - acc: 0.8090\n",
      "Epoch 10/10\n",
      "28664/28664 [==============================] - 5s 183us/step - loss: 0.4071 - acc: 0.8302\n",
      "[[10273   315]\n",
      " [ 1467  1230]]\n",
      "              precision    recall  f1-score   support\n",
      "\n",
      "         0.0       0.88      0.97      0.92     10588\n",
      "         1.0       0.80      0.46      0.58      2697\n",
      "\n",
      "   micro avg       0.87      0.87      0.87     13285\n",
      "   macro avg       0.84      0.71      0.75     13285\n",
      "weighted avg       0.86      0.87      0.85     13285\n",
      "\n",
      "0.8658637561159203\n"
     ]
    }
   ],
   "source": [
    "## We will experiment with various optimizer function\n",
    "\n",
    "input_shap=12\n",
    "classifier = Sequential()\n",
    "classifier.add(Dense(10, kernel_initializer='uniform', activation= 'tanh', input_shape =(input_shap,)))\n",
    "classifier.add(Dense(5, kernel_initializer='uniform', activation= 'tanh'))\n",
    "classifier.add(Dense(3, kernel_initializer='uniform', activation= 'tanh'))\n",
    "classifier.add(Dense(1, kernel_initializer= 'uniform', activation= 'sigmoid'))\n",
    "classifier.compile(optimizer= 'SGD',loss='binary_crossentropy', metrics=['accuracy'])\n",
    "hist9 = classifier.fit(X_train, y_train, batch_size = 10, epochs = 10)\n",
    "y_predict9 = classifier.predict(X_test)\n",
    "y_predict9 = np.where(y_predict9 > 0.5,1,0)\n",
    "print(confusion_matrix(y_test1,y_predict9))  \n",
    "print(classification_report(y_test1,y_predict9))\n",
    "acc_score12=accuracy_score(y_test1,y_predict9)\n",
    "print(acc_score12)"
   ]
  },
  {
   "cell_type": "code",
   "execution_count": 82,
   "metadata": {},
   "outputs": [
    {
     "data": {
      "text/plain": [
       "[<matplotlib.lines.Line2D at 0x2a92741bd30>]"
      ]
     },
     "execution_count": 82,
     "metadata": {},
     "output_type": "execute_result"
    },
    {
     "data": {
      "image/png": "[encoded data removed]",
      "text/plain": [
       "<Figure size 432x288 with 2 Axes>"
      ]
     },
     "metadata": {
      "needs_background": "light"
     },
     "output_type": "display_data"
    }
   ],
   "source": [
    "plt.subplot(1,2,1)\n",
    "plt.plot(hist9.history['loss'])\n",
    "plt.subplot(1,2,2)\n",
    "plt.plot(hist9.history['acc'])"
   ]
  },
  {
   "cell_type": "code",
   "execution_count": 83,
   "metadata": {},
   "outputs": [
    {
     "name": "stdout",
     "output_type": "stream",
     "text": [
      "Epoch 1/10\n",
      "28664/28664 [==============================] - 3s 115us/step - loss: 0.2688 - acc: 0.9022\n",
      "Epoch 2/10\n",
      "28664/28664 [==============================] - 2s 87us/step - loss: 0.2457 - acc: 0.9084\n",
      "Epoch 3/10\n",
      "28664/28664 [==============================] - 2s 87us/step - loss: 0.2430 - acc: 0.9082\n",
      "Epoch 4/10\n",
      "28664/28664 [==============================] - 2s 86us/step - loss: 0.2419 - acc: 0.9075\n",
      "Epoch 5/10\n",
      "28664/28664 [==============================] - 2s 87us/step - loss: 0.2409 - acc: 0.9076\n",
      "Epoch 6/10\n",
      "28664/28664 [==============================] - 3s 87us/step - loss: 0.2406 - acc: 0.9084: 1s  - ETA: 0s - loss: 0.2408 - a\n",
      "Epoch 7/10\n",
      "28664/28664 [==============================] - 2s 87us/step - loss: 0.2397 - acc: 0.9099\n",
      "Epoch 8/10\n",
      "28664/28664 [==============================] - 3s 88us/step - loss: 0.2397 - acc: 0.9083\n",
      "Epoch 9/10\n",
      "28664/28664 [==============================] - 3s 87us/step - loss: 0.2375 - acc: 0.9083\n",
      "Epoch 10/10\n",
      "28664/28664 [==============================] - 3s 94us/step - loss: 0.2350 - acc: 0.9097\n",
      "[[10116   472]\n",
      " [  864  1833]]\n",
      "              precision    recall  f1-score   support\n",
      "\n",
      "         0.0       0.92      0.96      0.94     10588\n",
      "         1.0       0.80      0.68      0.73      2697\n",
      "\n",
      "   micro avg       0.90      0.90      0.90     13285\n",
      "   macro avg       0.86      0.82      0.84     13285\n",
      "weighted avg       0.90      0.90      0.90     13285\n",
      "\n",
      "0.8994354535190064\n"
     ]
    }
   ],
   "source": [
    "## We will experiment with various optimizer function\n",
    "\n",
    "input_shap=12\n",
    "classifier = Sequential()\n",
    "classifier.add(Dense(10, kernel_initializer='uniform', activation= 'tanh', input_shape =(input_shap,)))\n",
    "classifier.add(Dense(5, kernel_initializer='uniform', activation= 'tanh'))\n",
    "classifier.add(Dense(3, kernel_initializer='uniform', activation= 'tanh'))\n",
    "classifier.add(Dense(1, kernel_initializer= 'uniform', activation= 'sigmoid'))\n",
    "classifier.compile(optimizer= 'AdaDelta',loss='binary_crossentropy', metrics=['accuracy'])\n",
    "hist10 = classifier.fit(X_train, y_train, batch_size = 10, epochs = 10)\n",
    "y_predict10 = classifier.predict(X_test)\n",
    "y_predict10 = np.where(y_predict10 > 0.5,1,0)\n",
    "print(confusion_matrix(y_test1,y_predict10))  \n",
    "print(classification_report(y_test1,y_predict10))\n",
    "acc_score13=accuracy_score(y_test1,y_predict10)\n",
    "print(acc_score13)"
   ]
  },
  {
   "cell_type": "code",
   "execution_count": 84,
   "metadata": {},
   "outputs": [
    {
     "data": {
      "text/plain": [
       "[<matplotlib.lines.Line2D at 0x2a9279b1e80>]"
      ]
     },
     "execution_count": 84,
     "metadata": {},
     "output_type": "execute_result"
    },
    {
     "data": {
      "image/png": "[encoded data removed]",
      "text/plain": [
       "<Figure size 432x288 with 2 Axes>"
      ]
     },
     "metadata": {
      "needs_background": "light"
     },
     "output_type": "display_data"
    }
   ],
   "source": [
    "plt.subplot(1,2,1)\n",
    "plt.plot(hist10.history['loss'])\n",
    "plt.subplot(1,2,2)\n",
    "plt.plot(hist10.history['acc'])"
   ]
  },
  {
   "cell_type": "code",
   "execution_count": 85,
   "metadata": {},
   "outputs": [
    {
     "name": "stdout",
     "output_type": "stream",
     "text": [
      "Epoch 1/10\n",
      "28664/28664 [==============================] - 3s 111us/step - loss: 0.3299 - acc: 0.8910\n",
      "Epoch 2/10\n",
      "28664/28664 [==============================] - 2s 85us/step - loss: 0.2656 - acc: 0.9066\n",
      "Epoch 3/10\n",
      "28664/28664 [==============================] - 2s 79us/step - loss: 0.2575 - acc: 0.9088\n",
      "Epoch 4/10\n",
      "28664/28664 [==============================] - 2s 78us/step - loss: 0.2548 - acc: 0.9084\n",
      "Epoch 5/10\n",
      "28664/28664 [==============================] - 2s 79us/step - loss: 0.2530 - acc: 0.9087\n",
      "Epoch 6/10\n",
      "28664/28664 [==============================] - 2s 78us/step - loss: 0.2519 - acc: 0.9089\n",
      "Epoch 7/10\n",
      "28664/28664 [==============================] - 2s 78us/step - loss: 0.2509 - acc: 0.9090\n",
      "Epoch 8/10\n",
      "28664/28664 [==============================] - 2s 79us/step - loss: 0.2503 - acc: 0.9090\n",
      "Epoch 9/10\n",
      "28664/28664 [==============================] - 2s 79us/step - loss: 0.2497 - acc: 0.9090\n",
      "Epoch 10/10\n",
      "28664/28664 [==============================] - 2s 79us/step - loss: 0.2491 - acc: 0.9090\n",
      "[[10108   480]\n",
      " [  884  1813]]\n",
      "              precision    recall  f1-score   support\n",
      "\n",
      "         0.0       0.92      0.95      0.94     10588\n",
      "         1.0       0.79      0.67      0.73      2697\n",
      "\n",
      "   micro avg       0.90      0.90      0.90     13285\n",
      "   macro avg       0.86      0.81      0.83     13285\n",
      "weighted avg       0.89      0.90      0.89     13285\n",
      "\n",
      "0.8973278133232969\n"
     ]
    }
   ],
   "source": [
    "## We will experiment with various optimizer function\n",
    "\n",
    "input_shap=12\n",
    "classifier = Sequential()\n",
    "classifier.add(Dense(10, kernel_initializer='uniform', activation= 'tanh', input_shape =(input_shap,)))\n",
    "classifier.add(Dense(5, kernel_initializer='uniform', activation= 'tanh'))\n",
    "classifier.add(Dense(3, kernel_initializer='uniform', activation= 'tanh'))\n",
    "classifier.add(Dense(1, kernel_initializer= 'uniform', activation= 'sigmoid'))\n",
    "classifier.compile(optimizer= 'AdaGrad',loss='binary_crossentropy', metrics=['accuracy'])\n",
    "hist11 = classifier.fit(X_train, y_train, batch_size = 10, epochs = 10)\n",
    "y_predict11 = classifier.predict(X_test)\n",
    "y_predict11 = np.where(y_predict11 > 0.5,1,0)\n",
    "print(confusion_matrix(y_test1,y_predict11))  \n",
    "print(classification_report(y_test1,y_predict11))\n",
    "acc_score14=accuracy_score(y_test1,y_predict11)\n",
    "print(acc_score14)"
   ]
  },
  {
   "cell_type": "code",
   "execution_count": 86,
   "metadata": {},
   "outputs": [
    {
     "data": {
      "text/plain": [
       "[<matplotlib.lines.Line2D at 0x2a928ec4eb8>]"
      ]
     },
     "execution_count": 86,
     "metadata": {},
     "output_type": "execute_result"
    },
    {
     "data": {
      "image/png": "[encoded data removed]",
      "text/plain": [
       "<Figure size 432x288 with 2 Axes>"
      ]
     },
     "metadata": {
      "needs_background": "light"
     },
     "output_type": "display_data"
    }
   ],
   "source": [
    "plt.subplot(1,2,1)\n",
    "plt.plot(hist10.history['loss'])\n",
    "plt.subplot(1,2,2)\n",
    "plt.plot(hist10.history['acc'])"
   ]
  },
  {
   "cell_type": "code",
   "execution_count": 92,
   "metadata": {},
   "outputs": [
    {
     "data": {
      "text/plain": [
       "Text(0.5, 1.0, 'Train and Test Accuracy as a function of K Value for Euclidean distance')"
      ]
     },
     "execution_count": 92,
     "metadata": {},
     "output_type": "execute_result"
    },
    {
     "data": {
      "image/png": "[encoded data removed]",
      "text/plain": [
       "<Figure size 432x288 with 1 Axes>"
      ]
     },
     "metadata": {
      "needs_background": "light"
     },
     "output_type": "display_data"
    }
   ],
   "source": [
    "plt.plot(acc_score,label='test')\n",
    "plt.plot(acc_score_train,label='train')\n",
    "plt.xlabel(\"K-Value\")\n",
    "plt.ylabel(\"Accuracy\")\n",
    "plt.legend(loc='upper right')\n",
    "plt.title(\"Train and Test Accuracy as a function of K Value for Euclidean distance\")"
   ]
  },
  {
   "cell_type": "code",
   "execution_count": 95,
   "metadata": {},
   "outputs": [
    {
     "data": {
      "text/plain": [
       "Text(0.5, 1.0, 'Train and Test Accuracy as a function of K Value for Manhattan distance')"
      ]
     },
     "execution_count": 95,
     "metadata": {},
     "output_type": "execute_result"
    },
    {
     "data": {
      "image/png": "[encoded data removed]",
      "text/plain": [
       "<Figure size 432x288 with 1 Axes>"
      ]
     },
     "metadata": {
      "needs_background": "light"
     },
     "output_type": "display_data"
    }
   ],
   "source": [
    "plt.plot(acc_score1,label='test')\n",
    "plt.plot(acc_score1_train,label='train')\n",
    "plt.xlabel(\"K-Value\")\n",
    "plt.ylabel(\"Accuracy\")\n",
    "plt.legend(loc='upper right')\n",
    "plt.title(\"Train and Test Accuracy as a function of K Value for Manhattan distance\")"
   ]
  },
  {
   "cell_type": "code",
   "execution_count": 96,
   "metadata": {},
   "outputs": [
    {
     "data": {
      "text/plain": [
       "Text(0.5, 1.0, 'Train and Test Accuracy as a function of K Value for Minkowski distance')"
      ]
     },
     "execution_count": 96,
     "metadata": {},
     "output_type": "execute_result"
    },
    {
     "data": {
      "image/png": "[encoded data removed]",
      "text/plain": [
       "<Figure size 432x288 with 1 Axes>"
      ]
     },
     "metadata": {
      "needs_background": "light"
     },
     "output_type": "display_data"
    }
   ],
   "source": [
    "plt.plot(acc_score2,label='test')\n",
    "plt.plot(acc_score2_train,label='train')\n",
    "plt.xlabel(\"K-Value\")\n",
    "plt.ylabel(\"Accuracy\")\n",
    "plt.legend(loc='upper right')\n",
    "plt.title(\"Train and Test Accuracy as a function of K Value for Minkowski distance\")"
   ]
  },
  {
   "cell_type": "markdown",
   "metadata": {},
   "source": [
    "PlOTS for ANN"
   ]
  },
  {
   "cell_type": "code",
   "execution_count": 101,
   "metadata": {},
   "outputs": [
    {
     "data": {
      "text/plain": [
       "Text(0.5, 1.0, 'Train and Test Accuracy as a function of Number of Hidden Layers in ANN')"
      ]
     },
     "execution_count": 101,
     "metadata": {},
     "output_type": "execute_result"
    },
    {
     "data": {
      "image/png": "[encoded data removed]",
      "text/plain": [
       "<Figure size 432x288 with 1 Axes>"
      ]
     },
     "metadata": {
      "needs_background": "light"
     },
     "output_type": "display_data"
    }
   ],
   "source": [
    "\n",
    "### plots for Train and Test accuracy as a function of Number of layers\n",
    "test_accuracy = [acc_score4,acc_score5,acc_score6]\n",
    "train_accuracy=[0.9108,0.9109,0.9101]\n",
    "layers=[2,3,4]\n",
    "plt.plot(layers,train_accuracy,label='train')\n",
    "plt.plot(layers,test_accuracy,label='test')\n",
    "plt.xlabel(\"Number of Hidden Layers\")\n",
    "plt.ylabel(\"Accuracy\")\n",
    "plt.legend(loc='upper right')\n",
    "plt.title(\"Train and Test Accuracy as a function of Number of Hidden Layers in ANN\")"
   ]
  },
  {
   "cell_type": "code",
   "execution_count": 113,
   "metadata": {},
   "outputs": [
    {
     "data": {
      "text/plain": [
       "Text(0.5, 1.0, 'Train and Test Accuracy for various Activation functions in ANN')"
      ]
     },
     "execution_count": 113,
     "metadata": {},
     "output_type": "execute_result"
    },
    {
     "data": {
      "image/png": "[encoded data removed]",
      "text/plain": [
       "<Figure size 432x288 with 1 Axes>"
      ]
     },
     "metadata": {
      "needs_background": "light"
     },
     "output_type": "display_data"
    }
   ],
   "source": [
    "### plots for Train and Test accuracy for various activation functions\n",
    "test_accuracy = [acc_score3,acc_score5,acc_score7,acc_score8]\n",
    "train_accuracy=[0.9129,0.9109,0.8564,0.9107]\n",
    "Act_fun=[\"Rl&Sig\",\"tanh&sig\",\"tanh\",\"sig\"]\n",
    "\n",
    "plt.bar(Act_fun,train_accuracy,label='train',width=0.5)\n",
    "plt.bar(Act_fun,test_accuracy,label='test',width=0.25)\n",
    "plt.xlabel(\"Various Activation functions\")\n",
    "plt.ylim([0.84, 0.915])\n",
    "plt.ylabel(\"Accuracy\")\n",
    "plt.legend(loc='lower right')\n",
    "plt.title(\"Train and Test Accuracy for various Activation functions in ANN\")"
   ]
  },
  {
   "cell_type": "code",
   "execution_count": 115,
   "metadata": {},
   "outputs": [
    {
     "data": {
      "text/plain": [
       "Text(0.5, 1.0, 'Train and Test Accuracy for various Number of Neurons')"
      ]
     },
     "execution_count": 115,
     "metadata": {},
     "output_type": "execute_result"
    },
    {
     "data": {
      "image/png": "[encoded data removed]",
      "text/plain": [
       "<Figure size 432x288 with 1 Axes>"
      ]
     },
     "metadata": {
      "needs_background": "light"
     },
     "output_type": "display_data"
    }
   ],
   "source": [
    "### plots for Train and Test accuracy for Increasing Number of Neurons\n",
    "test_accuracy = [acc_score5,acc_score9,acc_score10,acc_score11]\n",
    "train_accuracy=[0.9109,0.9116,0.9112,0.9111]\n",
    "Num_of_Neurons=[\"176(100-50-25-1)\",\"88(50-25-12-1)\",\"36-(20-10-5-1)\",\"19-(10-5-3-1)\"]\n",
    "\n",
    "plt.plot(Num_of_Neurons,train_accuracy,label='train')\n",
    "plt.plot(Num_of_Neurons,test_accuracy,label='test')\n",
    "plt.xlabel(\"Number of Neurons\")\n",
    "plt.ylabel(\"Accuracy\")\n",
    "plt.legend(loc='lower right')\n",
    "plt.title(\"Train and Test Accuracy for various Number of Neurons\")"
   ]
  },
  {
   "cell_type": "code",
   "execution_count": 118,
   "metadata": {},
   "outputs": [
    {
     "data": {
      "text/plain": [
       "Text(0.5, 1.0, 'Train and Test Accuracy for various Optimizer functions in ANN')"
      ]
     },
     "execution_count": 118,
     "metadata": {},
     "output_type": "execute_result"
    },
    {
     "data": {
      "image/png": "[encoded data removed]",
      "text/plain": [
       "<Figure size 432x288 with 1 Axes>"
      ]
     },
     "metadata": {
      "needs_background": "light"
     },
     "output_type": "display_data"
    }
   ],
   "source": [
    "### Plots for Train and Test Accuracy for various optimizer function\n",
    "test_accuracy = [acc_score11,acc_score12,acc_score13,acc_score14]\n",
    "train_accuracy=[0.9111,0.8302,0.9097,0.909]\n",
    "Opt_fun=[\"Adam\",\"SGD\",\"AdaDelta\",\"Adagrad\"]\n",
    "\n",
    "plt.bar(Opt_fun,train_accuracy,label='train',width=0.5)\n",
    "plt.bar(Opt_fun,test_accuracy,label='test',width=0.25)\n",
    "plt.xlabel(\"Various Optimizer functions\")\n",
    "plt.ylim([0.8, 0.915])\n",
    "plt.ylabel(\"Accuracy\")\n",
    "plt.legend(loc='lower right')\n",
    "plt.title(\"Train and Test Accuracy for various Optimizer functions in ANN\")"
   ]
  }
 ],
 "metadata": {
  "kernelspec": {
   "display_name": "Python 3",
   "language": "python",
   "name": "python3"
  },
  "language_info": {
   "codemirror_mode": {
    "name": "ipython",
    "version": 3
   },
   "file_extension": ".py",
   "mimetype": "text/x-python",
   "name": "python",
   "nbconvert_exporter": "python",
   "pygments_lexer": "ipython3",
   "version": "3.7.1"
  }
 },
 "nbformat": 4,
 "nbformat_minor": 2
}
